{
 "cells": [
  {
   "cell_type": "code",
   "execution_count": 1,
   "id": "6a116e52-459f-4856-9b85-2cde0ca57560",
   "metadata": {
    "tags": []
   },
   "outputs": [],
   "source": [
    "import numpy as np\n",
    "import pickle\n",
    "import anndata as ad\n",
    "from sklearn.model_selection import train_test_split\n",
    "import warnings\n",
    "import copy\n",
    "\n",
    "from data.data_process import data_process\n",
    "from model.deconv_model_with_stage_2 import MBdeconv\n",
    "from model.utils import *\n",
    "from model.stage2 import *\n",
    "\n",
    "seed = 2021\n",
    "torch.manual_seed(seed)\n",
    "np.random.seed(seed)\n",
    "\n",
    "# 在使用GPU时，还可以设置以下代码来确保结果的一致性\n",
    "torch.backends.cudnn.deterministic = True\n",
    "torch.backends.cudnn.benchmark = False\n",
    "warnings.filterwarnings(\"ignore\")"
   ]
  },
  {
   "cell_type": "markdown",
   "id": "449a49ba-1731-48eb-8882-61eaf707812a",
   "metadata": {},
   "source": [
    "# data "
   ]
  },
  {
   "cell_type": "code",
   "execution_count": 2,
   "id": "217f3f37-74b3-4bd3-8a1e-b025d9afc84c",
   "metadata": {
    "tags": []
   },
   "outputs": [],
   "source": [
    "# Define the cell types of interest and read the corresponding single-cell matrix data.\n",
    "type_list = ['Luminal_Macrophages', 'Type 2 alveolar', 'Fibroblasts', 'Dendritic cells']\n",
    "noise = ['Neutrophils']\n",
    "train_data_file = 'data/lung_rna/296C_train.h5ad'\n",
    "test_data_file = 'data/lung_rna/302C_test.h5ad'\n",
    "train_data = ad.read_h5ad(train_data_file)\n",
    "test_data = ad.read_h5ad(test_data_file)"
   ]
  },
  {
   "cell_type": "code",
   "execution_count": 3,
   "id": "034f0224-cebc-489a-9622-0c201ceb0a6a",
   "metadata": {
    "tags": []
   },
   "outputs": [
    {
     "name": "stdout",
     "output_type": "stream",
     "text": [
      "selected cells: View of AnnData object with n_obs × n_vars = 3601 × 3346\n",
      "    obs: 'Sample', 'Donor', 'Source', 'Location', 'CellType', 'BroadCellType'\n",
      "    var: 'highly_variable', 'means', 'dispersions', 'dispersions_norm'\n",
      "    uns: 'leiden', 'neighbors_hm', 'pca'\n",
      "    obsm: 'X_umap_hm'\n",
      "    varm: 'PCs'\n",
      "noise cells: View of AnnData object with n_obs × n_vars = 293 × 3346\n",
      "    obs: 'Sample', 'Donor', 'Source', 'Location', 'CellType', 'BroadCellType'\n",
      "    var: 'highly_variable', 'means', 'dispersions', 'dispersions_norm'\n",
      "    uns: 'leiden', 'neighbors_hm', 'pca'\n",
      "    obsm: 'X_umap_hm'\n",
      "    varm: 'PCs'\n"
     ]
    }
   ],
   "source": [
    "# Select the corresponding cells based on the cell types of interest.\n",
    "if noise:\n",
    "    data_h5ad_noise = test_data[test_data.obs['CellType'].isin(noise)]\n",
    "    data_h5ad_noise.obs.reset_index(drop=True, inplace=True)\n",
    "# extract selected cells \n",
    "train_data = train_data[train_data.obs['CellType'].isin(type_list)]\n",
    "train_data.obs.reset_index(drop=True, inplace=True)\n",
    "test_data = test_data[test_data.obs['CellType'].isin(type_list)]\n",
    "test_data.obs.reset_index(drop=True, inplace=True)\n",
    "print('selected cells:', train_data)\n",
    "print('noise cells:', data_h5ad_noise)"
   ]
  },
  {
   "cell_type": "code",
   "execution_count": 4,
   "id": "d24c4dc6-5868-4a50-9013-606a539a7c18",
   "metadata": {
    "tags": []
   },
   "outputs": [],
   "source": [
    "# Define the key parameters in the simulated experiment, \n",
    "# including the number of training and testing data entries and \n",
    "# the capacity of pseudo-organized cells. The number of artificial noise cells \n",
    "# used in stage three of the mixing phase is typically set to be the same as that of the pseudotissue cells.\n",
    "\n",
    "dp = data_process(type_list, train_sample_num=6000, tissue_name='lung_rna', \n",
    "                  test_sample_num=1000, sample_size=30, num_artificial_cells=30)"
   ]
  },
  {
   "cell_type": "code",
   "execution_count": 5,
   "id": "3b0ac43f-7280-4445-ba4a-72659707173d",
   "metadata": {
    "tags": []
   },
   "outputs": [
    {
     "name": "stdout",
     "output_type": "stream",
     "text": [
      "Generating artificial cells...\n",
      "Generating train pseudo_bulk samples...\n"
     ]
    },
    {
     "name": "stderr",
     "output_type": "stream",
     "text": [
      "train Samples: 100%|██████████| 6000/6000 [01:38<00:00, 61.18it/s]\n"
     ]
    },
    {
     "name": "stdout",
     "output_type": "stream",
     "text": [
      "Generating test pseudo_bulk samples...\n"
     ]
    },
    {
     "name": "stderr",
     "output_type": "stream",
     "text": [
      "test Samples: 100%|██████████| 1000/1000 [00:13<00:00, 75.05it/s]\n"
     ]
    },
    {
     "name": "stdout",
     "output_type": "stream",
     "text": [
      "The data processing is complete\n"
     ]
    }
   ],
   "source": [
    "# data_h5ad_noise is a dataset used to add unknown cell types to the test dataset\n",
    "dp.fit(train_data, test_data, data_h5ad_noise)"
   ]
  },
  {
   "cell_type": "code",
   "execution_count": 6,
   "id": "61ac973e-4c49-4f3c-9b8c-d45c7a1fc117",
   "metadata": {
    "tags": []
   },
   "outputs": [],
   "source": [
    "# Read the dataset, where train is used for training, test is a mixed test set from different donors,\n",
    "# and test_with_noise contains unseen cells from train mixed in different proportions, \n",
    "# with the same labels as the test set\n",
    "\n",
    "with open(f'data/lung_rna/lung_rna{len(type_list)}cell.pkl', 'rb') as f:\n",
    "    train = pickle.load(f)\n",
    "    test = pickle.load(f)\n",
    "    test_with_noise = pickle.load(f)"
   ]
  },
  {
   "cell_type": "code",
   "execution_count": 7,
   "id": "c837d0a1-8d4b-4982-9826-d35b64d7cb91",
   "metadata": {
    "tags": []
   },
   "outputs": [
    {
     "name": "stdout",
     "output_type": "stream",
     "text": [
      "AnnData object with n_obs × n_vars = 5000 × 3346\n",
      "    obs: 'Luminal_Macrophages', 'Type 2 alveolar', 'Fibroblasts', 'Dendritic cells'\n",
      "    uns: 'cell_types'\n",
      "AnnData object with n_obs × n_vars = 1000 × 3346\n",
      "    obs: 'Luminal_Macrophages', 'Type 2 alveolar', 'Fibroblasts', 'Dendritic cells'\n",
      "    uns: 'cell_types'\n",
      "AnnData object with n_obs × n_vars = 1000 × 3346\n",
      "    obs: 'Luminal_Macrophages', 'Type 2 alveolar', 'Fibroblasts', 'Dendritic cells'\n",
      "    uns: 'cell_types'\n"
     ]
    }
   ],
   "source": [
    "train_x_sim, train_with_noise_1, train_with_noise_2, train_y = train\n",
    "test_x_sim, test_y = test\n",
    "\n",
    "# Partition a portion of the test dataset for evaluating performance to serve the early stopping mechanism.\n",
    "valid_size = 1000  \n",
    "\n",
    "# 切片操作  \n",
    "valid_x_sim = train_x_sim[:valid_size]  \n",
    "valid_with_noise_1 = train_with_noise_1[:valid_size]  \n",
    "valid_with_noise_2 = train_with_noise_2[:valid_size]  \n",
    "valid_y = train_y[:valid_size]  \n",
    "\n",
    "train_x_sim = train_x_sim[valid_size:]  \n",
    "train_with_noise_1 = train_with_noise_1[valid_size:]  \n",
    "train_with_noise_2 = train_with_noise_2[valid_size:]  \n",
    "train_y = train_y[valid_size:]  \n",
    "\n",
    "test_dataset = TestCustomDataset(test_x_sim, test_y)\n",
    "valid_dataset = TestCustomDataset(valid_x_sim, valid_y)\n",
    "test_dataloader = DataLoader(test_dataset, batch_size=64, shuffle=False)\n",
    "valid_dataloader = DataLoader(valid_dataset, batch_size=64, shuffle=False)\n",
    "\n",
    "train_dataset = TrainCustomDataset(train_x_sim, train_with_noise_1, train_with_noise_2, train_y)\n",
    "train_dataloader = DataLoader(train_dataset, batch_size=64, shuffle=True)\n",
    "\n",
    "\n",
    "source_data = data2h5ad(train_x_sim, train_y, type_list)\n",
    "target_data = data2h5ad(test_x_sim, test_y, type_list)\n",
    "valid_data = data2h5ad(valid_x_sim, valid_y, type_list)"
   ]
  },
  {
   "cell_type": "markdown",
   "id": "b08ce0a8-df81-427b-8fde-2969bd0df5e9",
   "metadata": {},
   "source": [
    "# model"
   ]
  },
  {
   "cell_type": "code",
   "execution_count": 8,
   "id": "882591d9-fa85-49af-a244-f2b329f37d86",
   "metadata": {
    "tags": []
   },
   "outputs": [],
   "source": [
    "num_feat = 3346\n",
    "feat_map_w = 256\n",
    "feat_map_h = 10\n",
    "num_cell_type = len(type_list)\n",
    "patience = 10\n",
    "epoches = 200\n",
    "Alpha = 1\n",
    "Beta = 1\n",
    "model_save_name = 'lung_rna'"
   ]
  },
  {
   "cell_type": "code",
   "execution_count": 9,
   "id": "a3789eac-bf90-4278-bebc-ed11bd9aeb4b",
   "metadata": {
    "collapsed": true,
    "jupyter": {
     "outputs_hidden": true
    },
    "tags": []
   },
   "outputs": [
    {
     "name": "stdout",
     "output_type": "stream",
     "text": [
      "\n",
      "\u001b[36m===== Starting Training (Total Epochs: 200) =====\n",
      "Patience for early stopping: 3 epochs\n",
      "Batch size: 50, Learning rate: 0.0001\u001b[0m\n",
      "\n"
     ]
    },
    {
     "name": "stderr",
     "output_type": "stream",
     "text": [
      "Epoch 1/200: 100%|██████████| 100/100 batches\n"
     ]
    },
    {
     "name": "stdout",
     "output_type": "stream",
     "text": [
      "\u001b[36m[Ep 1] | Pred: \u001b[32m0.0200\u001b[0m | Disc: 1.3869 | Disc_DA: 1.3870 | Valid RMSE: \u001b[32m0.1388\u001b[0m\n",
      "  \u001b[35m★ New best RMSE! Model saved.\u001b[0m\n"
     ]
    },
    {
     "name": "stderr",
     "output_type": "stream",
     "text": [
      "Epoch 2/200: 100%|██████████| 100/100 batches\n"
     ]
    },
    {
     "name": "stdout",
     "output_type": "stream",
     "text": [
      "\u001b[36m[Ep 2] | Pred: \u001b[32m0.0168\u001b[0m | Disc: 1.3874 | Disc_DA: 1.3863 | Valid RMSE: \u001b[32m0.1049\u001b[0m\n",
      "  \u001b[35m★ New best RMSE! Model saved.\u001b[0m\n"
     ]
    },
    {
     "name": "stderr",
     "output_type": "stream",
     "text": [
      "Epoch 3/200: 100%|██████████| 100/100 batches\n"
     ]
    },
    {
     "name": "stdout",
     "output_type": "stream",
     "text": [
      "\u001b[36m[Ep 3] | Pred: \u001b[32m0.0095\u001b[0m | Disc: 1.3876 | Disc_DA: 1.3862 | Valid RMSE: \u001b[32m0.0686\u001b[0m\n",
      "  \u001b[35m★ New best RMSE! Model saved.\u001b[0m\n"
     ]
    },
    {
     "name": "stderr",
     "output_type": "stream",
     "text": [
      "Epoch 4/200: 100%|██████████| 100/100 batches\n"
     ]
    },
    {
     "name": "stdout",
     "output_type": "stream",
     "text": [
      "\u001b[36m[Ep 4] | Pred: \u001b[32m0.0058\u001b[0m | Disc: 1.3889 | Disc_DA: 1.3853 | Valid RMSE: \u001b[32m0.0518\u001b[0m\n",
      "  \u001b[35m★ New best RMSE! Model saved.\u001b[0m\n"
     ]
    },
    {
     "name": "stderr",
     "output_type": "stream",
     "text": [
      "Epoch 5/200: 100%|██████████| 100/100 batches\n"
     ]
    },
    {
     "name": "stdout",
     "output_type": "stream",
     "text": [
      "\u001b[36m[Ep 5] | Pred: \u001b[32m0.0028\u001b[0m | Disc: 1.3878 | Disc_DA: 1.3860 | Valid RMSE: \u001b[32m0.0381\u001b[0m\n",
      "  \u001b[35m★ New best RMSE! Model saved.\u001b[0m\n"
     ]
    },
    {
     "name": "stderr",
     "output_type": "stream",
     "text": [
      "Epoch 6/200: 100%|██████████| 100/100 batches\n"
     ]
    },
    {
     "name": "stdout",
     "output_type": "stream",
     "text": [
      "\u001b[36m[Ep 6] | Pred: \u001b[32m0.0023\u001b[0m | Disc: 1.3885 | Disc_DA: 1.3858 | Valid RMSE: \u001b[32m0.0351\u001b[0m\n",
      "  \u001b[35m★ New best RMSE! Model saved.\u001b[0m\n"
     ]
    },
    {
     "name": "stderr",
     "output_type": "stream",
     "text": [
      "Epoch 7/200: 100%|██████████| 100/100 batches\n"
     ]
    },
    {
     "name": "stdout",
     "output_type": "stream",
     "text": [
      "\u001b[36m[Ep 7] | Pred: \u001b[32m0.0020\u001b[0m | Disc: 1.3878 | Disc_DA: 1.3856 | Valid RMSE: \u001b[32m0.0327\u001b[0m\n",
      "  \u001b[35m★ New best RMSE! Model saved.\u001b[0m\n"
     ]
    },
    {
     "name": "stderr",
     "output_type": "stream",
     "text": [
      "Epoch 8/200: 100%|██████████| 100/100 batches\n"
     ]
    },
    {
     "name": "stdout",
     "output_type": "stream",
     "text": [
      "\u001b[36m[Ep 8] | Pred: \u001b[32m0.0017\u001b[0m | Disc: 1.3884 | Disc_DA: 1.3851 | Valid RMSE: \u001b[32m0.0287\u001b[0m\n",
      "  \u001b[35m★ New best RMSE! Model saved.\u001b[0m\n"
     ]
    },
    {
     "name": "stderr",
     "output_type": "stream",
     "text": [
      "Epoch 9/200: 100%|██████████| 100/100 batches\n"
     ]
    },
    {
     "name": "stdout",
     "output_type": "stream",
     "text": [
      "\u001b[36m[Ep 9] | Pred: \u001b[32m0.0016\u001b[0m | Disc: 1.3878 | Disc_DA: 1.3853 | Valid RMSE: \u001b[32m0.0280\u001b[0m\n",
      "  \u001b[35m★ New best RMSE! Model saved.\u001b[0m\n"
     ]
    },
    {
     "name": "stderr",
     "output_type": "stream",
     "text": [
      "Epoch 10/200: 100%|██████████| 100/100 batches\n"
     ]
    },
    {
     "name": "stdout",
     "output_type": "stream",
     "text": [
      "\u001b[36m[Ep 10] | Pred: \u001b[32m0.0015\u001b[0m | Disc: 1.3878 | Disc_DA: 1.3857 | Valid RMSE: \u001b[32m0.0268\u001b[0m\n",
      "  \u001b[35m★ New best RMSE! Model saved.\u001b[0m\n"
     ]
    },
    {
     "name": "stderr",
     "output_type": "stream",
     "text": [
      "Epoch 11/200: 100%|██████████| 100/100 batches\n"
     ]
    },
    {
     "name": "stdout",
     "output_type": "stream",
     "text": [
      "\u001b[36m[Ep 11] | Pred: \u001b[32m0.0014\u001b[0m | Disc: 1.3872 | Disc_DA: 1.3852 | Valid RMSE: \u001b[32m0.0258\u001b[0m\n",
      "  \u001b[35m★ New best RMSE! Model saved.\u001b[0m\n"
     ]
    },
    {
     "name": "stderr",
     "output_type": "stream",
     "text": [
      "Epoch 12/200: 100%|██████████| 100/100 batches\n"
     ]
    },
    {
     "name": "stdout",
     "output_type": "stream",
     "text": [
      "\u001b[36m[Ep 12] | Pred: \u001b[32m0.0012\u001b[0m | Disc: 1.3878 | Disc_DA: 1.3858 | Valid RMSE: \u001b[32m0.0269\u001b[0m\n",
      "  \u001b[33m↯ No improvement (1/3)\u001b[0m\n"
     ]
    },
    {
     "name": "stderr",
     "output_type": "stream",
     "text": [
      "Epoch 13/200: 100%|██████████| 100/100 batches\n"
     ]
    },
    {
     "name": "stdout",
     "output_type": "stream",
     "text": [
      "\u001b[36m[Ep 13] | Pred: \u001b[32m0.0012\u001b[0m | Disc: 1.3876 | Disc_DA: 1.3857 | Valid RMSE: \u001b[32m0.0263\u001b[0m\n",
      "  \u001b[33m↯ No improvement (2/3)\u001b[0m\n"
     ]
    },
    {
     "name": "stderr",
     "output_type": "stream",
     "text": [
      "Epoch 14/200: 100%|██████████| 100/100 batches\n"
     ]
    },
    {
     "name": "stdout",
     "output_type": "stream",
     "text": [
      "\u001b[36m[Ep 14] | Pred: \u001b[32m0.0010\u001b[0m | Disc: 1.3878 | Disc_DA: 1.3854 | Valid RMSE: \u001b[32m0.0223\u001b[0m\n",
      "  \u001b[35m★ New best RMSE! Model saved.\u001b[0m\n"
     ]
    },
    {
     "name": "stderr",
     "output_type": "stream",
     "text": [
      "Epoch 15/200: 100%|██████████| 100/100 batches\n"
     ]
    },
    {
     "name": "stdout",
     "output_type": "stream",
     "text": [
      "\u001b[36m[Ep 15] | Pred: \u001b[32m0.0010\u001b[0m | Disc: 1.3876 | Disc_DA: 1.3853 | Valid RMSE: \u001b[32m0.0216\u001b[0m\n",
      "  \u001b[35m★ New best RMSE! Model saved.\u001b[0m\n"
     ]
    },
    {
     "name": "stderr",
     "output_type": "stream",
     "text": [
      "Epoch 16/200: 100%|██████████| 100/100 batches\n"
     ]
    },
    {
     "name": "stdout",
     "output_type": "stream",
     "text": [
      "\u001b[36m[Ep 16] | Pred: \u001b[32m0.0010\u001b[0m | Disc: 1.3881 | Disc_DA: 1.3854 | Valid RMSE: \u001b[32m0.0232\u001b[0m\n",
      "  \u001b[33m↯ No improvement (1/3)\u001b[0m\n"
     ]
    },
    {
     "name": "stderr",
     "output_type": "stream",
     "text": [
      "Epoch 17/200: 100%|██████████| 100/100 batches\n"
     ]
    },
    {
     "name": "stdout",
     "output_type": "stream",
     "text": [
      "\u001b[36m[Ep 17] | Pred: \u001b[32m0.0009\u001b[0m | Disc: 1.3874 | Disc_DA: 1.3852 | Valid RMSE: \u001b[32m0.0209\u001b[0m\n",
      "  \u001b[35m★ New best RMSE! Model saved.\u001b[0m\n"
     ]
    },
    {
     "name": "stderr",
     "output_type": "stream",
     "text": [
      "Epoch 18/200: 100%|██████████| 100/100 batches\n"
     ]
    },
    {
     "name": "stdout",
     "output_type": "stream",
     "text": [
      "\u001b[36m[Ep 18] | Pred: \u001b[32m0.0010\u001b[0m | Disc: 1.3878 | Disc_DA: 1.3853 | Valid RMSE: \u001b[32m0.0221\u001b[0m\n",
      "  \u001b[33m↯ No improvement (1/3)\u001b[0m\n"
     ]
    },
    {
     "name": "stderr",
     "output_type": "stream",
     "text": [
      "Epoch 19/200: 100%|██████████| 100/100 batches\n"
     ]
    },
    {
     "name": "stdout",
     "output_type": "stream",
     "text": [
      "\u001b[36m[Ep 19] | Pred: \u001b[32m0.0009\u001b[0m | Disc: 1.3881 | Disc_DA: 1.3854 | Valid RMSE: \u001b[32m0.0210\u001b[0m\n",
      "  \u001b[33m↯ No improvement (2/3)\u001b[0m\n"
     ]
    },
    {
     "name": "stderr",
     "output_type": "stream",
     "text": [
      "Epoch 20/200: 100%|██████████| 100/100 batches\n"
     ]
    },
    {
     "name": "stdout",
     "output_type": "stream",
     "text": [
      "\u001b[36m[Ep 20] | Pred: \u001b[32m0.0009\u001b[0m | Disc: 1.3874 | Disc_DA: 1.3860 | Valid RMSE: \u001b[32m0.0231\u001b[0m\n",
      "  \u001b[33m↯ No improvement (3/3)\u001b[0m\n",
      "\u001b[36m\n",
      "Early stopping triggered at epoch 20!\n",
      "Best RMSE achieved: 0.0209\u001b[0m\n",
      "\n",
      "\n",
      "\u001b[36m===== Training Complete! =====\n",
      "Total epochs: 20/200\n",
      "Best RMSE: \u001b[35m0.0209\u001b[0m\n",
      "Final losses: Pred=0.0009, Disc=1.3874, Disc_DA=1.3860\n",
      "===============================\n",
      "\u001b[0m\n"
     ]
    }
   ],
   "source": [
    "# Train stage 2, returning the training loss and the best encoder parameters.\n",
    "model_da = DANN(epoches, 50, 0.0001)\n",
    "pred_loss, disc_loss, disc_loss_DA, best_model_weights = model_da.train(source_data, target_data, valid_data, patience = 3) "
   ]
  },
  {
   "cell_type": "code",
   "execution_count": 10,
   "id": "52ea2ba9-1ab0-4d5d-8ec3-c7bf932f5dd8",
   "metadata": {
    "tags": []
   },
   "outputs": [],
   "source": [
    "model = MBdeconv(num_feat, feat_map_w, feat_map_h, num_cell_type, epoches, Alpha, Beta, train_dataloader, test_dataloader)"
   ]
  },
  {
   "cell_type": "code",
   "execution_count": 11,
   "id": "633054f3-a478-45a2-8c04-64377f342051",
   "metadata": {
    "collapsed": true,
    "jupyter": {
     "outputs_hidden": true
    },
    "tags": []
   },
   "outputs": [
    {
     "name": "stdout",
     "output_type": "stream",
     "text": [
      "\n",
      "\u001b[36m===== Starting Training (Total Epochs: 200) =====\n",
      "Patience for early stopping: 10 epochs\u001b[0m\n",
      "\n"
     ]
    },
    {
     "name": "stderr",
     "output_type": "stream",
     "text": [
      "Epoch 1/200: 100%|██████████| 79/79 batches\n"
     ]
    },
    {
     "name": "stdout",
     "output_type": "stream",
     "text": [
      "\u001b[36m[Ep 1] 1.8s | Loss: \u001b[32m4.1186\u001b[0m (L1: 0.0194, L2: 0.0194, NCE: 8.1495) | Test: RMSE=\u001b[32m0.0458\u001b[0m, MAE=\u001b[32m0.0368\u001b[0m\n",
      "  \u001b[35m★ New best RMSE! Model saved.\u001b[0m\n"
     ]
    },
    {
     "name": "stderr",
     "output_type": "stream",
     "text": [
      "Epoch 2/200: 100%|██████████| 79/79 batches\n"
     ]
    },
    {
     "name": "stdout",
     "output_type": "stream",
     "text": [
      "\u001b[36m[Ep 2] 3.1s | Loss: \u001b[32m3.7292\u001b[0m (L1: 0.0063, L2: 0.0062, NCE: 7.4296) | Test: RMSE=\u001b[32m0.0371\u001b[0m, MAE=\u001b[32m0.0281\u001b[0m\n",
      "  \u001b[35m★ New best RMSE! Model saved.\u001b[0m\n"
     ]
    },
    {
     "name": "stderr",
     "output_type": "stream",
     "text": [
      "Epoch 3/200: 100%|██████████| 79/79 batches\n"
     ]
    },
    {
     "name": "stdout",
     "output_type": "stream",
     "text": [
      "\u001b[36m[Ep 3] 4.5s | Loss: \u001b[32m3.4641\u001b[0m (L1: 0.0012, L2: 0.0012, NCE: 6.9214) | Test: RMSE=\u001b[32m0.0308\u001b[0m, MAE=\u001b[32m0.0225\u001b[0m\n",
      "  \u001b[35m★ New best RMSE! Model saved.\u001b[0m\n"
     ]
    },
    {
     "name": "stderr",
     "output_type": "stream",
     "text": [
      "Epoch 4/200: 100%|██████████| 79/79 batches\n"
     ]
    },
    {
     "name": "stdout",
     "output_type": "stream",
     "text": [
      "\u001b[36m[Ep 4] 5.8s | Loss: \u001b[32m3.4263\u001b[0m (L1: 0.0009, L2: 0.0009, NCE: 6.8473) | Test: RMSE=\u001b[32m0.0297\u001b[0m, MAE=\u001b[32m0.0213\u001b[0m\n",
      "  \u001b[35m★ New best RMSE! Model saved.\u001b[0m\n"
     ]
    },
    {
     "name": "stderr",
     "output_type": "stream",
     "text": [
      "Epoch 5/200: 100%|██████████| 79/79 batches\n"
     ]
    },
    {
     "name": "stdout",
     "output_type": "stream",
     "text": [
      "\u001b[36m[Ep 5] 7.2s | Loss: \u001b[32m3.4335\u001b[0m (L1: 0.0008, L2: 0.0009, NCE: 6.8620) | Test: RMSE=\u001b[32m0.0290\u001b[0m, MAE=\u001b[32m0.0210\u001b[0m\n",
      "  \u001b[35m★ New best RMSE! Model saved.\u001b[0m\n"
     ]
    },
    {
     "name": "stderr",
     "output_type": "stream",
     "text": [
      "Epoch 6/200: 100%|██████████| 79/79 batches\n"
     ]
    },
    {
     "name": "stdout",
     "output_type": "stream",
     "text": [
      "\u001b[36m[Ep 6] 8.6s | Loss: \u001b[32m3.3147\u001b[0m (L1: 0.0008, L2: 0.0008, NCE: 6.6248) | Test: RMSE=\u001b[32m0.0291\u001b[0m, MAE=\u001b[32m0.0209\u001b[0m\n",
      "  \u001b[33m↯ No improvement (1/10)\u001b[0m\n"
     ]
    },
    {
     "name": "stderr",
     "output_type": "stream",
     "text": [
      "Epoch 7/200: 100%|██████████| 79/79 batches\n"
     ]
    },
    {
     "name": "stdout",
     "output_type": "stream",
     "text": [
      "\u001b[36m[Ep 7] 10.1s | Loss: \u001b[32m3.3577\u001b[0m (L1: 0.0008, L2: 0.0008, NCE: 6.7108) | Test: RMSE=\u001b[32m0.0308\u001b[0m, MAE=\u001b[32m0.0222\u001b[0m\n",
      "  \u001b[33m↯ No improvement (2/10)\u001b[0m\n"
     ]
    },
    {
     "name": "stderr",
     "output_type": "stream",
     "text": [
      "Epoch 8/200: 100%|██████████| 79/79 batches\n"
     ]
    },
    {
     "name": "stdout",
     "output_type": "stream",
     "text": [
      "\u001b[36m[Ep 8] 11.5s | Loss: \u001b[32m3.3573\u001b[0m (L1: 0.0008, L2: 0.0007, NCE: 6.7103) | Test: RMSE=\u001b[32m0.0295\u001b[0m, MAE=\u001b[32m0.0225\u001b[0m\n",
      "  \u001b[33m↯ No improvement (3/10)\u001b[0m\n"
     ]
    },
    {
     "name": "stderr",
     "output_type": "stream",
     "text": [
      "Epoch 9/200: 100%|██████████| 79/79 batches\n"
     ]
    },
    {
     "name": "stdout",
     "output_type": "stream",
     "text": [
      "\u001b[36m[Ep 9] 12.9s | Loss: \u001b[32m3.2899\u001b[0m (L1: 0.0008, L2: 0.0008, NCE: 6.5753) | Test: RMSE=\u001b[32m0.0285\u001b[0m, MAE=\u001b[32m0.0211\u001b[0m\n",
      "  \u001b[35m★ New best RMSE! Model saved.\u001b[0m\n"
     ]
    },
    {
     "name": "stderr",
     "output_type": "stream",
     "text": [
      "Epoch 10/200: 100%|██████████| 79/79 batches\n"
     ]
    },
    {
     "name": "stdout",
     "output_type": "stream",
     "text": [
      "\u001b[36m[Ep 10] 14.4s | Loss: \u001b[32m3.3256\u001b[0m (L1: 0.0007, L2: 0.0007, NCE: 6.6472) | Test: RMSE=\u001b[32m0.0294\u001b[0m, MAE=\u001b[32m0.0211\u001b[0m\n",
      "  \u001b[33m↯ No improvement (1/10)\u001b[0m\n"
     ]
    },
    {
     "name": "stderr",
     "output_type": "stream",
     "text": [
      "Epoch 11/200: 100%|██████████| 79/79 batches\n"
     ]
    },
    {
     "name": "stdout",
     "output_type": "stream",
     "text": [
      "\u001b[36m[Ep 11] 15.9s | Loss: \u001b[32m3.3107\u001b[0m (L1: 0.0007, L2: 0.0007, NCE: 6.6175) | Test: RMSE=\u001b[32m0.0290\u001b[0m, MAE=\u001b[32m0.0209\u001b[0m\n",
      "  \u001b[33m↯ No improvement (2/10)\u001b[0m\n"
     ]
    },
    {
     "name": "stderr",
     "output_type": "stream",
     "text": [
      "Epoch 12/200: 100%|██████████| 79/79 batches\n"
     ]
    },
    {
     "name": "stdout",
     "output_type": "stream",
     "text": [
      "\u001b[36m[Ep 12] 17.3s | Loss: \u001b[32m3.2924\u001b[0m (L1: 0.0007, L2: 0.0007, NCE: 6.5808) | Test: RMSE=\u001b[32m0.0305\u001b[0m, MAE=\u001b[32m0.0217\u001b[0m\n",
      "  \u001b[33m↯ No improvement (3/10)\u001b[0m\n"
     ]
    },
    {
     "name": "stderr",
     "output_type": "stream",
     "text": [
      "Epoch 13/200: 100%|██████████| 79/79 batches\n"
     ]
    },
    {
     "name": "stdout",
     "output_type": "stream",
     "text": [
      "\u001b[36m[Ep 13] 18.8s | Loss: \u001b[32m3.2862\u001b[0m (L1: 0.0007, L2: 0.0007, NCE: 6.5684) | Test: RMSE=\u001b[32m0.0336\u001b[0m, MAE=\u001b[32m0.0233\u001b[0m\n",
      "  \u001b[33m↯ No improvement (4/10)\u001b[0m\n"
     ]
    },
    {
     "name": "stderr",
     "output_type": "stream",
     "text": [
      "Epoch 14/200: 100%|██████████| 79/79 batches\n"
     ]
    },
    {
     "name": "stdout",
     "output_type": "stream",
     "text": [
      "\u001b[36m[Ep 14] 20.3s | Loss: \u001b[32m3.2864\u001b[0m (L1: 0.0007, L2: 0.0007, NCE: 6.5689) | Test: RMSE=\u001b[32m0.0291\u001b[0m, MAE=\u001b[32m0.0206\u001b[0m\n",
      "  \u001b[33m↯ No improvement (5/10)\u001b[0m\n"
     ]
    },
    {
     "name": "stderr",
     "output_type": "stream",
     "text": [
      "Epoch 15/200: 100%|██████████| 79/79 batches\n"
     ]
    },
    {
     "name": "stdout",
     "output_type": "stream",
     "text": [
      "\u001b[36m[Ep 15] 21.7s | Loss: \u001b[32m3.2532\u001b[0m (L1: 0.0006, L2: 0.0006, NCE: 6.5026) | Test: RMSE=\u001b[32m0.0287\u001b[0m, MAE=\u001b[32m0.0205\u001b[0m\n",
      "  \u001b[33m↯ No improvement (6/10)\u001b[0m\n"
     ]
    },
    {
     "name": "stderr",
     "output_type": "stream",
     "text": [
      "Epoch 16/200: 100%|██████████| 79/79 batches\n"
     ]
    },
    {
     "name": "stdout",
     "output_type": "stream",
     "text": [
      "\u001b[36m[Ep 16] 23.1s | Loss: \u001b[32m3.2771\u001b[0m (L1: 0.0007, L2: 0.0006, NCE: 6.5504) | Test: RMSE=\u001b[32m0.0303\u001b[0m, MAE=\u001b[32m0.0217\u001b[0m\n",
      "  \u001b[33m↯ No improvement (7/10)\u001b[0m\n"
     ]
    },
    {
     "name": "stderr",
     "output_type": "stream",
     "text": [
      "Epoch 17/200: 100%|██████████| 79/79 batches\n"
     ]
    },
    {
     "name": "stdout",
     "output_type": "stream",
     "text": [
      "\u001b[36m[Ep 17] 24.5s | Loss: \u001b[32m3.2360\u001b[0m (L1: 0.0006, L2: 0.0006, NCE: 6.4683) | Test: RMSE=\u001b[32m0.0278\u001b[0m, MAE=\u001b[32m0.0197\u001b[0m\n",
      "  \u001b[35m★ New best RMSE! Model saved.\u001b[0m\n"
     ]
    },
    {
     "name": "stderr",
     "output_type": "stream",
     "text": [
      "Epoch 18/200: 100%|██████████| 79/79 batches\n"
     ]
    },
    {
     "name": "stdout",
     "output_type": "stream",
     "text": [
      "\u001b[36m[Ep 18] 26.0s | Loss: \u001b[32m3.2438\u001b[0m (L1: 0.0006, L2: 0.0006, NCE: 6.4838) | Test: RMSE=\u001b[32m0.0316\u001b[0m, MAE=\u001b[32m0.0220\u001b[0m\n",
      "  \u001b[33m↯ No improvement (1/10)\u001b[0m\n"
     ]
    },
    {
     "name": "stderr",
     "output_type": "stream",
     "text": [
      "Epoch 19/200: 100%|██████████| 79/79 batches\n"
     ]
    },
    {
     "name": "stdout",
     "output_type": "stream",
     "text": [
      "\u001b[36m[Ep 19] 27.4s | Loss: \u001b[32m3.2001\u001b[0m (L1: 0.0006, L2: 0.0006, NCE: 6.3965) | Test: RMSE=\u001b[32m0.0277\u001b[0m, MAE=\u001b[32m0.0198\u001b[0m\n",
      "  \u001b[35m★ New best RMSE! Model saved.\u001b[0m\n"
     ]
    },
    {
     "name": "stderr",
     "output_type": "stream",
     "text": [
      "Epoch 20/200: 100%|██████████| 79/79 batches\n"
     ]
    },
    {
     "name": "stdout",
     "output_type": "stream",
     "text": [
      "\u001b[36m[Ep 20] 28.8s | Loss: \u001b[32m3.2008\u001b[0m (L1: 0.0006, L2: 0.0006, NCE: 6.3980) | Test: RMSE=\u001b[32m0.0276\u001b[0m, MAE=\u001b[32m0.0196\u001b[0m\n",
      "  \u001b[35m★ New best RMSE! Model saved.\u001b[0m\n"
     ]
    },
    {
     "name": "stderr",
     "output_type": "stream",
     "text": [
      "Epoch 21/200: 100%|██████████| 79/79 batches\n"
     ]
    },
    {
     "name": "stdout",
     "output_type": "stream",
     "text": [
      "\u001b[36m[Ep 21] 30.2s | Loss: \u001b[32m3.1928\u001b[0m (L1: 0.0006, L2: 0.0006, NCE: 6.3820) | Test: RMSE=\u001b[32m0.0281\u001b[0m, MAE=\u001b[32m0.0202\u001b[0m\n",
      "  \u001b[33m↯ No improvement (1/10)\u001b[0m\n"
     ]
    },
    {
     "name": "stderr",
     "output_type": "stream",
     "text": [
      "Epoch 22/200: 100%|██████████| 79/79 batches\n"
     ]
    },
    {
     "name": "stdout",
     "output_type": "stream",
     "text": [
      "\u001b[36m[Ep 22] 31.6s | Loss: \u001b[32m3.0786\u001b[0m (L1: 0.0006, L2: 0.0006, NCE: 6.1539) | Test: RMSE=\u001b[32m0.0289\u001b[0m, MAE=\u001b[32m0.0211\u001b[0m\n",
      "  \u001b[33m↯ No improvement (2/10)\u001b[0m\n"
     ]
    },
    {
     "name": "stderr",
     "output_type": "stream",
     "text": [
      "Epoch 23/200: 100%|██████████| 79/79 batches\n"
     ]
    },
    {
     "name": "stdout",
     "output_type": "stream",
     "text": [
      "\u001b[36m[Ep 23] 33.0s | Loss: \u001b[32m3.0355\u001b[0m (L1: 0.0006, L2: 0.0006, NCE: 6.0675) | Test: RMSE=\u001b[32m0.0280\u001b[0m, MAE=\u001b[32m0.0204\u001b[0m\n",
      "  \u001b[33m↯ No improvement (3/10)\u001b[0m\n"
     ]
    },
    {
     "name": "stderr",
     "output_type": "stream",
     "text": [
      "Epoch 24/200: 100%|██████████| 79/79 batches\n"
     ]
    },
    {
     "name": "stdout",
     "output_type": "stream",
     "text": [
      "\u001b[36m[Ep 24] 34.4s | Loss: \u001b[32m3.0097\u001b[0m (L1: 0.0006, L2: 0.0006, NCE: 6.0159) | Test: RMSE=\u001b[32m0.0292\u001b[0m, MAE=\u001b[32m0.0218\u001b[0m\n",
      "  \u001b[33m↯ No improvement (4/10)\u001b[0m\n"
     ]
    },
    {
     "name": "stderr",
     "output_type": "stream",
     "text": [
      "Epoch 25/200: 100%|██████████| 79/79 batches\n"
     ]
    },
    {
     "name": "stdout",
     "output_type": "stream",
     "text": [
      "\u001b[36m[Ep 25] 35.9s | Loss: \u001b[32m2.8963\u001b[0m (L1: 0.0006, L2: 0.0006, NCE: 5.7890) | Test: RMSE=\u001b[32m0.0298\u001b[0m, MAE=\u001b[32m0.0221\u001b[0m\n",
      "  \u001b[33m↯ No improvement (5/10)\u001b[0m\n"
     ]
    },
    {
     "name": "stderr",
     "output_type": "stream",
     "text": [
      "Epoch 26/200: 100%|██████████| 79/79 batches\n"
     ]
    },
    {
     "name": "stdout",
     "output_type": "stream",
     "text": [
      "\u001b[36m[Ep 26] 37.3s | Loss: \u001b[32m2.8430\u001b[0m (L1: 0.0006, L2: 0.0006, NCE: 5.6825) | Test: RMSE=\u001b[32m0.0286\u001b[0m, MAE=\u001b[32m0.0201\u001b[0m\n",
      "  \u001b[33m↯ No improvement (6/10)\u001b[0m\n"
     ]
    },
    {
     "name": "stderr",
     "output_type": "stream",
     "text": [
      "Epoch 27/200: 100%|██████████| 79/79 batches\n"
     ]
    },
    {
     "name": "stdout",
     "output_type": "stream",
     "text": [
      "\u001b[36m[Ep 27] 38.7s | Loss: \u001b[32m2.6727\u001b[0m (L1: 0.0006, L2: 0.0006, NCE: 5.3420) | Test: RMSE=\u001b[32m0.0277\u001b[0m, MAE=\u001b[32m0.0199\u001b[0m\n",
      "  \u001b[33m↯ No improvement (7/10)\u001b[0m\n"
     ]
    },
    {
     "name": "stderr",
     "output_type": "stream",
     "text": [
      "Epoch 28/200: 100%|██████████| 79/79 batches\n"
     ]
    },
    {
     "name": "stdout",
     "output_type": "stream",
     "text": [
      "\u001b[36m[Ep 28] 40.2s | Loss: \u001b[32m2.8701\u001b[0m (L1: 0.0006, L2: 0.0006, NCE: 5.7368) | Test: RMSE=\u001b[32m0.0279\u001b[0m, MAE=\u001b[32m0.0203\u001b[0m\n",
      "  \u001b[33m↯ No improvement (8/10)\u001b[0m\n"
     ]
    },
    {
     "name": "stderr",
     "output_type": "stream",
     "text": [
      "Epoch 29/200: 100%|██████████| 79/79 batches\n"
     ]
    },
    {
     "name": "stdout",
     "output_type": "stream",
     "text": [
      "\u001b[36m[Ep 29] 41.5s | Loss: \u001b[32m3.1984\u001b[0m (L1: 0.0006, L2: 0.0006, NCE: 6.3936) | Test: RMSE=\u001b[32m0.0291\u001b[0m, MAE=\u001b[32m0.0204\u001b[0m\n",
      "  \u001b[33m↯ No improvement (9/10)\u001b[0m\n"
     ]
    },
    {
     "name": "stderr",
     "output_type": "stream",
     "text": [
      "Epoch 30/200: 100%|██████████| 79/79 batches\n"
     ]
    },
    {
     "name": "stdout",
     "output_type": "stream",
     "text": [
      "\u001b[36m[Ep 30] 42.9s | Loss: \u001b[32m3.1860\u001b[0m (L1: 0.0006, L2: 0.0006, NCE: 6.3685) | Test: RMSE=\u001b[32m0.0289\u001b[0m, MAE=\u001b[32m0.0216\u001b[0m\n",
      "  \u001b[33m↯ No improvement (10/10)\u001b[0m\n",
      "\u001b[36m\n",
      "Early stopping triggered at epoch 30!\n",
      "Best RMSE achieved: 0.0276\u001b[0m\n",
      "\n",
      "\n",
      "\u001b[36m===== Training Complete! =====\n",
      "Total training time: 42.9 seconds\n",
      "Final losses: Total=3.1860, L1=0.0006, L2=0.0006, NCE=6.3685\n",
      "==============================\n",
      "\u001b[0m\n"
     ]
    }
   ],
   "source": [
    "# Train stage 3, reading the parameters of stage 2 encoder before training.\n",
    "device = torch.device('cuda')\n",
    "if model.gpu_available:\n",
    "    model = model.to(model.gpu)\n",
    "model_da.encoder_da.load_state_dict(best_model_weights['encoder'])\n",
    "encoder_params = copy.deepcopy(model_da.encoder_da.state_dict())\n",
    "model.encoder.load_state_dict(encoder_params)\n",
    "loss1_list, loss2_list, nce_loss_list = model.train_model(model_save_name, True, patience)"
   ]
  },
  {
   "cell_type": "code",
   "execution_count": 15,
   "id": "b533f810-cd86-465e-b40d-1506aac115ed",
   "metadata": {
    "tags": []
   },
   "outputs": [],
   "source": [
    "model_test = MBdeconv(num_feat, feat_map_w, feat_map_h, num_cell_type, epoches, Alpha, Beta, train_dataloader, test_dataloader)"
   ]
  },
  {
   "cell_type": "code",
   "execution_count": 16,
   "id": "a6824bfe-dbe9-4209-bbbc-fb8c66fe137b",
   "metadata": {
    "tags": []
   },
   "outputs": [],
   "source": [
    "# Perform inference on the test dataset in Stage 4 and obtain the overall CCC, RMSE, and Correlation values.\n",
    "model_test.load_state_dict(torch.load('save_models/3346/lung_rna.pt'))\n",
    "device = torch.device(\"cuda\" if torch.cuda.is_available() else \"cpu\")\n",
    "model_test.to(device)\n",
    "model_test.eval()\n",
    "CCC, RMSE, Corr, pred, gt = predict(test_dataloader, type_list, model_test, True)"
   ]
  },
  {
   "cell_type": "code",
   "execution_count": 17,
   "id": "82711140-c2a5-40b7-be00-61faee7ce8aa",
   "metadata": {
    "tags": []
   },
   "outputs": [
    {
     "data": {
      "text/plain": [
       "(0.9784067211573461, 0.027694766252091465, 0.9813103117779443)"
      ]
     },
     "execution_count": 17,
     "metadata": {},
     "output_type": "execute_result"
    }
   ],
   "source": [
    "CCC, RMSE, Corr "
   ]
  },
  {
   "cell_type": "code",
   "execution_count": null,
   "id": "aa2e6474-f096-439e-8df5-2ec85c078406",
   "metadata": {},
   "outputs": [],
   "source": []
  }
 ],
 "metadata": {
  "kernelspec": {
   "display_name": "Python 3 (ipykernel)",
   "language": "python",
   "name": "python3"
  },
  "language_info": {
   "codemirror_mode": {
    "name": "ipython",
    "version": 3
   },
   "file_extension": ".py",
   "mimetype": "text/x-python",
   "name": "python",
   "nbconvert_exporter": "python",
   "pygments_lexer": "ipython3",
   "version": "3.8.10"
  }
 },
 "nbformat": 4,
 "nbformat_minor": 5
}
