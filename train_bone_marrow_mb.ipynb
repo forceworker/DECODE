{
 "cells": [
  {
   "cell_type": "code",
   "execution_count": 1,
   "id": "28f0ec5e-6b55-47e9-ba93-f31d30c423e2",
   "metadata": {
    "tags": []
   },
   "outputs": [],
   "source": [
    "import numpy as np\n",
    "import pickle\n",
    "import anndata as ad\n",
    "from sklearn.model_selection import train_test_split\n",
    "import warnings\n",
    "\n",
    "from data.data_process import data_process\n",
    "from model.deconv_model import MBdeconv\n",
    "from model.utils import *\n",
    "\n",
    "seed = 42\n",
    "torch.manual_seed(seed)\n",
    "np.random.seed(seed)\n",
    "\n",
    "# 在使用GPU时，还可以设置以下代码来确保结果的一致性\n",
    "torch.backends.cudnn.deterministic = True\n",
    "torch.backends.cudnn.benchmark = False\n",
    "warnings.filterwarnings(\"ignore\")"
   ]
  },
  {
   "cell_type": "markdown",
   "id": "94df71cc-9088-42a6-b60e-e3c3f94053ac",
   "metadata": {},
   "source": [
    "# data"
   ]
  },
  {
   "cell_type": "code",
   "execution_count": 2,
   "id": "36b4d2dc-f74a-409e-9f6d-8b0fef2f3341",
   "metadata": {
    "tags": []
   },
   "outputs": [],
   "source": [
    "# Read data\n",
    "data_file = 'data/bone_marrow_mb/bone_marrow.h5ad'\n",
    "data_h5ad = ad.read_h5ad(data_file)"
   ]
  },
  {
   "cell_type": "code",
   "execution_count": 3,
   "id": "c7d58ae2-6f78-4318-87aa-31d3cdc44a9a",
   "metadata": {
    "tags": []
   },
   "outputs": [],
   "source": [
    "# Merge cell subtypes\n",
    "data_h5ad.obs['CellType'] = data_h5ad.obs['CellType'].replace({'HSC (catulin+)': 'HSC', 'HSC (catulin-)': 'HSC'})"
   ]
  },
  {
   "cell_type": "code",
   "execution_count": 4,
   "id": "b554795c-3f53-42a4-a417-7ad60e388acf",
   "metadata": {
    "tags": []
   },
   "outputs": [],
   "source": [
    "type_list = ['Erythroid', 'T', 'B', 'GMP', 'Myeloid']\n",
    "noise = ['HSC']"
   ]
  },
  {
   "cell_type": "code",
   "execution_count": 5,
   "id": "9cef95ef-2c61-45d5-b207-9af89ab9901f",
   "metadata": {
    "tags": []
   },
   "outputs": [
    {
     "name": "stdout",
     "output_type": "stream",
     "text": [
      "Loading data...\n",
      "selected cells: View of AnnData object with n_obs × n_vars = 653 × 107\n",
      "    obs: 'CellType'\n"
     ]
    }
   ],
   "source": [
    "# Noise cell extraction\n",
    "print(\"Loading data...\")\n",
    "# extract noise\n",
    "if noise:\n",
    "    data_h5ad_noise = data_h5ad[data_h5ad.obs['CellType'].isin(noise)]\n",
    "    data_h5ad_noise.obs.reset_index(drop=True, inplace=True)\n",
    "# extract selected cells \n",
    "data_h5ad = data_h5ad[data_h5ad.obs['CellType'].isin(type_list)]\n",
    "data_h5ad.obs.reset_index(drop=True, inplace=True)\n",
    "print('selected cells:', data_h5ad)"
   ]
  },
  {
   "cell_type": "code",
   "execution_count": 6,
   "id": "d1e5d1b9-ae3b-4374-a125-913bee9c92a7",
   "metadata": {
    "tags": []
   },
   "outputs": [
    {
     "name": "stdout",
     "output_type": "stream",
     "text": [
      "Selected cells split into train and test datasets.\n"
     ]
    }
   ],
   "source": [
    "# Cell separation used for training and testing.\n",
    "train_idx = []\n",
    "test_idx = []\n",
    "\n",
    "# Selected cells split into train and test datasets\n",
    "for cell_type in data_h5ad.obs['CellType'].unique():\n",
    "    current_idx = data_h5ad.obs[data_h5ad.obs['CellType'] == cell_type].index.tolist()\n",
    "    train_i, test_i = train_test_split(current_idx, test_size=0.5, random_state=42)\n",
    "    train_idx.extend(train_i)\n",
    "    test_idx.extend(test_i)\n",
    "\n",
    "print(\"Selected cells split into train and test datasets.\")\n",
    "train_data = data_h5ad[train_idx]\n",
    "test_data = data_h5ad[test_idx]"
   ]
  },
  {
   "cell_type": "code",
   "execution_count": 7,
   "id": "458ffedb-1115-4803-a99f-a746eae687dc",
   "metadata": {
    "tags": []
   },
   "outputs": [],
   "source": [
    "dp = data_process(type_list, tissue_name='bone_marrow_mb', \n",
    "                  test_sample_num=1000, sample_size=30, num_artificial_cells=30)"
   ]
  },
  {
   "cell_type": "code",
   "execution_count": 8,
   "id": "d77c3704-a3be-47b2-b7af-476fdd0c36c8",
   "metadata": {
    "tags": []
   },
   "outputs": [
    {
     "name": "stdout",
     "output_type": "stream",
     "text": [
      "Generating artificial cells...\n",
      "Generating train pseudo_bulk samples...\n"
     ]
    },
    {
     "name": "stderr",
     "output_type": "stream",
     "text": [
      "train Samples: 100%|██████████| 6000/6000 [00:15<00:00, 397.26it/s]\n"
     ]
    },
    {
     "name": "stdout",
     "output_type": "stream",
     "text": [
      "Generating test pseudo_bulk samples...\n"
     ]
    },
    {
     "name": "stderr",
     "output_type": "stream",
     "text": [
      "test Samples: 100%|██████████| 1000/1000 [00:02<00:00, 374.23it/s]\n"
     ]
    },
    {
     "name": "stdout",
     "output_type": "stream",
     "text": [
      "The data processing is complete\n"
     ]
    }
   ],
   "source": [
    "dp.fit(train_data, test_data, data_h5ad_noise)"
   ]
  },
  {
   "cell_type": "code",
   "execution_count": 9,
   "id": "bc1b95dd-108b-4563-8f28-832894d0c22f",
   "metadata": {
    "tags": []
   },
   "outputs": [],
   "source": [
    "with open(f'data/bone_marrow_mb/bone_marrow_mb{len(type_list)}cell.pkl', 'rb') as f:\n",
    "    train = pickle.load(f)\n",
    "    test = pickle.load(f)\n",
    "    test_with_noise = pickle.load(f)"
   ]
  },
  {
   "cell_type": "code",
   "execution_count": 10,
   "id": "a925034b-5ec3-497e-bf09-a7e6409cddc8",
   "metadata": {
    "tags": []
   },
   "outputs": [],
   "source": [
    "train_x_sim, train_with_noise_1, train_with_noise_2, train_y = train\n",
    "test_x_sim, test_y = test\n",
    "\n",
    "valid_size = 1000  \n",
    "\n",
    "# 切片操作  \n",
    "valid_x_sim = train_x_sim[:valid_size]  \n",
    "valid_with_noise_1 = train_with_noise_1[:valid_size]  \n",
    "valid_with_noise_2 = train_with_noise_2[:valid_size]  \n",
    "valid_y = train_y[:valid_size]  \n",
    "\n",
    "train_x_sim = train_x_sim[valid_size:]  \n",
    "train_with_noise_1 = train_with_noise_1[valid_size:]  \n",
    "train_with_noise_2 = train_with_noise_2[valid_size:]  \n",
    "train_y = train_y[valid_size:]  \n",
    "\n",
    "test_dataset = TestCustomDataset(test_x_sim, test_y)\n",
    "valid_dataset = TestCustomDataset(valid_x_sim, valid_y)\n",
    "test_dataloader = DataLoader(test_dataset, batch_size=64, shuffle=False)\n",
    "valid_dataloader = DataLoader(valid_dataset, batch_size=64, shuffle=False)\n",
    "\n",
    "train_dataset = TrainCustomDataset(train_x_sim, train_with_noise_1, train_with_noise_2, train_y)\n",
    "train_dataloader = DataLoader(train_dataset, batch_size=64, shuffle=True)"
   ]
  },
  {
   "cell_type": "markdown",
   "id": "20f8ed84-2073-4ba0-a388-2363b3bec7af",
   "metadata": {
    "tags": []
   },
   "source": [
    "# model"
   ]
  },
  {
   "cell_type": "code",
   "execution_count": 11,
   "id": "b53c91c5-f1e6-4acd-a925-a5562ebf68b8",
   "metadata": {
    "tags": []
   },
   "outputs": [],
   "source": [
    "num_MB = 107\n",
    "feat_map_w = 256\n",
    "feat_map_h = 10\n",
    "num_cell_type = len(type_list)\n",
    "epoches = 500\n",
    "patience = 50\n",
    "Alpha = 1\n",
    "Beta = 1\n",
    "model_save_name = 'bone_marrow_mb'"
   ]
  },
  {
   "cell_type": "code",
   "execution_count": 12,
   "id": "1b6698b7-d5c0-49a6-adce-2ccb33f4258c",
   "metadata": {
    "tags": []
   },
   "outputs": [],
   "source": [
    "model = MBdeconv(num_MB, feat_map_w, feat_map_h, num_cell_type, epoches, Alpha, Beta, train_dataloader, valid_dataloader)"
   ]
  },
  {
   "cell_type": "code",
   "execution_count": 13,
   "id": "91214bd4-ff83-4423-b359-927763062740",
   "metadata": {
    "tags": []
   },
   "outputs": [],
   "source": [
    "device = torch.device('cuda')\n",
    "if model.gpu_available:\n",
    "    model = model.to(model.gpu)"
   ]
  },
  {
   "cell_type": "code",
   "execution_count": 14,
   "id": "408f02e0-7dc3-4686-a053-6407552cc0d9",
   "metadata": {
    "collapsed": true,
    "jupyter": {
     "outputs_hidden": true
    },
    "tags": []
   },
   "outputs": [
    {
     "name": "stdout",
     "output_type": "stream",
     "text": [
      "\n",
      "\u001b[36m===== Starting Training (Total Epochs: 500) =====\n",
      "Patience for early stopping: 50 epochs\u001b[0m\n",
      "\n"
     ]
    },
    {
     "name": "stderr",
     "output_type": "stream",
     "text": [
      "Epoch 1/500 | Loss: \u001b[32m4.1419\u001b[0m Curr: 4.0281: |          | 151/? batches    \n"
     ]
    },
    {
     "name": "stdout",
     "output_type": "stream",
     "text": [
      "\u001b[36m[Ep 1] 1.5s | Loss: \u001b[32m4.1132\u001b[0m (L1: 0.0133, L2: 0.0133, NCE: 8.1471) | Test: RMSE=\u001b[32m0.1112\u001b[0m, MAE=\u001b[32m0.0912\u001b[0m\n",
      "  \u001b[35m★ Best RMSE! Model saved at bone_marrow_mb\u001b[0m\n"
     ]
    },
    {
     "name": "stderr",
     "output_type": "stream",
     "text": [
      "Epoch 2/500 | Loss: \u001b[32m4.1234\u001b[0m Curr: 4.0945: |          | 151/? batches    \n"
     ]
    },
    {
     "name": "stdout",
     "output_type": "stream",
     "text": [
      "\u001b[36m[Ep 2] 2.8s | Loss: \u001b[32m4.0915\u001b[0m (L1: 0.0130, L2: 0.0130, NCE: 8.1071) | Test: RMSE=\u001b[32m0.1073\u001b[0m, MAE=\u001b[32m0.0877\u001b[0m\n",
      "  \u001b[35m★ Best RMSE! Model saved at bone_marrow_mb\u001b[0m\n"
     ]
    },
    {
     "name": "stderr",
     "output_type": "stream",
     "text": [
      "Epoch 3/500 | Loss: \u001b[32m3.9707\u001b[0m Curr: 3.6033: |          | 151/? batches    \n"
     ]
    },
    {
     "name": "stdout",
     "output_type": "stream",
     "text": [
      "\u001b[36m[Ep 3] 3.8s | Loss: \u001b[32m3.9385\u001b[0m (L1: 0.0125, L2: 0.0125, NCE: 7.8047) | Test: RMSE=\u001b[32m0.1042\u001b[0m, MAE=\u001b[32m0.0847\u001b[0m\n",
      "  \u001b[35m★ Best RMSE! Model saved at bone_marrow_mb\u001b[0m\n"
     ]
    },
    {
     "name": "stderr",
     "output_type": "stream",
     "text": [
      "Epoch 4/500 | Loss: \u001b[32m3.9067\u001b[0m Curr: 3.9786: |          | 151/? batches    \n"
     ]
    },
    {
     "name": "stdout",
     "output_type": "stream",
     "text": [
      "\u001b[36m[Ep 4] 5.0s | Loss: \u001b[32m3.8769\u001b[0m (L1: 0.0116, L2: 0.0116, NCE: 7.6856) | Test: RMSE=\u001b[32m0.1045\u001b[0m, MAE=\u001b[32m0.0846\u001b[0m\n",
      "  \u001b[33m↯ No improvement (1/50)\u001b[0m\n"
     ]
    },
    {
     "name": "stderr",
     "output_type": "stream",
     "text": [
      "Epoch 5/500 | Loss: \u001b[32m3.8445\u001b[0m Curr: 3.6803: |          | 151/? batches    \n"
     ]
    },
    {
     "name": "stdout",
     "output_type": "stream",
     "text": [
      "\u001b[36m[Ep 5] 6.3s | Loss: \u001b[32m3.8212\u001b[0m (L1: 0.0113, L2: 0.0113, NCE: 7.5760) | Test: RMSE=\u001b[32m0.1009\u001b[0m, MAE=\u001b[32m0.0817\u001b[0m\n",
      "  \u001b[35m★ Best RMSE! Model saved at bone_marrow_mb\u001b[0m\n"
     ]
    },
    {
     "name": "stderr",
     "output_type": "stream",
     "text": [
      "Epoch 6/500 | Loss: \u001b[32m3.8135\u001b[0m Curr: 3.7157: |          | 151/? batches    \n"
     ]
    },
    {
     "name": "stdout",
     "output_type": "stream",
     "text": [
      "\u001b[36m[Ep 6] 7.4s | Loss: \u001b[32m3.7755\u001b[0m (L1: 0.0107, L2: 0.0106, NCE: 7.4883) | Test: RMSE=\u001b[32m0.0991\u001b[0m, MAE=\u001b[32m0.0801\u001b[0m\n",
      "  \u001b[35m★ Best RMSE! Model saved at bone_marrow_mb\u001b[0m\n"
     ]
    },
    {
     "name": "stderr",
     "output_type": "stream",
     "text": [
      "Epoch 7/500 | Loss: \u001b[32m3.7993\u001b[0m Curr: 3.5871: |          | 151/? batches    \n"
     ]
    },
    {
     "name": "stdout",
     "output_type": "stream",
     "text": [
      "\u001b[36m[Ep 7] 8.6s | Loss: \u001b[32m3.7704\u001b[0m (L1: 0.0104, L2: 0.0104, NCE: 7.4795) | Test: RMSE=\u001b[32m0.1006\u001b[0m, MAE=\u001b[32m0.0809\u001b[0m\n",
      "  \u001b[33m↯ No improvement (1/50)\u001b[0m\n"
     ]
    },
    {
     "name": "stderr",
     "output_type": "stream",
     "text": [
      "Epoch 8/500 | Loss: \u001b[32m3.7417\u001b[0m Curr: 3.5852: |          | 151/? batches    \n"
     ]
    },
    {
     "name": "stdout",
     "output_type": "stream",
     "text": [
      "\u001b[36m[Ep 8] 9.7s | Loss: \u001b[32m3.7214\u001b[0m (L1: 0.0101, L2: 0.0101, NCE: 7.3829) | Test: RMSE=\u001b[32m0.1005\u001b[0m, MAE=\u001b[32m0.0806\u001b[0m\n",
      "  \u001b[33m↯ No improvement (2/50)\u001b[0m\n"
     ]
    },
    {
     "name": "stderr",
     "output_type": "stream",
     "text": [
      "Epoch 9/500 | Loss: \u001b[32m3.7261\u001b[0m Curr: 3.7342: |          | 151/? batches    \n"
     ]
    },
    {
     "name": "stdout",
     "output_type": "stream",
     "text": [
      "\u001b[36m[Ep 9] 10.8s | Loss: \u001b[32m3.6997\u001b[0m (L1: 0.0099, L2: 0.0099, NCE: 7.3406) | Test: RMSE=\u001b[32m0.0956\u001b[0m, MAE=\u001b[32m0.0768\u001b[0m\n",
      "  \u001b[35m★ Best RMSE! Model saved at bone_marrow_mb\u001b[0m\n"
     ]
    },
    {
     "name": "stderr",
     "output_type": "stream",
     "text": [
      "Epoch 10/500 | Loss: \u001b[32m3.7156\u001b[0m Curr: 3.8912: |          | 151/? batches    \n"
     ]
    },
    {
     "name": "stdout",
     "output_type": "stream",
     "text": [
      "\u001b[36m[Ep 10] 11.9s | Loss: \u001b[32m3.7010\u001b[0m (L1: 0.0094, L2: 0.0094, NCE: 7.3460) | Test: RMSE=\u001b[32m0.1023\u001b[0m, MAE=\u001b[32m0.0832\u001b[0m\n",
      "  \u001b[33m↯ No improvement (1/50)\u001b[0m\n"
     ]
    },
    {
     "name": "stderr",
     "output_type": "stream",
     "text": [
      "Epoch 11/500 | Loss: \u001b[32m3.6835\u001b[0m Curr: 3.6881: |          | 151/? batches    \n"
     ]
    },
    {
     "name": "stdout",
     "output_type": "stream",
     "text": [
      "\u001b[36m[Ep 11] 13.1s | Loss: \u001b[32m3.6518\u001b[0m (L1: 0.0094, L2: 0.0094, NCE: 7.2481) | Test: RMSE=\u001b[32m0.0969\u001b[0m, MAE=\u001b[32m0.0777\u001b[0m\n",
      "  \u001b[33m↯ No improvement (2/50)\u001b[0m\n"
     ]
    },
    {
     "name": "stderr",
     "output_type": "stream",
     "text": [
      "Epoch 12/500 | Loss: \u001b[32m3.6672\u001b[0m Curr: 3.7687: |          | 151/? batches    \n"
     ]
    },
    {
     "name": "stdout",
     "output_type": "stream",
     "text": [
      "\u001b[36m[Ep 12] 14.2s | Loss: \u001b[32m3.6526\u001b[0m (L1: 0.0093, L2: 0.0093, NCE: 7.2497) | Test: RMSE=\u001b[32m0.0996\u001b[0m, MAE=\u001b[32m0.0793\u001b[0m\n",
      "  \u001b[33m↯ No improvement (3/50)\u001b[0m\n"
     ]
    },
    {
     "name": "stderr",
     "output_type": "stream",
     "text": [
      "Epoch 13/500 | Loss: \u001b[32m3.6716\u001b[0m Curr: 3.9479: |          | 151/? batches    \n"
     ]
    },
    {
     "name": "stdout",
     "output_type": "stream",
     "text": [
      "\u001b[36m[Ep 13] 15.4s | Loss: \u001b[32m3.6451\u001b[0m (L1: 0.0089, L2: 0.0089, NCE: 7.2374) | Test: RMSE=\u001b[32m0.0948\u001b[0m, MAE=\u001b[32m0.0764\u001b[0m\n",
      "  \u001b[35m★ Best RMSE! Model saved at bone_marrow_mb\u001b[0m\n"
     ]
    },
    {
     "name": "stderr",
     "output_type": "stream",
     "text": [
      "Epoch 14/500 | Loss: \u001b[32m3.6287\u001b[0m Curr: 3.6488: |          | 151/? batches    \n"
     ]
    },
    {
     "name": "stdout",
     "output_type": "stream",
     "text": [
      "\u001b[36m[Ep 14] 16.6s | Loss: \u001b[32m3.6127\u001b[0m (L1: 0.0087, L2: 0.0087, NCE: 7.1736) | Test: RMSE=\u001b[32m0.0900\u001b[0m, MAE=\u001b[32m0.0721\u001b[0m\n",
      "  \u001b[35m★ Best RMSE! Model saved at bone_marrow_mb\u001b[0m\n"
     ]
    },
    {
     "name": "stderr",
     "output_type": "stream",
     "text": [
      "Epoch 15/500 | Loss: \u001b[32m3.5038\u001b[0m Curr: 3.7025: |          | 151/? batches    \n"
     ]
    },
    {
     "name": "stdout",
     "output_type": "stream",
     "text": [
      "\u001b[36m[Ep 15] 17.9s | Loss: \u001b[32m3.4847\u001b[0m (L1: 0.0083, L2: 0.0083, NCE: 6.9200) | Test: RMSE=\u001b[32m0.0914\u001b[0m, MAE=\u001b[32m0.0728\u001b[0m\n",
      "  \u001b[33m↯ No improvement (1/50)\u001b[0m\n"
     ]
    },
    {
     "name": "stderr",
     "output_type": "stream",
     "text": [
      "Epoch 16/500 | Loss: \u001b[32m3.6359\u001b[0m Curr: 3.9373: |          | 151/? batches    \n"
     ]
    },
    {
     "name": "stdout",
     "output_type": "stream",
     "text": [
      "\u001b[36m[Ep 16] 19.2s | Loss: \u001b[32m3.6283\u001b[0m (L1: 0.0082, L2: 0.0082, NCE: 7.2073) | Test: RMSE=\u001b[32m0.0893\u001b[0m, MAE=\u001b[32m0.0716\u001b[0m\n",
      "  \u001b[35m★ Best RMSE! Model saved at bone_marrow_mb\u001b[0m\n"
     ]
    },
    {
     "name": "stderr",
     "output_type": "stream",
     "text": [
      "Epoch 17/500 | Loss: \u001b[32m3.6410\u001b[0m Curr: 3.5320: |          | 151/? batches    \n"
     ]
    },
    {
     "name": "stdout",
     "output_type": "stream",
     "text": [
      "\u001b[36m[Ep 17] 20.4s | Loss: \u001b[32m3.6214\u001b[0m (L1: 0.0081, L2: 0.0081, NCE: 7.1942) | Test: RMSE=\u001b[32m0.0878\u001b[0m, MAE=\u001b[32m0.0706\u001b[0m\n",
      "  \u001b[35m★ Best RMSE! Model saved at bone_marrow_mb\u001b[0m\n"
     ]
    },
    {
     "name": "stderr",
     "output_type": "stream",
     "text": [
      "Epoch 18/500 | Loss: \u001b[32m3.6045\u001b[0m Curr: 3.6036: |          | 151/? batches    \n"
     ]
    },
    {
     "name": "stdout",
     "output_type": "stream",
     "text": [
      "\u001b[36m[Ep 18] 21.7s | Loss: \u001b[32m3.5847\u001b[0m (L1: 0.0079, L2: 0.0078, NCE: 7.1224) | Test: RMSE=\u001b[32m0.0881\u001b[0m, MAE=\u001b[32m0.0706\u001b[0m\n",
      "  \u001b[33m↯ No improvement (1/50)\u001b[0m\n"
     ]
    },
    {
     "name": "stderr",
     "output_type": "stream",
     "text": [
      "Epoch 19/500 | Loss: \u001b[32m3.6135\u001b[0m Curr: 3.7459: |          | 151/? batches    \n"
     ]
    },
    {
     "name": "stdout",
     "output_type": "stream",
     "text": [
      "\u001b[36m[Ep 19] 22.9s | Loss: \u001b[32m3.5864\u001b[0m (L1: 0.0078, L2: 0.0077, NCE: 7.1264) | Test: RMSE=\u001b[32m0.0870\u001b[0m, MAE=\u001b[32m0.0693\u001b[0m\n",
      "  \u001b[35m★ Best RMSE! Model saved at bone_marrow_mb\u001b[0m\n"
     ]
    },
    {
     "name": "stderr",
     "output_type": "stream",
     "text": [
      "Epoch 20/500 | Loss: \u001b[32m3.4959\u001b[0m Curr: 3.3848: |          | 151/? batches    \n"
     ]
    },
    {
     "name": "stdout",
     "output_type": "stream",
     "text": [
      "\u001b[36m[Ep 20] 24.1s | Loss: \u001b[32m3.4704\u001b[0m (L1: 0.0073, L2: 0.0073, NCE: 6.8969) | Test: RMSE=\u001b[32m0.0898\u001b[0m, MAE=\u001b[32m0.0718\u001b[0m\n",
      "  \u001b[33m↯ No improvement (1/50)\u001b[0m\n"
     ]
    },
    {
     "name": "stderr",
     "output_type": "stream",
     "text": [
      "Epoch 21/500 | Loss: \u001b[32m3.3306\u001b[0m Curr: 3.5071: |          | 151/? batches    \n"
     ]
    },
    {
     "name": "stdout",
     "output_type": "stream",
     "text": [
      "\u001b[36m[Ep 21] 25.3s | Loss: \u001b[32m3.2935\u001b[0m (L1: 0.0077, L2: 0.0077, NCE: 6.5411) | Test: RMSE=\u001b[32m0.0869\u001b[0m, MAE=\u001b[32m0.0695\u001b[0m\n",
      "  \u001b[35m★ Best RMSE! Model saved at bone_marrow_mb\u001b[0m\n"
     ]
    },
    {
     "name": "stderr",
     "output_type": "stream",
     "text": [
      "Epoch 22/500 | Loss: \u001b[32m3.2113\u001b[0m Curr: 3.0139: |          | 151/? batches    \n"
     ]
    },
    {
     "name": "stdout",
     "output_type": "stream",
     "text": [
      "\u001b[36m[Ep 22] 26.6s | Loss: \u001b[32m3.1783\u001b[0m (L1: 0.0074, L2: 0.0074, NCE: 6.3122) | Test: RMSE=\u001b[32m0.0856\u001b[0m, MAE=\u001b[32m0.0681\u001b[0m\n",
      "  \u001b[35m★ Best RMSE! Model saved at bone_marrow_mb\u001b[0m\n"
     ]
    },
    {
     "name": "stderr",
     "output_type": "stream",
     "text": [
      "Epoch 23/500 | Loss: \u001b[32m3.1309\u001b[0m Curr: 3.0163: |          | 151/? batches    \n"
     ]
    },
    {
     "name": "stdout",
     "output_type": "stream",
     "text": [
      "\u001b[36m[Ep 23] 27.9s | Loss: \u001b[32m3.1119\u001b[0m (L1: 0.0079, L2: 0.0079, NCE: 6.1767) | Test: RMSE=\u001b[32m0.0871\u001b[0m, MAE=\u001b[32m0.0698\u001b[0m\n",
      "  \u001b[33m↯ No improvement (1/50)\u001b[0m\n"
     ]
    },
    {
     "name": "stderr",
     "output_type": "stream",
     "text": [
      "Epoch 24/500 | Loss: \u001b[32m3.1171\u001b[0m Curr: 3.0234: |          | 151/? batches    \n"
     ]
    },
    {
     "name": "stdout",
     "output_type": "stream",
     "text": [
      "\u001b[36m[Ep 24] 29.1s | Loss: \u001b[32m3.1000\u001b[0m (L1: 0.0072, L2: 0.0072, NCE: 6.1571) | Test: RMSE=\u001b[32m0.0869\u001b[0m, MAE=\u001b[32m0.0693\u001b[0m\n",
      "  \u001b[33m↯ No improvement (2/50)\u001b[0m\n"
     ]
    },
    {
     "name": "stderr",
     "output_type": "stream",
     "text": [
      "Epoch 25/500 | Loss: \u001b[32m3.0364\u001b[0m Curr: 2.9620: |          | 151/? batches    \n"
     ]
    },
    {
     "name": "stdout",
     "output_type": "stream",
     "text": [
      "\u001b[36m[Ep 25] 30.3s | Loss: \u001b[32m3.0150\u001b[0m (L1: 0.0072, L2: 0.0071, NCE: 5.9873) | Test: RMSE=\u001b[32m0.0833\u001b[0m, MAE=\u001b[32m0.0669\u001b[0m\n",
      "  \u001b[35m★ Best RMSE! Model saved at bone_marrow_mb\u001b[0m\n"
     ]
    },
    {
     "name": "stderr",
     "output_type": "stream",
     "text": [
      "Epoch 26/500 | Loss: \u001b[32m3.0377\u001b[0m Curr: 3.0985: |          | 151/? batches    \n"
     ]
    },
    {
     "name": "stdout",
     "output_type": "stream",
     "text": [
      "\u001b[36m[Ep 26] 31.6s | Loss: \u001b[32m3.0258\u001b[0m (L1: 0.0069, L2: 0.0069, NCE: 6.0103) | Test: RMSE=\u001b[32m0.0802\u001b[0m, MAE=\u001b[32m0.0639\u001b[0m\n",
      "  \u001b[35m★ Best RMSE! Model saved at bone_marrow_mb\u001b[0m\n"
     ]
    },
    {
     "name": "stderr",
     "output_type": "stream",
     "text": [
      "Epoch 27/500 | Loss: \u001b[32m2.9876\u001b[0m Curr: 2.8820: |          | 151/? batches    \n"
     ]
    },
    {
     "name": "stdout",
     "output_type": "stream",
     "text": [
      "\u001b[36m[Ep 27] 32.8s | Loss: \u001b[32m2.9646\u001b[0m (L1: 0.0073, L2: 0.0073, NCE: 5.8856) | Test: RMSE=\u001b[32m0.0861\u001b[0m, MAE=\u001b[32m0.0686\u001b[0m\n",
      "  \u001b[33m↯ No improvement (1/50)\u001b[0m\n"
     ]
    },
    {
     "name": "stderr",
     "output_type": "stream",
     "text": [
      "Epoch 28/500 | Loss: \u001b[32m2.9769\u001b[0m Curr: 2.8931: |          | 151/? batches    \n"
     ]
    },
    {
     "name": "stdout",
     "output_type": "stream",
     "text": [
      "\u001b[36m[Ep 28] 34.0s | Loss: \u001b[32m2.9721\u001b[0m (L1: 0.0071, L2: 0.0071, NCE: 5.9019) | Test: RMSE=\u001b[32m0.0808\u001b[0m, MAE=\u001b[32m0.0647\u001b[0m\n",
      "  \u001b[33m↯ No improvement (2/50)\u001b[0m\n"
     ]
    },
    {
     "name": "stderr",
     "output_type": "stream",
     "text": [
      "Epoch 29/500 | Loss: \u001b[32m2.9697\u001b[0m Curr: 2.8594: |          | 151/? batches    \n"
     ]
    },
    {
     "name": "stdout",
     "output_type": "stream",
     "text": [
      "\u001b[36m[Ep 29] 35.3s | Loss: \u001b[32m2.9415\u001b[0m (L1: 0.0068, L2: 0.0067, NCE: 5.8427) | Test: RMSE=\u001b[32m0.0868\u001b[0m, MAE=\u001b[32m0.0689\u001b[0m\n",
      "  \u001b[33m↯ No improvement (3/50)\u001b[0m\n"
     ]
    },
    {
     "name": "stderr",
     "output_type": "stream",
     "text": [
      "Epoch 30/500 | Loss: \u001b[32m2.9172\u001b[0m Curr: 2.6857: |          | 151/? batches    \n"
     ]
    },
    {
     "name": "stdout",
     "output_type": "stream",
     "text": [
      "\u001b[36m[Ep 30] 36.5s | Loss: \u001b[32m2.8936\u001b[0m (L1: 0.0068, L2: 0.0068, NCE: 5.7467) | Test: RMSE=\u001b[32m0.0796\u001b[0m, MAE=\u001b[32m0.0636\u001b[0m\n",
      "  \u001b[35m★ Best RMSE! Model saved at bone_marrow_mb\u001b[0m\n"
     ]
    },
    {
     "name": "stderr",
     "output_type": "stream",
     "text": [
      "Epoch 31/500 | Loss: \u001b[32m2.9549\u001b[0m Curr: 2.9775: |          | 151/? batches    \n"
     ]
    },
    {
     "name": "stdout",
     "output_type": "stream",
     "text": [
      "\u001b[36m[Ep 31] 37.8s | Loss: \u001b[32m2.9357\u001b[0m (L1: 0.0065, L2: 0.0065, NCE: 5.8324) | Test: RMSE=\u001b[32m0.0889\u001b[0m, MAE=\u001b[32m0.0704\u001b[0m\n",
      "  \u001b[33m↯ No improvement (1/50)\u001b[0m\n"
     ]
    },
    {
     "name": "stderr",
     "output_type": "stream",
     "text": [
      "Epoch 32/500 | Loss: \u001b[32m2.9401\u001b[0m Curr: 2.7133: |          | 151/? batches    \n"
     ]
    },
    {
     "name": "stdout",
     "output_type": "stream",
     "text": [
      "\u001b[36m[Ep 32] 39.0s | Loss: \u001b[32m2.9275\u001b[0m (L1: 0.0067, L2: 0.0067, NCE: 5.8150) | Test: RMSE=\u001b[32m0.0794\u001b[0m, MAE=\u001b[32m0.0631\u001b[0m\n",
      "  \u001b[35m★ Best RMSE! Model saved at bone_marrow_mb\u001b[0m\n"
     ]
    },
    {
     "name": "stderr",
     "output_type": "stream",
     "text": [
      "Epoch 33/500 | Loss: \u001b[32m2.9154\u001b[0m Curr: 3.0247: |          | 151/? batches    \n"
     ]
    },
    {
     "name": "stdout",
     "output_type": "stream",
     "text": [
      "\u001b[36m[Ep 33] 40.2s | Loss: \u001b[32m2.8880\u001b[0m (L1: 0.0067, L2: 0.0067, NCE: 5.7363) | Test: RMSE=\u001b[32m0.0828\u001b[0m, MAE=\u001b[32m0.0659\u001b[0m\n",
      "  \u001b[33m↯ No improvement (1/50)\u001b[0m\n"
     ]
    },
    {
     "name": "stderr",
     "output_type": "stream",
     "text": [
      "Epoch 34/500 | Loss: \u001b[32m2.8916\u001b[0m Curr: 3.0455: |          | 151/? batches    \n"
     ]
    },
    {
     "name": "stdout",
     "output_type": "stream",
     "text": [
      "\u001b[36m[Ep 34] 41.5s | Loss: \u001b[32m2.8699\u001b[0m (L1: 0.0065, L2: 0.0065, NCE: 5.7008) | Test: RMSE=\u001b[32m0.0865\u001b[0m, MAE=\u001b[32m0.0678\u001b[0m\n",
      "  \u001b[33m↯ No improvement (2/50)\u001b[0m\n"
     ]
    },
    {
     "name": "stderr",
     "output_type": "stream",
     "text": [
      "Epoch 35/500 | Loss: \u001b[32m2.9052\u001b[0m Curr: 3.1749: |          | 151/? batches    \n"
     ]
    },
    {
     "name": "stdout",
     "output_type": "stream",
     "text": [
      "\u001b[36m[Ep 35] 42.7s | Loss: \u001b[32m2.8842\u001b[0m (L1: 0.0067, L2: 0.0067, NCE: 5.7284) | Test: RMSE=\u001b[32m0.0830\u001b[0m, MAE=\u001b[32m0.0652\u001b[0m\n",
      "  \u001b[33m↯ No improvement (3/50)\u001b[0m\n"
     ]
    },
    {
     "name": "stderr",
     "output_type": "stream",
     "text": [
      "Epoch 36/500 | Loss: \u001b[32m2.8810\u001b[0m Curr: 2.6439: |          | 151/? batches    \n"
     ]
    },
    {
     "name": "stdout",
     "output_type": "stream",
     "text": [
      "\u001b[36m[Ep 36] 44.0s | Loss: \u001b[32m2.8496\u001b[0m (L1: 0.0064, L2: 0.0064, NCE: 5.6612) | Test: RMSE=\u001b[32m0.0768\u001b[0m, MAE=\u001b[32m0.0611\u001b[0m\n",
      "  \u001b[35m★ Best RMSE! Model saved at bone_marrow_mb\u001b[0m\n"
     ]
    },
    {
     "name": "stderr",
     "output_type": "stream",
     "text": [
      "Epoch 37/500 | Loss: \u001b[32m2.9031\u001b[0m Curr: 2.4187: |          | 151/? batches    \n"
     ]
    },
    {
     "name": "stdout",
     "output_type": "stream",
     "text": [
      "\u001b[36m[Ep 37] 45.2s | Loss: \u001b[32m2.8818\u001b[0m (L1: 0.0062, L2: 0.0062, NCE: 5.7262) | Test: RMSE=\u001b[32m0.0764\u001b[0m, MAE=\u001b[32m0.0612\u001b[0m\n",
      "  \u001b[35m★ Best RMSE! Model saved at bone_marrow_mb\u001b[0m\n"
     ]
    },
    {
     "name": "stderr",
     "output_type": "stream",
     "text": [
      "Epoch 38/500 | Loss: \u001b[32m2.9256\u001b[0m Curr: 2.9685: |          | 151/? batches    \n"
     ]
    },
    {
     "name": "stdout",
     "output_type": "stream",
     "text": [
      "\u001b[36m[Ep 38] 46.5s | Loss: \u001b[32m2.9055\u001b[0m (L1: 0.0062, L2: 0.0061, NCE: 5.7743) | Test: RMSE=\u001b[32m0.1025\u001b[0m, MAE=\u001b[32m0.0813\u001b[0m\n",
      "  \u001b[33m↯ No improvement (1/50)\u001b[0m\n"
     ]
    },
    {
     "name": "stderr",
     "output_type": "stream",
     "text": [
      "Epoch 39/500 | Loss: \u001b[32m2.8750\u001b[0m Curr: 3.0458: |          | 151/? batches    \n"
     ]
    },
    {
     "name": "stdout",
     "output_type": "stream",
     "text": [
      "\u001b[36m[Ep 39] 47.7s | Loss: \u001b[32m2.8509\u001b[0m (L1: 0.0066, L2: 0.0065, NCE: 5.6627) | Test: RMSE=\u001b[32m0.0808\u001b[0m, MAE=\u001b[32m0.0648\u001b[0m\n",
      "  \u001b[33m↯ No improvement (2/50)\u001b[0m\n"
     ]
    },
    {
     "name": "stderr",
     "output_type": "stream",
     "text": [
      "Epoch 40/500 | Loss: \u001b[32m2.8706\u001b[0m Curr: 3.2457: |          | 151/? batches    \n"
     ]
    },
    {
     "name": "stdout",
     "output_type": "stream",
     "text": [
      "\u001b[36m[Ep 40] 48.9s | Loss: \u001b[32m2.8538\u001b[0m (L1: 0.0062, L2: 0.0062, NCE: 5.6706) | Test: RMSE=\u001b[32m0.0773\u001b[0m, MAE=\u001b[32m0.0618\u001b[0m\n",
      "  \u001b[33m↯ No improvement (3/50)\u001b[0m\n"
     ]
    },
    {
     "name": "stderr",
     "output_type": "stream",
     "text": [
      "Epoch 41/500 | Loss: \u001b[32m2.8494\u001b[0m Curr: 2.9487: |          | 151/? batches    \n"
     ]
    },
    {
     "name": "stdout",
     "output_type": "stream",
     "text": [
      "\u001b[36m[Ep 41] 50.1s | Loss: \u001b[32m2.8297\u001b[0m (L1: 0.0060, L2: 0.0060, NCE: 5.6236) | Test: RMSE=\u001b[32m0.0857\u001b[0m, MAE=\u001b[32m0.0683\u001b[0m\n",
      "  \u001b[33m↯ No improvement (4/50)\u001b[0m\n"
     ]
    },
    {
     "name": "stderr",
     "output_type": "stream",
     "text": [
      "Epoch 42/500 | Loss: \u001b[32m2.8300\u001b[0m Curr: 2.5461: |          | 151/? batches    \n"
     ]
    },
    {
     "name": "stdout",
     "output_type": "stream",
     "text": [
      "\u001b[36m[Ep 42] 51.4s | Loss: \u001b[32m2.8145\u001b[0m (L1: 0.0058, L2: 0.0058, NCE: 5.5941) | Test: RMSE=\u001b[32m0.0762\u001b[0m, MAE=\u001b[32m0.0602\u001b[0m\n",
      "  \u001b[35m★ Best RMSE! Model saved at bone_marrow_mb\u001b[0m\n"
     ]
    },
    {
     "name": "stderr",
     "output_type": "stream",
     "text": [
      "Epoch 43/500 | Loss: \u001b[32m2.8269\u001b[0m Curr: 2.8588: |          | 151/? batches    \n"
     ]
    },
    {
     "name": "stdout",
     "output_type": "stream",
     "text": [
      "\u001b[36m[Ep 43] 52.6s | Loss: \u001b[32m2.8131\u001b[0m (L1: 0.0059, L2: 0.0058, NCE: 5.5911) | Test: RMSE=\u001b[32m0.0814\u001b[0m, MAE=\u001b[32m0.0651\u001b[0m\n",
      "  \u001b[33m↯ No improvement (1/50)\u001b[0m\n"
     ]
    },
    {
     "name": "stderr",
     "output_type": "stream",
     "text": [
      "Epoch 44/500 | Loss: \u001b[32m2.8505\u001b[0m Curr: 3.1567: |          | 151/? batches    \n"
     ]
    },
    {
     "name": "stdout",
     "output_type": "stream",
     "text": [
      "\u001b[36m[Ep 44] 53.8s | Loss: \u001b[32m2.8302\u001b[0m (L1: 0.0058, L2: 0.0058, NCE: 5.6258) | Test: RMSE=\u001b[32m0.0759\u001b[0m, MAE=\u001b[32m0.0606\u001b[0m\n",
      "  \u001b[35m★ Best RMSE! Model saved at bone_marrow_mb\u001b[0m\n"
     ]
    },
    {
     "name": "stderr",
     "output_type": "stream",
     "text": [
      "Epoch 45/500 | Loss: \u001b[32m2.8417\u001b[0m Curr: 2.9675: |          | 151/? batches    \n"
     ]
    },
    {
     "name": "stdout",
     "output_type": "stream",
     "text": [
      "\u001b[36m[Ep 45] 55.1s | Loss: \u001b[32m2.8117\u001b[0m (L1: 0.0057, L2: 0.0057, NCE: 5.5891) | Test: RMSE=\u001b[32m0.0792\u001b[0m, MAE=\u001b[32m0.0637\u001b[0m\n",
      "  \u001b[33m↯ No improvement (1/50)\u001b[0m\n"
     ]
    },
    {
     "name": "stderr",
     "output_type": "stream",
     "text": [
      "Epoch 46/500 | Loss: \u001b[32m2.8071\u001b[0m Curr: 2.8646: |          | 151/? batches    \n"
     ]
    },
    {
     "name": "stdout",
     "output_type": "stream",
     "text": [
      "\u001b[36m[Ep 46] 56.4s | Loss: \u001b[32m2.7859\u001b[0m (L1: 0.0057, L2: 0.0057, NCE: 5.5376) | Test: RMSE=\u001b[32m0.0734\u001b[0m, MAE=\u001b[32m0.0586\u001b[0m\n",
      "  \u001b[35m★ Best RMSE! Model saved at bone_marrow_mb\u001b[0m\n"
     ]
    },
    {
     "name": "stderr",
     "output_type": "stream",
     "text": [
      "Epoch 47/500 | Loss: \u001b[32m2.8623\u001b[0m Curr: 2.4887: |          | 151/? batches    \n"
     ]
    },
    {
     "name": "stdout",
     "output_type": "stream",
     "text": [
      "\u001b[36m[Ep 47] 57.6s | Loss: \u001b[32m2.8391\u001b[0m (L1: 0.0056, L2: 0.0056, NCE: 5.6449) | Test: RMSE=\u001b[32m0.0807\u001b[0m, MAE=\u001b[32m0.0643\u001b[0m\n",
      "  \u001b[33m↯ No improvement (1/50)\u001b[0m\n"
     ]
    },
    {
     "name": "stderr",
     "output_type": "stream",
     "text": [
      "Epoch 48/500 | Loss: \u001b[32m2.8160\u001b[0m Curr: 2.7999: |          | 151/? batches    \n"
     ]
    },
    {
     "name": "stdout",
     "output_type": "stream",
     "text": [
      "\u001b[36m[Ep 48] 58.9s | Loss: \u001b[32m2.7948\u001b[0m (L1: 0.0057, L2: 0.0057, NCE: 5.5558) | Test: RMSE=\u001b[32m0.0832\u001b[0m, MAE=\u001b[32m0.0660\u001b[0m\n",
      "  \u001b[33m↯ No improvement (2/50)\u001b[0m\n"
     ]
    },
    {
     "name": "stderr",
     "output_type": "stream",
     "text": [
      "Epoch 49/500 | Loss: \u001b[32m2.8279\u001b[0m Curr: 2.6031: |          | 151/? batches    \n"
     ]
    },
    {
     "name": "stdout",
     "output_type": "stream",
     "text": [
      "\u001b[36m[Ep 49] 60.1s | Loss: \u001b[32m2.8053\u001b[0m (L1: 0.0056, L2: 0.0056, NCE: 5.5772) | Test: RMSE=\u001b[32m0.0716\u001b[0m, MAE=\u001b[32m0.0571\u001b[0m\n",
      "  \u001b[35m★ Best RMSE! Model saved at bone_marrow_mb\u001b[0m\n"
     ]
    },
    {
     "name": "stderr",
     "output_type": "stream",
     "text": [
      "Epoch 50/500 | Loss: \u001b[32m2.7915\u001b[0m Curr: 2.5422: |          | 151/? batches    \n"
     ]
    },
    {
     "name": "stdout",
     "output_type": "stream",
     "text": [
      "\u001b[36m[Ep 50] 61.3s | Loss: \u001b[32m2.7740\u001b[0m (L1: 0.0055, L2: 0.0055, NCE: 5.5151) | Test: RMSE=\u001b[32m0.0725\u001b[0m, MAE=\u001b[32m0.0580\u001b[0m\n",
      "  \u001b[33m↯ No improvement (1/50)\u001b[0m\n"
     ]
    },
    {
     "name": "stderr",
     "output_type": "stream",
     "text": [
      "Epoch 51/500 | Loss: \u001b[32m2.8003\u001b[0m Curr: 2.7751: |          | 151/? batches    \n"
     ]
    },
    {
     "name": "stdout",
     "output_type": "stream",
     "text": [
      "\u001b[36m[Ep 51] 62.4s | Loss: \u001b[32m2.7854\u001b[0m (L1: 0.0055, L2: 0.0055, NCE: 5.5378) | Test: RMSE=\u001b[32m0.1083\u001b[0m, MAE=\u001b[32m0.0861\u001b[0m\n",
      "  \u001b[33m↯ No improvement (2/50)\u001b[0m\n"
     ]
    },
    {
     "name": "stderr",
     "output_type": "stream",
     "text": [
      "Epoch 52/500 | Loss: \u001b[32m2.7911\u001b[0m Curr: 2.5726: |          | 151/? batches    \n"
     ]
    },
    {
     "name": "stdout",
     "output_type": "stream",
     "text": [
      "\u001b[36m[Ep 52] 63.6s | Loss: \u001b[32m2.7766\u001b[0m (L1: 0.0060, L2: 0.0059, NCE: 5.5174) | Test: RMSE=\u001b[32m0.0766\u001b[0m, MAE=\u001b[32m0.0610\u001b[0m\n",
      "  \u001b[33m↯ No improvement (3/50)\u001b[0m\n"
     ]
    },
    {
     "name": "stderr",
     "output_type": "stream",
     "text": [
      "Epoch 53/500 | Loss: \u001b[32m2.8316\u001b[0m Curr: 2.6850: |          | 151/? batches    \n"
     ]
    },
    {
     "name": "stdout",
     "output_type": "stream",
     "text": [
      "\u001b[36m[Ep 53] 64.8s | Loss: \u001b[32m2.8040\u001b[0m (L1: 0.0055, L2: 0.0055, NCE: 5.5752) | Test: RMSE=\u001b[32m0.0710\u001b[0m, MAE=\u001b[32m0.0568\u001b[0m\n",
      "  \u001b[35m★ Best RMSE! Model saved at bone_marrow_mb\u001b[0m\n"
     ]
    },
    {
     "name": "stderr",
     "output_type": "stream",
     "text": [
      "Epoch 54/500 | Loss: \u001b[32m2.8016\u001b[0m Curr: 2.5706: |          | 151/? batches    \n"
     ]
    },
    {
     "name": "stdout",
     "output_type": "stream",
     "text": [
      "\u001b[36m[Ep 54] 66.0s | Loss: \u001b[32m2.7756\u001b[0m (L1: 0.0053, L2: 0.0053, NCE: 5.5194) | Test: RMSE=\u001b[32m0.0759\u001b[0m, MAE=\u001b[32m0.0598\u001b[0m\n",
      "  \u001b[33m↯ No improvement (1/50)\u001b[0m\n"
     ]
    },
    {
     "name": "stderr",
     "output_type": "stream",
     "text": [
      "Epoch 55/500 | Loss: \u001b[32m2.8088\u001b[0m Curr: 2.9249: |          | 151/? batches    \n"
     ]
    },
    {
     "name": "stdout",
     "output_type": "stream",
     "text": [
      "\u001b[36m[Ep 55] 67.2s | Loss: \u001b[32m2.7802\u001b[0m (L1: 0.0052, L2: 0.0052, NCE: 5.5295) | Test: RMSE=\u001b[32m0.0812\u001b[0m, MAE=\u001b[32m0.0650\u001b[0m\n",
      "  \u001b[33m↯ No improvement (2/50)\u001b[0m\n"
     ]
    },
    {
     "name": "stderr",
     "output_type": "stream",
     "text": [
      "Epoch 56/500 | Loss: \u001b[32m2.8004\u001b[0m Curr: 2.9333: |          | 151/? batches    \n"
     ]
    },
    {
     "name": "stdout",
     "output_type": "stream",
     "text": [
      "\u001b[36m[Ep 56] 68.4s | Loss: \u001b[32m2.7772\u001b[0m (L1: 0.0053, L2: 0.0053, NCE: 5.5226) | Test: RMSE=\u001b[32m0.0714\u001b[0m, MAE=\u001b[32m0.0568\u001b[0m\n",
      "  \u001b[33m↯ No improvement (3/50)\u001b[0m\n"
     ]
    },
    {
     "name": "stderr",
     "output_type": "stream",
     "text": [
      "Epoch 57/500 | Loss: \u001b[32m2.7475\u001b[0m Curr: 2.8343: |          | 151/? batches    \n"
     ]
    },
    {
     "name": "stdout",
     "output_type": "stream",
     "text": [
      "\u001b[36m[Ep 57] 69.6s | Loss: \u001b[32m2.7336\u001b[0m (L1: 0.0050, L2: 0.0050, NCE: 5.4372) | Test: RMSE=\u001b[32m0.0686\u001b[0m, MAE=\u001b[32m0.0548\u001b[0m\n",
      "  \u001b[35m★ Best RMSE! Model saved at bone_marrow_mb\u001b[0m\n"
     ]
    },
    {
     "name": "stderr",
     "output_type": "stream",
     "text": [
      "Epoch 58/500 | Loss: \u001b[32m2.8128\u001b[0m Curr: 2.5595: |          | 151/? batches    \n"
     ]
    },
    {
     "name": "stdout",
     "output_type": "stream",
     "text": [
      "\u001b[36m[Ep 58] 70.8s | Loss: \u001b[32m2.7946\u001b[0m (L1: 0.0055, L2: 0.0054, NCE: 5.5566) | Test: RMSE=\u001b[32m0.0710\u001b[0m, MAE=\u001b[32m0.0566\u001b[0m\n",
      "  \u001b[33m↯ No improvement (1/50)\u001b[0m\n"
     ]
    },
    {
     "name": "stderr",
     "output_type": "stream",
     "text": [
      "Epoch 59/500 | Loss: \u001b[32m2.7834\u001b[0m Curr: 3.0984: |          | 151/? batches    \n"
     ]
    },
    {
     "name": "stdout",
     "output_type": "stream",
     "text": [
      "\u001b[36m[Ep 59] 72.0s | Loss: \u001b[32m2.7657\u001b[0m (L1: 0.0051, L2: 0.0051, NCE: 5.5009) | Test: RMSE=\u001b[32m0.0739\u001b[0m, MAE=\u001b[32m0.0591\u001b[0m\n",
      "  \u001b[33m↯ No improvement (2/50)\u001b[0m\n"
     ]
    },
    {
     "name": "stderr",
     "output_type": "stream",
     "text": [
      "Epoch 60/500 | Loss: \u001b[32m2.6929\u001b[0m Curr: 2.8107: |          | 151/? batches    \n"
     ]
    },
    {
     "name": "stdout",
     "output_type": "stream",
     "text": [
      "\u001b[36m[Ep 60] 73.1s | Loss: \u001b[32m2.6798\u001b[0m (L1: 0.0053, L2: 0.0053, NCE: 5.3275) | Test: RMSE=\u001b[32m0.0776\u001b[0m, MAE=\u001b[32m0.0622\u001b[0m\n",
      "  \u001b[33m↯ No improvement (3/50)\u001b[0m\n"
     ]
    },
    {
     "name": "stderr",
     "output_type": "stream",
     "text": [
      "Epoch 61/500 | Loss: \u001b[32m2.7596\u001b[0m Curr: 2.7337: |          | 151/? batches    \n"
     ]
    },
    {
     "name": "stdout",
     "output_type": "stream",
     "text": [
      "\u001b[36m[Ep 61] 74.3s | Loss: \u001b[32m2.7399\u001b[0m (L1: 0.0052, L2: 0.0052, NCE: 5.4486) | Test: RMSE=\u001b[32m0.0741\u001b[0m, MAE=\u001b[32m0.0591\u001b[0m\n",
      "  \u001b[33m↯ No improvement (4/50)\u001b[0m\n"
     ]
    },
    {
     "name": "stderr",
     "output_type": "stream",
     "text": [
      "Epoch 62/500 | Loss: \u001b[32m2.7654\u001b[0m Curr: 3.1054: |          | 151/? batches    \n"
     ]
    },
    {
     "name": "stdout",
     "output_type": "stream",
     "text": [
      "\u001b[36m[Ep 62] 75.5s | Loss: \u001b[32m2.7539\u001b[0m (L1: 0.0050, L2: 0.0050, NCE: 5.4778) | Test: RMSE=\u001b[32m0.0731\u001b[0m, MAE=\u001b[32m0.0583\u001b[0m\n",
      "  \u001b[33m↯ No improvement (5/50)\u001b[0m\n"
     ]
    },
    {
     "name": "stderr",
     "output_type": "stream",
     "text": [
      "Epoch 63/500 | Loss: \u001b[32m2.7393\u001b[0m Curr: 3.0188: |          | 151/? batches    \n"
     ]
    },
    {
     "name": "stdout",
     "output_type": "stream",
     "text": [
      "\u001b[36m[Ep 63] 76.6s | Loss: \u001b[32m2.7150\u001b[0m (L1: 0.0050, L2: 0.0050, NCE: 5.4002) | Test: RMSE=\u001b[32m0.0716\u001b[0m, MAE=\u001b[32m0.0572\u001b[0m\n",
      "  \u001b[33m↯ No improvement (6/50)\u001b[0m\n"
     ]
    },
    {
     "name": "stderr",
     "output_type": "stream",
     "text": [
      "Epoch 64/500 | Loss: \u001b[32m2.7225\u001b[0m Curr: 2.8704: |          | 151/? batches    \n"
     ]
    },
    {
     "name": "stdout",
     "output_type": "stream",
     "text": [
      "\u001b[36m[Ep 64] 77.7s | Loss: \u001b[32m2.7182\u001b[0m (L1: 0.0050, L2: 0.0050, NCE: 5.4065) | Test: RMSE=\u001b[32m0.0893\u001b[0m, MAE=\u001b[32m0.0723\u001b[0m\n",
      "  \u001b[33m↯ No improvement (7/50)\u001b[0m\n"
     ]
    },
    {
     "name": "stderr",
     "output_type": "stream",
     "text": [
      "Epoch 65/500 | Loss: \u001b[32m2.7440\u001b[0m Curr: 2.8756: |          | 151/? batches    \n"
     ]
    },
    {
     "name": "stdout",
     "output_type": "stream",
     "text": [
      "\u001b[36m[Ep 65] 78.8s | Loss: \u001b[32m2.7195\u001b[0m (L1: 0.0053, L2: 0.0053, NCE: 5.4074) | Test: RMSE=\u001b[32m0.0706\u001b[0m, MAE=\u001b[32m0.0571\u001b[0m\n",
      "  \u001b[33m↯ No improvement (8/50)\u001b[0m\n"
     ]
    },
    {
     "name": "stderr",
     "output_type": "stream",
     "text": [
      "Epoch 66/500 | Loss: \u001b[32m2.7347\u001b[0m Curr: 2.9129: |          | 151/? batches    \n"
     ]
    },
    {
     "name": "stdout",
     "output_type": "stream",
     "text": [
      "\u001b[36m[Ep 66] 79.8s | Loss: \u001b[32m2.7277\u001b[0m (L1: 0.0049, L2: 0.0049, NCE: 5.4262) | Test: RMSE=\u001b[32m0.0710\u001b[0m, MAE=\u001b[32m0.0567\u001b[0m\n",
      "  \u001b[33m↯ No improvement (9/50)\u001b[0m\n"
     ]
    },
    {
     "name": "stderr",
     "output_type": "stream",
     "text": [
      "Epoch 67/500 | Loss: \u001b[32m2.7712\u001b[0m Curr: 2.9314: |          | 151/? batches    \n"
     ]
    },
    {
     "name": "stdout",
     "output_type": "stream",
     "text": [
      "\u001b[36m[Ep 67] 80.9s | Loss: \u001b[32m2.7520\u001b[0m (L1: 0.0049, L2: 0.0049, NCE: 5.4744) | Test: RMSE=\u001b[32m0.0690\u001b[0m, MAE=\u001b[32m0.0553\u001b[0m\n",
      "  \u001b[33m↯ No improvement (10/50)\u001b[0m\n"
     ]
    },
    {
     "name": "stderr",
     "output_type": "stream",
     "text": [
      "Epoch 68/500 | Loss: \u001b[32m2.7447\u001b[0m Curr: 2.6426: |          | 151/? batches    \n"
     ]
    },
    {
     "name": "stdout",
     "output_type": "stream",
     "text": [
      "\u001b[36m[Ep 68] 82.1s | Loss: \u001b[32m2.7205\u001b[0m (L1: 0.0048, L2: 0.0048, NCE: 5.4124) | Test: RMSE=\u001b[32m0.0704\u001b[0m, MAE=\u001b[32m0.0565\u001b[0m\n",
      "  \u001b[33m↯ No improvement (11/50)\u001b[0m\n"
     ]
    },
    {
     "name": "stderr",
     "output_type": "stream",
     "text": [
      "Epoch 69/500 | Loss: \u001b[32m2.7426\u001b[0m Curr: 2.4090: |          | 151/? batches    \n"
     ]
    },
    {
     "name": "stdout",
     "output_type": "stream",
     "text": [
      "\u001b[36m[Ep 69] 83.2s | Loss: \u001b[32m2.7214\u001b[0m (L1: 0.0046, L2: 0.0046, NCE: 5.4149) | Test: RMSE=\u001b[32m0.0766\u001b[0m, MAE=\u001b[32m0.0620\u001b[0m\n",
      "  \u001b[33m↯ No improvement (12/50)\u001b[0m\n"
     ]
    },
    {
     "name": "stderr",
     "output_type": "stream",
     "text": [
      "Epoch 70/500 | Loss: \u001b[32m2.7133\u001b[0m Curr: 2.5102: |          | 151/? batches    \n"
     ]
    },
    {
     "name": "stdout",
     "output_type": "stream",
     "text": [
      "\u001b[36m[Ep 70] 84.4s | Loss: \u001b[32m2.7041\u001b[0m (L1: 0.0049, L2: 0.0049, NCE: 5.3784) | Test: RMSE=\u001b[32m0.0737\u001b[0m, MAE=\u001b[32m0.0588\u001b[0m\n",
      "  \u001b[33m↯ No improvement (13/50)\u001b[0m\n"
     ]
    },
    {
     "name": "stderr",
     "output_type": "stream",
     "text": [
      "Epoch 71/500 | Loss: \u001b[32m2.7443\u001b[0m Curr: 2.8469: |          | 151/? batches    \n"
     ]
    },
    {
     "name": "stdout",
     "output_type": "stream",
     "text": [
      "\u001b[36m[Ep 71] 85.7s | Loss: \u001b[32m2.7218\u001b[0m (L1: 0.0048, L2: 0.0048, NCE: 5.4145) | Test: RMSE=\u001b[32m0.0811\u001b[0m, MAE=\u001b[32m0.0646\u001b[0m\n",
      "  \u001b[33m↯ No improvement (14/50)\u001b[0m\n"
     ]
    },
    {
     "name": "stderr",
     "output_type": "stream",
     "text": [
      "Epoch 72/500 | Loss: \u001b[32m2.7251\u001b[0m Curr: 2.9531: |          | 151/? batches    \n"
     ]
    },
    {
     "name": "stdout",
     "output_type": "stream",
     "text": [
      "\u001b[36m[Ep 72] 86.9s | Loss: \u001b[32m2.6966\u001b[0m (L1: 0.0048, L2: 0.0048, NCE: 5.3642) | Test: RMSE=\u001b[32m0.0670\u001b[0m, MAE=\u001b[32m0.0536\u001b[0m\n",
      "  \u001b[35m★ Best RMSE! Model saved at bone_marrow_mb\u001b[0m\n"
     ]
    },
    {
     "name": "stderr",
     "output_type": "stream",
     "text": [
      "Epoch 73/500 | Loss: \u001b[32m2.7502\u001b[0m Curr: 2.5717: |          | 151/? batches    \n"
     ]
    },
    {
     "name": "stdout",
     "output_type": "stream",
     "text": [
      "\u001b[36m[Ep 73] 88.1s | Loss: \u001b[32m2.7331\u001b[0m (L1: 0.0046, L2: 0.0046, NCE: 5.4387) | Test: RMSE=\u001b[32m0.0748\u001b[0m, MAE=\u001b[32m0.0598\u001b[0m\n",
      "  \u001b[33m↯ No improvement (1/50)\u001b[0m\n"
     ]
    },
    {
     "name": "stderr",
     "output_type": "stream",
     "text": [
      "Epoch 74/500 | Loss: \u001b[32m2.7369\u001b[0m Curr: 2.7840: |          | 151/? batches    \n"
     ]
    },
    {
     "name": "stdout",
     "output_type": "stream",
     "text": [
      "\u001b[36m[Ep 74] 89.3s | Loss: \u001b[32m2.7203\u001b[0m (L1: 0.0048, L2: 0.0048, NCE: 5.4115) | Test: RMSE=\u001b[32m0.0652\u001b[0m, MAE=\u001b[32m0.0520\u001b[0m\n",
      "  \u001b[35m★ Best RMSE! Model saved at bone_marrow_mb\u001b[0m\n"
     ]
    },
    {
     "name": "stderr",
     "output_type": "stream",
     "text": [
      "Epoch 75/500 | Loss: \u001b[32m2.7322\u001b[0m Curr: 2.9563: |          | 151/? batches    \n"
     ]
    },
    {
     "name": "stdout",
     "output_type": "stream",
     "text": [
      "\u001b[36m[Ep 75] 90.6s | Loss: \u001b[32m2.7147\u001b[0m (L1: 0.0046, L2: 0.0045, NCE: 5.4021) | Test: RMSE=\u001b[32m0.0715\u001b[0m, MAE=\u001b[32m0.0569\u001b[0m\n",
      "  \u001b[33m↯ No improvement (1/50)\u001b[0m\n"
     ]
    },
    {
     "name": "stderr",
     "output_type": "stream",
     "text": [
      "Epoch 76/500 | Loss: \u001b[32m2.7602\u001b[0m Curr: 2.4524: |          | 151/? batches    \n"
     ]
    },
    {
     "name": "stdout",
     "output_type": "stream",
     "text": [
      "\u001b[36m[Ep 76] 91.9s | Loss: \u001b[32m2.7332\u001b[0m (L1: 0.0050, L2: 0.0050, NCE: 5.4360) | Test: RMSE=\u001b[32m0.0737\u001b[0m, MAE=\u001b[32m0.0589\u001b[0m\n",
      "  \u001b[33m↯ No improvement (2/50)\u001b[0m\n"
     ]
    },
    {
     "name": "stderr",
     "output_type": "stream",
     "text": [
      "Epoch 77/500 | Loss: \u001b[32m2.7431\u001b[0m Curr: 2.6801: |          | 151/? batches    \n"
     ]
    },
    {
     "name": "stdout",
     "output_type": "stream",
     "text": [
      "\u001b[36m[Ep 77] 93.2s | Loss: \u001b[32m2.7187\u001b[0m (L1: 0.0048, L2: 0.0048, NCE: 5.4081) | Test: RMSE=\u001b[32m0.0706\u001b[0m, MAE=\u001b[32m0.0563\u001b[0m\n",
      "  \u001b[33m↯ No improvement (3/50)\u001b[0m\n"
     ]
    },
    {
     "name": "stderr",
     "output_type": "stream",
     "text": [
      "Epoch 78/500 | Loss: \u001b[32m2.7125\u001b[0m Curr: 2.8555: |          | 151/? batches    \n"
     ]
    },
    {
     "name": "stdout",
     "output_type": "stream",
     "text": [
      "\u001b[36m[Ep 78] 94.4s | Loss: \u001b[32m2.6951\u001b[0m (L1: 0.0046, L2: 0.0046, NCE: 5.3626) | Test: RMSE=\u001b[32m0.0731\u001b[0m, MAE=\u001b[32m0.0576\u001b[0m\n",
      "  \u001b[33m↯ No improvement (4/50)\u001b[0m\n"
     ]
    },
    {
     "name": "stderr",
     "output_type": "stream",
     "text": [
      "Epoch 79/500 | Loss: \u001b[32m2.7132\u001b[0m Curr: 2.6358: |          | 151/? batches    \n"
     ]
    },
    {
     "name": "stdout",
     "output_type": "stream",
     "text": [
      "\u001b[36m[Ep 79] 95.6s | Loss: \u001b[32m2.6865\u001b[0m (L1: 0.0046, L2: 0.0046, NCE: 5.3450) | Test: RMSE=\u001b[32m0.0757\u001b[0m, MAE=\u001b[32m0.0593\u001b[0m\n",
      "  \u001b[33m↯ No improvement (5/50)\u001b[0m\n"
     ]
    },
    {
     "name": "stderr",
     "output_type": "stream",
     "text": [
      "Epoch 80/500 | Loss: \u001b[32m2.7217\u001b[0m Curr: 2.9153: |          | 151/? batches    \n"
     ]
    },
    {
     "name": "stdout",
     "output_type": "stream",
     "text": [
      "\u001b[36m[Ep 80] 96.8s | Loss: \u001b[32m2.7071\u001b[0m (L1: 0.0045, L2: 0.0045, NCE: 5.3871) | Test: RMSE=\u001b[32m0.0784\u001b[0m, MAE=\u001b[32m0.0623\u001b[0m\n",
      "  \u001b[33m↯ No improvement (6/50)\u001b[0m\n"
     ]
    },
    {
     "name": "stderr",
     "output_type": "stream",
     "text": [
      "Epoch 81/500 | Loss: \u001b[32m2.7400\u001b[0m Curr: 2.5539: |          | 151/? batches    \n"
     ]
    },
    {
     "name": "stdout",
     "output_type": "stream",
     "text": [
      "\u001b[36m[Ep 81] 98.0s | Loss: \u001b[32m2.7193\u001b[0m (L1: 0.0048, L2: 0.0048, NCE: 5.4095) | Test: RMSE=\u001b[32m0.0682\u001b[0m, MAE=\u001b[32m0.0545\u001b[0m\n",
      "  \u001b[33m↯ No improvement (7/50)\u001b[0m\n"
     ]
    },
    {
     "name": "stderr",
     "output_type": "stream",
     "text": [
      "Epoch 82/500 | Loss: \u001b[32m2.7326\u001b[0m Curr: 2.7928: |          | 151/? batches    \n"
     ]
    },
    {
     "name": "stdout",
     "output_type": "stream",
     "text": [
      "\u001b[36m[Ep 82] 99.1s | Loss: \u001b[32m2.7221\u001b[0m (L1: 0.0045, L2: 0.0045, NCE: 5.4171) | Test: RMSE=\u001b[32m0.0779\u001b[0m, MAE=\u001b[32m0.0631\u001b[0m\n",
      "  \u001b[33m↯ No improvement (8/50)\u001b[0m\n"
     ]
    },
    {
     "name": "stderr",
     "output_type": "stream",
     "text": [
      "Epoch 83/500 | Loss: \u001b[32m2.6964\u001b[0m Curr: 2.7934: |          | 151/? batches    \n"
     ]
    },
    {
     "name": "stdout",
     "output_type": "stream",
     "text": [
      "\u001b[36m[Ep 83] 100.4s | Loss: \u001b[32m2.6752\u001b[0m (L1: 0.0047, L2: 0.0047, NCE: 5.3220) | Test: RMSE=\u001b[32m0.0644\u001b[0m, MAE=\u001b[32m0.0515\u001b[0m\n",
      "  \u001b[35m★ Best RMSE! Model saved at bone_marrow_mb\u001b[0m\n"
     ]
    },
    {
     "name": "stderr",
     "output_type": "stream",
     "text": [
      "Epoch 84/500 | Loss: \u001b[32m2.7415\u001b[0m Curr: 2.4563: |          | 151/? batches    \n"
     ]
    },
    {
     "name": "stdout",
     "output_type": "stream",
     "text": [
      "\u001b[36m[Ep 84] 101.7s | Loss: \u001b[32m2.7124\u001b[0m (L1: 0.0045, L2: 0.0045, NCE: 5.3976) | Test: RMSE=\u001b[32m0.0680\u001b[0m, MAE=\u001b[32m0.0539\u001b[0m\n",
      "  \u001b[33m↯ No improvement (1/50)\u001b[0m\n"
     ]
    },
    {
     "name": "stderr",
     "output_type": "stream",
     "text": [
      "Epoch 85/500 | Loss: \u001b[32m2.7212\u001b[0m Curr: 3.0966: |          | 151/? batches    \n"
     ]
    },
    {
     "name": "stdout",
     "output_type": "stream",
     "text": [
      "\u001b[36m[Ep 85] 103.0s | Loss: \u001b[32m2.6971\u001b[0m (L1: 0.0046, L2: 0.0046, NCE: 5.3666) | Test: RMSE=\u001b[32m0.0766\u001b[0m, MAE=\u001b[32m0.0611\u001b[0m\n",
      "  \u001b[33m↯ No improvement (2/50)\u001b[0m\n"
     ]
    },
    {
     "name": "stderr",
     "output_type": "stream",
     "text": [
      "Epoch 86/500 | Loss: \u001b[32m2.7363\u001b[0m Curr: 2.7614: |          | 151/? batches    \n"
     ]
    },
    {
     "name": "stdout",
     "output_type": "stream",
     "text": [
      "\u001b[36m[Ep 86] 104.3s | Loss: \u001b[32m2.7316\u001b[0m (L1: 0.0047, L2: 0.0047, NCE: 5.4350) | Test: RMSE=\u001b[32m0.0706\u001b[0m, MAE=\u001b[32m0.0561\u001b[0m\n",
      "  \u001b[33m↯ No improvement (3/50)\u001b[0m\n"
     ]
    },
    {
     "name": "stderr",
     "output_type": "stream",
     "text": [
      "Epoch 87/500 | Loss: \u001b[32m2.6966\u001b[0m Curr: 2.4896: |          | 151/? batches    \n"
     ]
    },
    {
     "name": "stdout",
     "output_type": "stream",
     "text": [
      "\u001b[36m[Ep 87] 105.5s | Loss: \u001b[32m2.6804\u001b[0m (L1: 0.0045, L2: 0.0045, NCE: 5.3337) | Test: RMSE=\u001b[32m0.0702\u001b[0m, MAE=\u001b[32m0.0561\u001b[0m\n",
      "  \u001b[33m↯ No improvement (4/50)\u001b[0m\n"
     ]
    },
    {
     "name": "stderr",
     "output_type": "stream",
     "text": [
      "Epoch 88/500 | Loss: \u001b[32m2.6895\u001b[0m Curr: 2.5139: |          | 151/? batches    \n"
     ]
    },
    {
     "name": "stdout",
     "output_type": "stream",
     "text": [
      "\u001b[36m[Ep 88] 106.8s | Loss: \u001b[32m2.6793\u001b[0m (L1: 0.0044, L2: 0.0044, NCE: 5.3320) | Test: RMSE=\u001b[32m0.0733\u001b[0m, MAE=\u001b[32m0.0588\u001b[0m\n",
      "  \u001b[33m↯ No improvement (5/50)\u001b[0m\n"
     ]
    },
    {
     "name": "stderr",
     "output_type": "stream",
     "text": [
      "Epoch 89/500 | Loss: \u001b[32m2.7083\u001b[0m Curr: 2.5761: |          | 151/? batches    \n"
     ]
    },
    {
     "name": "stdout",
     "output_type": "stream",
     "text": [
      "\u001b[36m[Ep 89] 107.9s | Loss: \u001b[32m2.6931\u001b[0m (L1: 0.0044, L2: 0.0044, NCE: 5.3597) | Test: RMSE=\u001b[32m0.0656\u001b[0m, MAE=\u001b[32m0.0523\u001b[0m\n",
      "  \u001b[33m↯ No improvement (6/50)\u001b[0m\n"
     ]
    },
    {
     "name": "stderr",
     "output_type": "stream",
     "text": [
      "Epoch 90/500 | Loss: \u001b[32m2.7397\u001b[0m Curr: 2.8639: |          | 151/? batches    \n"
     ]
    },
    {
     "name": "stdout",
     "output_type": "stream",
     "text": [
      "\u001b[36m[Ep 90] 109.3s | Loss: \u001b[32m2.7213\u001b[0m (L1: 0.0044, L2: 0.0044, NCE: 5.4159) | Test: RMSE=\u001b[32m0.0645\u001b[0m, MAE=\u001b[32m0.0514\u001b[0m\n",
      "  \u001b[33m↯ No improvement (7/50)\u001b[0m\n"
     ]
    },
    {
     "name": "stderr",
     "output_type": "stream",
     "text": [
      "Epoch 91/500 | Loss: \u001b[32m2.7590\u001b[0m Curr: 3.0521: |          | 151/? batches    \n"
     ]
    },
    {
     "name": "stdout",
     "output_type": "stream",
     "text": [
      "\u001b[36m[Ep 91] 110.6s | Loss: \u001b[32m2.7314\u001b[0m (L1: 0.0042, L2: 0.0042, NCE: 5.4374) | Test: RMSE=\u001b[32m0.0664\u001b[0m, MAE=\u001b[32m0.0531\u001b[0m\n",
      "  \u001b[33m↯ No improvement (8/50)\u001b[0m\n"
     ]
    },
    {
     "name": "stderr",
     "output_type": "stream",
     "text": [
      "Epoch 92/500 | Loss: \u001b[32m2.7359\u001b[0m Curr: 2.7947: |          | 151/? batches    \n"
     ]
    },
    {
     "name": "stdout",
     "output_type": "stream",
     "text": [
      "\u001b[36m[Ep 92] 111.9s | Loss: \u001b[32m2.7158\u001b[0m (L1: 0.0042, L2: 0.0042, NCE: 5.4064) | Test: RMSE=\u001b[32m0.0756\u001b[0m, MAE=\u001b[32m0.0613\u001b[0m\n",
      "  \u001b[33m↯ No improvement (9/50)\u001b[0m\n"
     ]
    },
    {
     "name": "stderr",
     "output_type": "stream",
     "text": [
      "Epoch 93/500 | Loss: \u001b[32m2.7338\u001b[0m Curr: 2.4611: |          | 151/? batches    \n"
     ]
    },
    {
     "name": "stdout",
     "output_type": "stream",
     "text": [
      "\u001b[36m[Ep 93] 113.2s | Loss: \u001b[32m2.7249\u001b[0m (L1: 0.0044, L2: 0.0044, NCE: 5.4233) | Test: RMSE=\u001b[32m0.0710\u001b[0m, MAE=\u001b[32m0.0565\u001b[0m\n",
      "  \u001b[33m↯ No improvement (10/50)\u001b[0m\n"
     ]
    },
    {
     "name": "stderr",
     "output_type": "stream",
     "text": [
      "Epoch 94/500 | Loss: \u001b[32m2.7392\u001b[0m Curr: 3.0346: |          | 151/? batches    \n"
     ]
    },
    {
     "name": "stdout",
     "output_type": "stream",
     "text": [
      "\u001b[36m[Ep 94] 114.4s | Loss: \u001b[32m2.7296\u001b[0m (L1: 0.0045, L2: 0.0044, NCE: 5.4326) | Test: RMSE=\u001b[32m0.0690\u001b[0m, MAE=\u001b[32m0.0550\u001b[0m\n",
      "  \u001b[33m↯ No improvement (11/50)\u001b[0m\n"
     ]
    },
    {
     "name": "stderr",
     "output_type": "stream",
     "text": [
      "Epoch 95/500 | Loss: \u001b[32m2.6782\u001b[0m Curr: 2.7412: |          | 151/? batches    \n"
     ]
    },
    {
     "name": "stdout",
     "output_type": "stream",
     "text": [
      "\u001b[36m[Ep 95] 115.6s | Loss: \u001b[32m2.6615\u001b[0m (L1: 0.0044, L2: 0.0044, NCE: 5.2965) | Test: RMSE=\u001b[32m0.0765\u001b[0m, MAE=\u001b[32m0.0604\u001b[0m\n",
      "  \u001b[33m↯ No improvement (12/50)\u001b[0m\n"
     ]
    },
    {
     "name": "stderr",
     "output_type": "stream",
     "text": [
      "Epoch 96/500 | Loss: \u001b[32m2.7413\u001b[0m Curr: 2.6381: |          | 151/? batches    \n"
     ]
    },
    {
     "name": "stdout",
     "output_type": "stream",
     "text": [
      "\u001b[36m[Ep 96] 117.0s | Loss: \u001b[32m2.7363\u001b[0m (L1: 0.0044, L2: 0.0044, NCE: 5.4461) | Test: RMSE=\u001b[32m0.0737\u001b[0m, MAE=\u001b[32m0.0593\u001b[0m\n",
      "  \u001b[33m↯ No improvement (13/50)\u001b[0m\n"
     ]
    },
    {
     "name": "stderr",
     "output_type": "stream",
     "text": [
      "Epoch 97/500 | Loss: \u001b[32m2.7631\u001b[0m Curr: 2.7658: |          | 151/? batches    \n"
     ]
    },
    {
     "name": "stdout",
     "output_type": "stream",
     "text": [
      "\u001b[36m[Ep 97] 118.2s | Loss: \u001b[32m2.7404\u001b[0m (L1: 0.0043, L2: 0.0043, NCE: 5.4545) | Test: RMSE=\u001b[32m0.0654\u001b[0m, MAE=\u001b[32m0.0520\u001b[0m\n",
      "  \u001b[33m↯ No improvement (14/50)\u001b[0m\n"
     ]
    },
    {
     "name": "stderr",
     "output_type": "stream",
     "text": [
      "Epoch 98/500 | Loss: \u001b[32m2.7231\u001b[0m Curr: 2.5971: |          | 151/? batches    \n"
     ]
    },
    {
     "name": "stdout",
     "output_type": "stream",
     "text": [
      "\u001b[36m[Ep 98] 119.4s | Loss: \u001b[32m2.7036\u001b[0m (L1: 0.0041, L2: 0.0041, NCE: 5.3822) | Test: RMSE=\u001b[32m0.0691\u001b[0m, MAE=\u001b[32m0.0550\u001b[0m\n",
      "  \u001b[33m↯ No improvement (15/50)\u001b[0m\n"
     ]
    },
    {
     "name": "stderr",
     "output_type": "stream",
     "text": [
      "Epoch 99/500 | Loss: \u001b[32m2.7033\u001b[0m Curr: 2.4403: |          | 151/? batches    \n"
     ]
    },
    {
     "name": "stdout",
     "output_type": "stream",
     "text": [
      "\u001b[36m[Ep 99] 120.6s | Loss: \u001b[32m2.6951\u001b[0m (L1: 0.0041, L2: 0.0041, NCE: 5.3654) | Test: RMSE=\u001b[32m0.0700\u001b[0m, MAE=\u001b[32m0.0559\u001b[0m\n",
      "  \u001b[33m↯ No improvement (16/50)\u001b[0m\n"
     ]
    },
    {
     "name": "stderr",
     "output_type": "stream",
     "text": [
      "Epoch 100/500 | Loss: \u001b[32m2.7052\u001b[0m Curr: 2.6795: |          | 151/? batches    \n"
     ]
    },
    {
     "name": "stdout",
     "output_type": "stream",
     "text": [
      "\u001b[36m[Ep 100] 121.7s | Loss: \u001b[32m2.6832\u001b[0m (L1: 0.0044, L2: 0.0044, NCE: 5.3395) | Test: RMSE=\u001b[32m0.0691\u001b[0m, MAE=\u001b[32m0.0559\u001b[0m\n",
      "  \u001b[33m↯ No improvement (17/50)\u001b[0m\n"
     ]
    },
    {
     "name": "stderr",
     "output_type": "stream",
     "text": [
      "Epoch 101/500 | Loss: \u001b[32m2.7030\u001b[0m Curr: 2.7126: |          | 151/? batches    \n"
     ]
    },
    {
     "name": "stdout",
     "output_type": "stream",
     "text": [
      "\u001b[36m[Ep 101] 122.9s | Loss: \u001b[32m2.6829\u001b[0m (L1: 0.0043, L2: 0.0043, NCE: 5.3400) | Test: RMSE=\u001b[32m0.0644\u001b[0m, MAE=\u001b[32m0.0511\u001b[0m\n",
      "  \u001b[35m★ Best RMSE! Model saved at bone_marrow_mb\u001b[0m\n"
     ]
    },
    {
     "name": "stderr",
     "output_type": "stream",
     "text": [
      "Epoch 102/500 | Loss: \u001b[32m2.7226\u001b[0m Curr: 2.9214: |          | 151/? batches    \n"
     ]
    },
    {
     "name": "stdout",
     "output_type": "stream",
     "text": [
      "\u001b[36m[Ep 102] 124.1s | Loss: \u001b[32m2.7135\u001b[0m (L1: 0.0043, L2: 0.0043, NCE: 5.4010) | Test: RMSE=\u001b[32m0.0770\u001b[0m, MAE=\u001b[32m0.0610\u001b[0m\n",
      "  \u001b[33m↯ No improvement (1/50)\u001b[0m\n"
     ]
    },
    {
     "name": "stderr",
     "output_type": "stream",
     "text": [
      "Epoch 103/500 | Loss: \u001b[32m2.6762\u001b[0m Curr: 2.7413: |          | 151/? batches    \n"
     ]
    },
    {
     "name": "stdout",
     "output_type": "stream",
     "text": [
      "\u001b[36m[Ep 103] 125.2s | Loss: \u001b[32m2.6689\u001b[0m (L1: 0.0042, L2: 0.0042, NCE: 5.3127) | Test: RMSE=\u001b[32m0.0873\u001b[0m, MAE=\u001b[32m0.0675\u001b[0m\n",
      "  \u001b[33m↯ No improvement (2/50)\u001b[0m\n"
     ]
    },
    {
     "name": "stderr",
     "output_type": "stream",
     "text": [
      "Epoch 104/500 | Loss: \u001b[32m2.7046\u001b[0m Curr: 2.5971: |          | 151/? batches    \n"
     ]
    },
    {
     "name": "stdout",
     "output_type": "stream",
     "text": [
      "\u001b[36m[Ep 104] 126.5s | Loss: \u001b[32m2.6838\u001b[0m (L1: 0.0044, L2: 0.0043, NCE: 5.3413) | Test: RMSE=\u001b[32m0.0661\u001b[0m, MAE=\u001b[32m0.0529\u001b[0m\n",
      "  \u001b[33m↯ No improvement (3/50)\u001b[0m\n"
     ]
    },
    {
     "name": "stderr",
     "output_type": "stream",
     "text": [
      "Epoch 105/500 | Loss: \u001b[32m2.7134\u001b[0m Curr: 2.9654: |          | 151/? batches    \n"
     ]
    },
    {
     "name": "stdout",
     "output_type": "stream",
     "text": [
      "\u001b[36m[Ep 105] 127.6s | Loss: \u001b[32m2.7112\u001b[0m (L1: 0.0042, L2: 0.0042, NCE: 5.3974) | Test: RMSE=\u001b[32m0.0656\u001b[0m, MAE=\u001b[32m0.0527\u001b[0m\n",
      "  \u001b[33m↯ No improvement (4/50)\u001b[0m\n"
     ]
    },
    {
     "name": "stderr",
     "output_type": "stream",
     "text": [
      "Epoch 106/500 | Loss: \u001b[32m2.7036\u001b[0m Curr: 2.6528: |          | 151/? batches    \n"
     ]
    },
    {
     "name": "stdout",
     "output_type": "stream",
     "text": [
      "\u001b[36m[Ep 106] 128.8s | Loss: \u001b[32m2.6836\u001b[0m (L1: 0.0040, L2: 0.0040, NCE: 5.3429) | Test: RMSE=\u001b[32m0.0679\u001b[0m, MAE=\u001b[32m0.0544\u001b[0m\n",
      "  \u001b[33m↯ No improvement (5/50)\u001b[0m\n"
     ]
    },
    {
     "name": "stderr",
     "output_type": "stream",
     "text": [
      "Epoch 107/500 | Loss: \u001b[32m2.7402\u001b[0m Curr: 2.7908: |          | 151/? batches    \n"
     ]
    },
    {
     "name": "stdout",
     "output_type": "stream",
     "text": [
      "\u001b[36m[Ep 107] 129.9s | Loss: \u001b[32m2.7262\u001b[0m (L1: 0.0040, L2: 0.0040, NCE: 5.4286) | Test: RMSE=\u001b[32m0.0659\u001b[0m, MAE=\u001b[32m0.0522\u001b[0m\n",
      "  \u001b[33m↯ No improvement (6/50)\u001b[0m\n"
     ]
    },
    {
     "name": "stderr",
     "output_type": "stream",
     "text": [
      "Epoch 108/500 | Loss: \u001b[32m2.7507\u001b[0m Curr: 2.5108: |          | 151/? batches    \n"
     ]
    },
    {
     "name": "stdout",
     "output_type": "stream",
     "text": [
      "\u001b[36m[Ep 108] 130.9s | Loss: \u001b[32m2.7281\u001b[0m (L1: 0.0040, L2: 0.0040, NCE: 5.4323) | Test: RMSE=\u001b[32m0.0639\u001b[0m, MAE=\u001b[32m0.0508\u001b[0m\n",
      "  \u001b[35m★ Best RMSE! Model saved at bone_marrow_mb\u001b[0m\n"
     ]
    },
    {
     "name": "stderr",
     "output_type": "stream",
     "text": [
      "Epoch 109/500 | Loss: \u001b[32m2.7521\u001b[0m Curr: 2.5073: |          | 151/? batches    \n"
     ]
    },
    {
     "name": "stdout",
     "output_type": "stream",
     "text": [
      "\u001b[36m[Ep 109] 131.9s | Loss: \u001b[32m2.7275\u001b[0m (L1: 0.0040, L2: 0.0040, NCE: 5.4306) | Test: RMSE=\u001b[32m0.0687\u001b[0m, MAE=\u001b[32m0.0545\u001b[0m\n",
      "  \u001b[33m↯ No improvement (1/50)\u001b[0m\n"
     ]
    },
    {
     "name": "stderr",
     "output_type": "stream",
     "text": [
      "Epoch 110/500 | Loss: \u001b[32m2.7224\u001b[0m Curr: 2.8585: |          | 151/? batches    \n"
     ]
    },
    {
     "name": "stdout",
     "output_type": "stream",
     "text": [
      "\u001b[36m[Ep 110] 133.0s | Loss: \u001b[32m2.7102\u001b[0m (L1: 0.0040, L2: 0.0040, NCE: 5.3965) | Test: RMSE=\u001b[32m0.0732\u001b[0m, MAE=\u001b[32m0.0583\u001b[0m\n",
      "  \u001b[33m↯ No improvement (2/50)\u001b[0m\n"
     ]
    },
    {
     "name": "stderr",
     "output_type": "stream",
     "text": [
      "Epoch 111/500 | Loss: \u001b[32m2.7142\u001b[0m Curr: 2.7856: |          | 151/? batches    \n"
     ]
    },
    {
     "name": "stdout",
     "output_type": "stream",
     "text": [
      "\u001b[36m[Ep 111] 134.1s | Loss: \u001b[32m2.7005\u001b[0m (L1: 0.0042, L2: 0.0042, NCE: 5.3756) | Test: RMSE=\u001b[32m0.0632\u001b[0m, MAE=\u001b[32m0.0500\u001b[0m\n",
      "  \u001b[35m★ Best RMSE! Model saved at bone_marrow_mb\u001b[0m\n"
     ]
    },
    {
     "name": "stderr",
     "output_type": "stream",
     "text": [
      "Epoch 112/500 | Loss: \u001b[32m2.6922\u001b[0m Curr: 2.7983: |          | 151/? batches    \n"
     ]
    },
    {
     "name": "stdout",
     "output_type": "stream",
     "text": [
      "\u001b[36m[Ep 112] 135.3s | Loss: \u001b[32m2.6869\u001b[0m (L1: 0.0041, L2: 0.0041, NCE: 5.3491) | Test: RMSE=\u001b[32m0.0669\u001b[0m, MAE=\u001b[32m0.0533\u001b[0m\n",
      "  \u001b[33m↯ No improvement (1/50)\u001b[0m\n"
     ]
    },
    {
     "name": "stderr",
     "output_type": "stream",
     "text": [
      "Epoch 113/500 | Loss: \u001b[32m2.7134\u001b[0m Curr: 2.8550: |          | 151/? batches    \n"
     ]
    },
    {
     "name": "stdout",
     "output_type": "stream",
     "text": [
      "\u001b[36m[Ep 113] 136.5s | Loss: \u001b[32m2.7076\u001b[0m (L1: 0.0040, L2: 0.0040, NCE: 5.3912) | Test: RMSE=\u001b[32m0.0751\u001b[0m, MAE=\u001b[32m0.0589\u001b[0m\n",
      "  \u001b[33m↯ No improvement (2/50)\u001b[0m\n"
     ]
    },
    {
     "name": "stderr",
     "output_type": "stream",
     "text": [
      "Epoch 114/500 | Loss: \u001b[32m2.7486\u001b[0m Curr: 2.6645: |          | 151/? batches    \n"
     ]
    },
    {
     "name": "stdout",
     "output_type": "stream",
     "text": [
      "\u001b[36m[Ep 114] 137.8s | Loss: \u001b[32m2.7301\u001b[0m (L1: 0.0041, L2: 0.0040, NCE: 5.4358) | Test: RMSE=\u001b[32m0.0599\u001b[0m, MAE=\u001b[32m0.0477\u001b[0m\n",
      "  \u001b[35m★ Best RMSE! Model saved at bone_marrow_mb\u001b[0m\n"
     ]
    },
    {
     "name": "stderr",
     "output_type": "stream",
     "text": [
      "Epoch 115/500 | Loss: \u001b[32m2.7299\u001b[0m Curr: 2.6603: |          | 151/? batches    \n"
     ]
    },
    {
     "name": "stdout",
     "output_type": "stream",
     "text": [
      "\u001b[36m[Ep 115] 139.0s | Loss: \u001b[32m2.7127\u001b[0m (L1: 0.0039, L2: 0.0039, NCE: 5.4021) | Test: RMSE=\u001b[32m0.0708\u001b[0m, MAE=\u001b[32m0.0562\u001b[0m\n",
      "  \u001b[33m↯ No improvement (1/50)\u001b[0m\n"
     ]
    },
    {
     "name": "stderr",
     "output_type": "stream",
     "text": [
      "Epoch 116/500 | Loss: \u001b[32m2.7177\u001b[0m Curr: 2.6907: |          | 151/? batches    \n"
     ]
    },
    {
     "name": "stdout",
     "output_type": "stream",
     "text": [
      "\u001b[36m[Ep 116] 140.1s | Loss: \u001b[32m2.7041\u001b[0m (L1: 0.0039, L2: 0.0039, NCE: 5.3845) | Test: RMSE=\u001b[32m0.0775\u001b[0m, MAE=\u001b[32m0.0619\u001b[0m\n",
      "  \u001b[33m↯ No improvement (2/50)\u001b[0m\n"
     ]
    },
    {
     "name": "stderr",
     "output_type": "stream",
     "text": [
      "Epoch 117/500 | Loss: \u001b[32m2.7561\u001b[0m Curr: 3.0157: |          | 151/? batches    \n"
     ]
    },
    {
     "name": "stdout",
     "output_type": "stream",
     "text": [
      "\u001b[36m[Ep 117] 141.0s | Loss: \u001b[32m2.7451\u001b[0m (L1: 0.0040, L2: 0.0040, NCE: 5.4660) | Test: RMSE=\u001b[32m0.0744\u001b[0m, MAE=\u001b[32m0.0595\u001b[0m\n",
      "  \u001b[33m↯ No improvement (3/50)\u001b[0m\n"
     ]
    },
    {
     "name": "stderr",
     "output_type": "stream",
     "text": [
      "Epoch 118/500 | Loss: \u001b[32m2.6979\u001b[0m Curr: 2.7063: |          | 151/? batches    \n"
     ]
    },
    {
     "name": "stdout",
     "output_type": "stream",
     "text": [
      "\u001b[36m[Ep 118] 142.0s | Loss: \u001b[32m2.6865\u001b[0m (L1: 0.0040, L2: 0.0040, NCE: 5.3489) | Test: RMSE=\u001b[32m0.0691\u001b[0m, MAE=\u001b[32m0.0538\u001b[0m\n",
      "  \u001b[33m↯ No improvement (4/50)\u001b[0m\n"
     ]
    },
    {
     "name": "stderr",
     "output_type": "stream",
     "text": [
      "Epoch 119/500 | Loss: \u001b[32m2.7645\u001b[0m Curr: 2.9956: |          | 151/? batches    \n"
     ]
    },
    {
     "name": "stdout",
     "output_type": "stream",
     "text": [
      "\u001b[36m[Ep 119] 142.9s | Loss: \u001b[32m2.7537\u001b[0m (L1: 0.0040, L2: 0.0040, NCE: 5.4835) | Test: RMSE=\u001b[32m0.0602\u001b[0m, MAE=\u001b[32m0.0477\u001b[0m\n",
      "  \u001b[33m↯ No improvement (5/50)\u001b[0m\n"
     ]
    },
    {
     "name": "stderr",
     "output_type": "stream",
     "text": [
      "Epoch 120/500 | Loss: \u001b[32m2.7650\u001b[0m Curr: 2.8031: |          | 151/? batches    \n"
     ]
    },
    {
     "name": "stdout",
     "output_type": "stream",
     "text": [
      "\u001b[36m[Ep 120] 143.8s | Loss: \u001b[32m2.7491\u001b[0m (L1: 0.0040, L2: 0.0040, NCE: 5.4741) | Test: RMSE=\u001b[32m0.0600\u001b[0m, MAE=\u001b[32m0.0478\u001b[0m\n",
      "  \u001b[33m↯ No improvement (6/50)\u001b[0m\n"
     ]
    },
    {
     "name": "stderr",
     "output_type": "stream",
     "text": [
      "Epoch 121/500 | Loss: \u001b[32m2.7642\u001b[0m Curr: 2.7263: |          | 151/? batches    \n"
     ]
    },
    {
     "name": "stdout",
     "output_type": "stream",
     "text": [
      "\u001b[36m[Ep 121] 144.8s | Loss: \u001b[32m2.7511\u001b[0m (L1: 0.0039, L2: 0.0038, NCE: 5.4791) | Test: RMSE=\u001b[32m0.0632\u001b[0m, MAE=\u001b[32m0.0502\u001b[0m\n",
      "  \u001b[33m↯ No improvement (7/50)\u001b[0m\n"
     ]
    },
    {
     "name": "stderr",
     "output_type": "stream",
     "text": [
      "Epoch 122/500 | Loss: \u001b[32m2.7080\u001b[0m Curr: 2.8009: |          | 151/? batches    \n"
     ]
    },
    {
     "name": "stdout",
     "output_type": "stream",
     "text": [
      "\u001b[36m[Ep 122] 145.7s | Loss: \u001b[32m2.6826\u001b[0m (L1: 0.0039, L2: 0.0039, NCE: 5.3415) | Test: RMSE=\u001b[32m0.0607\u001b[0m, MAE=\u001b[32m0.0480\u001b[0m\n",
      "  \u001b[33m↯ No improvement (8/50)\u001b[0m\n"
     ]
    },
    {
     "name": "stderr",
     "output_type": "stream",
     "text": [
      "Epoch 123/500 | Loss: \u001b[32m2.7593\u001b[0m Curr: 2.9037: |          | 151/? batches    \n"
     ]
    },
    {
     "name": "stdout",
     "output_type": "stream",
     "text": [
      "\u001b[36m[Ep 123] 146.8s | Loss: \u001b[32m2.7451\u001b[0m (L1: 0.0038, L2: 0.0038, NCE: 5.4671) | Test: RMSE=\u001b[32m0.0610\u001b[0m, MAE=\u001b[32m0.0485\u001b[0m\n",
      "  \u001b[33m↯ No improvement (9/50)\u001b[0m\n"
     ]
    },
    {
     "name": "stderr",
     "output_type": "stream",
     "text": [
      "Epoch 124/500 | Loss: \u001b[32m2.7376\u001b[0m Curr: 2.9233: |          | 151/? batches    \n"
     ]
    },
    {
     "name": "stdout",
     "output_type": "stream",
     "text": [
      "\u001b[36m[Ep 124] 147.9s | Loss: \u001b[32m2.7202\u001b[0m (L1: 0.0038, L2: 0.0038, NCE: 5.4177) | Test: RMSE=\u001b[32m0.0606\u001b[0m, MAE=\u001b[32m0.0481\u001b[0m\n",
      "  \u001b[33m↯ No improvement (10/50)\u001b[0m\n"
     ]
    },
    {
     "name": "stderr",
     "output_type": "stream",
     "text": [
      "Epoch 125/500 | Loss: \u001b[32m2.7862\u001b[0m Curr: 2.8915: |          | 151/? batches    \n"
     ]
    },
    {
     "name": "stdout",
     "output_type": "stream",
     "text": [
      "\u001b[36m[Ep 125] 149.0s | Loss: \u001b[32m2.7624\u001b[0m (L1: 0.0039, L2: 0.0039, NCE: 5.5014) | Test: RMSE=\u001b[32m0.0646\u001b[0m, MAE=\u001b[32m0.0523\u001b[0m\n",
      "  \u001b[33m↯ No improvement (11/50)\u001b[0m\n"
     ]
    },
    {
     "name": "stderr",
     "output_type": "stream",
     "text": [
      "Epoch 126/500 | Loss: \u001b[32m2.7076\u001b[0m Curr: 2.7946: |          | 151/? batches    \n"
     ]
    },
    {
     "name": "stdout",
     "output_type": "stream",
     "text": [
      "\u001b[36m[Ep 126] 150.1s | Loss: \u001b[32m2.6918\u001b[0m (L1: 0.0038, L2: 0.0038, NCE: 5.3606) | Test: RMSE=\u001b[32m0.0594\u001b[0m, MAE=\u001b[32m0.0471\u001b[0m\n",
      "  \u001b[35m★ Best RMSE! Model saved at bone_marrow_mb\u001b[0m\n"
     ]
    },
    {
     "name": "stderr",
     "output_type": "stream",
     "text": [
      "Epoch 127/500 | Loss: \u001b[32m2.7196\u001b[0m Curr: 2.6905: |          | 151/? batches    \n"
     ]
    },
    {
     "name": "stdout",
     "output_type": "stream",
     "text": [
      "\u001b[36m[Ep 127] 151.3s | Loss: \u001b[32m2.6893\u001b[0m (L1: 0.0037, L2: 0.0037, NCE: 5.3563) | Test: RMSE=\u001b[32m0.0619\u001b[0m, MAE=\u001b[32m0.0488\u001b[0m\n",
      "  \u001b[33m↯ No improvement (1/50)\u001b[0m\n"
     ]
    },
    {
     "name": "stderr",
     "output_type": "stream",
     "text": [
      "Epoch 128/500 | Loss: \u001b[32m2.7525\u001b[0m Curr: 2.9575: |          | 151/? batches    \n"
     ]
    },
    {
     "name": "stdout",
     "output_type": "stream",
     "text": [
      "\u001b[36m[Ep 128] 152.6s | Loss: \u001b[32m2.7278\u001b[0m (L1: 0.0038, L2: 0.0038, NCE: 5.4330) | Test: RMSE=\u001b[32m0.0758\u001b[0m, MAE=\u001b[32m0.0597\u001b[0m\n",
      "  \u001b[33m↯ No improvement (2/50)\u001b[0m\n"
     ]
    },
    {
     "name": "stderr",
     "output_type": "stream",
     "text": [
      "Epoch 129/500 | Loss: \u001b[32m2.7343\u001b[0m Curr: 2.7642: |          | 151/? batches    \n"
     ]
    },
    {
     "name": "stdout",
     "output_type": "stream",
     "text": [
      "\u001b[36m[Ep 129] 153.8s | Loss: \u001b[32m2.7096\u001b[0m (L1: 0.0041, L2: 0.0041, NCE: 5.3945) | Test: RMSE=\u001b[32m0.0671\u001b[0m, MAE=\u001b[32m0.0538\u001b[0m\n",
      "  \u001b[33m↯ No improvement (3/50)\u001b[0m\n"
     ]
    },
    {
     "name": "stderr",
     "output_type": "stream",
     "text": [
      "Epoch 130/500 | Loss: \u001b[32m2.7227\u001b[0m Curr: 2.6168: |          | 151/? batches    \n"
     ]
    },
    {
     "name": "stdout",
     "output_type": "stream",
     "text": [
      "\u001b[36m[Ep 130] 155.1s | Loss: \u001b[32m2.7029\u001b[0m (L1: 0.0037, L2: 0.0037, NCE: 5.3836) | Test: RMSE=\u001b[32m0.0613\u001b[0m, MAE=\u001b[32m0.0485\u001b[0m\n",
      "  \u001b[33m↯ No improvement (4/50)\u001b[0m\n"
     ]
    },
    {
     "name": "stderr",
     "output_type": "stream",
     "text": [
      "Epoch 131/500 | Loss: \u001b[32m2.7779\u001b[0m Curr: 2.6299: |          | 151/? batches    \n"
     ]
    },
    {
     "name": "stdout",
     "output_type": "stream",
     "text": [
      "\u001b[36m[Ep 131] 156.4s | Loss: \u001b[32m2.7534\u001b[0m (L1: 0.0038, L2: 0.0038, NCE: 5.4841) | Test: RMSE=\u001b[32m0.0661\u001b[0m, MAE=\u001b[32m0.0523\u001b[0m\n",
      "  \u001b[33m↯ No improvement (5/50)\u001b[0m\n"
     ]
    },
    {
     "name": "stderr",
     "output_type": "stream",
     "text": [
      "Epoch 132/500 | Loss: \u001b[32m2.7727\u001b[0m Curr: 2.7826: |          | 151/? batches    \n"
     ]
    },
    {
     "name": "stdout",
     "output_type": "stream",
     "text": [
      "\u001b[36m[Ep 132] 157.6s | Loss: \u001b[32m2.7522\u001b[0m (L1: 0.0040, L2: 0.0040, NCE: 5.4804) | Test: RMSE=\u001b[32m0.0650\u001b[0m, MAE=\u001b[32m0.0517\u001b[0m\n",
      "  \u001b[33m↯ No improvement (6/50)\u001b[0m\n"
     ]
    },
    {
     "name": "stderr",
     "output_type": "stream",
     "text": [
      "Epoch 133/500 | Loss: \u001b[32m2.7773\u001b[0m Curr: 2.6344: |          | 151/? batches    \n"
     ]
    },
    {
     "name": "stdout",
     "output_type": "stream",
     "text": [
      "\u001b[36m[Ep 133] 158.9s | Loss: \u001b[32m2.7488\u001b[0m (L1: 0.0039, L2: 0.0039, NCE: 5.4745) | Test: RMSE=\u001b[32m0.0713\u001b[0m, MAE=\u001b[32m0.0569\u001b[0m\n",
      "  \u001b[33m↯ No improvement (7/50)\u001b[0m\n"
     ]
    },
    {
     "name": "stderr",
     "output_type": "stream",
     "text": [
      "Epoch 134/500 | Loss: \u001b[32m2.7133\u001b[0m Curr: 2.7394: |          | 151/? batches    \n"
     ]
    },
    {
     "name": "stdout",
     "output_type": "stream",
     "text": [
      "\u001b[36m[Ep 134] 160.2s | Loss: \u001b[32m2.7016\u001b[0m (L1: 0.0038, L2: 0.0038, NCE: 5.3804) | Test: RMSE=\u001b[32m0.0638\u001b[0m, MAE=\u001b[32m0.0504\u001b[0m\n",
      "  \u001b[33m↯ No improvement (8/50)\u001b[0m\n"
     ]
    },
    {
     "name": "stderr",
     "output_type": "stream",
     "text": [
      "Epoch 135/500 | Loss: \u001b[32m2.7419\u001b[0m Curr: 3.0152: |          | 151/? batches    \n"
     ]
    },
    {
     "name": "stdout",
     "output_type": "stream",
     "text": [
      "\u001b[36m[Ep 135] 161.5s | Loss: \u001b[32m2.7245\u001b[0m (L1: 0.0038, L2: 0.0038, NCE: 5.4262) | Test: RMSE=\u001b[32m0.0677\u001b[0m, MAE=\u001b[32m0.0534\u001b[0m\n",
      "  \u001b[33m↯ No improvement (9/50)\u001b[0m\n"
     ]
    },
    {
     "name": "stderr",
     "output_type": "stream",
     "text": [
      "Epoch 136/500 | Loss: \u001b[32m2.7250\u001b[0m Curr: 2.5561: |          | 151/? batches    \n"
     ]
    },
    {
     "name": "stdout",
     "output_type": "stream",
     "text": [
      "\u001b[36m[Ep 136] 162.8s | Loss: \u001b[32m2.7255\u001b[0m (L1: 0.0036, L2: 0.0036, NCE: 5.4293) | Test: RMSE=\u001b[32m0.0584\u001b[0m, MAE=\u001b[32m0.0464\u001b[0m\n",
      "  \u001b[35m★ Best RMSE! Model saved at bone_marrow_mb\u001b[0m\n"
     ]
    },
    {
     "name": "stderr",
     "output_type": "stream",
     "text": [
      "Epoch 137/500 | Loss: \u001b[32m2.7771\u001b[0m Curr: 3.0724: |          | 151/? batches    \n"
     ]
    },
    {
     "name": "stdout",
     "output_type": "stream",
     "text": [
      "\u001b[36m[Ep 137] 164.1s | Loss: \u001b[32m2.7627\u001b[0m (L1: 0.0038, L2: 0.0038, NCE: 5.5023) | Test: RMSE=\u001b[32m0.0607\u001b[0m, MAE=\u001b[32m0.0484\u001b[0m\n",
      "  \u001b[33m↯ No improvement (1/50)\u001b[0m\n"
     ]
    },
    {
     "name": "stderr",
     "output_type": "stream",
     "text": [
      "Epoch 138/500 | Loss: \u001b[32m2.7268\u001b[0m Curr: 2.5780: |          | 151/? batches    \n"
     ]
    },
    {
     "name": "stdout",
     "output_type": "stream",
     "text": [
      "\u001b[36m[Ep 138] 165.4s | Loss: \u001b[32m2.7180\u001b[0m (L1: 0.0035, L2: 0.0035, NCE: 5.4147) | Test: RMSE=\u001b[32m0.0725\u001b[0m, MAE=\u001b[32m0.0570\u001b[0m\n",
      "  \u001b[33m↯ No improvement (2/50)\u001b[0m\n"
     ]
    },
    {
     "name": "stderr",
     "output_type": "stream",
     "text": [
      "Epoch 139/500 | Loss: \u001b[32m2.7223\u001b[0m Curr: 2.4470: |          | 151/? batches    \n"
     ]
    },
    {
     "name": "stdout",
     "output_type": "stream",
     "text": [
      "\u001b[36m[Ep 139] 166.7s | Loss: \u001b[32m2.7057\u001b[0m (L1: 0.0037, L2: 0.0037, NCE: 5.3890) | Test: RMSE=\u001b[32m0.0754\u001b[0m, MAE=\u001b[32m0.0608\u001b[0m\n",
      "  \u001b[33m↯ No improvement (3/50)\u001b[0m\n"
     ]
    },
    {
     "name": "stderr",
     "output_type": "stream",
     "text": [
      "Epoch 140/500 | Loss: \u001b[32m2.7431\u001b[0m Curr: 2.5839: |          | 151/? batches    \n"
     ]
    },
    {
     "name": "stdout",
     "output_type": "stream",
     "text": [
      "\u001b[36m[Ep 140] 168.0s | Loss: \u001b[32m2.7193\u001b[0m (L1: 0.0040, L2: 0.0040, NCE: 5.4141) | Test: RMSE=\u001b[32m0.0681\u001b[0m, MAE=\u001b[32m0.0550\u001b[0m\n",
      "  \u001b[33m↯ No improvement (4/50)\u001b[0m\n"
     ]
    },
    {
     "name": "stderr",
     "output_type": "stream",
     "text": [
      "Epoch 141/500 | Loss: \u001b[32m2.7498\u001b[0m Curr: 2.8876: |          | 151/? batches    \n"
     ]
    },
    {
     "name": "stdout",
     "output_type": "stream",
     "text": [
      "\u001b[36m[Ep 141] 169.3s | Loss: \u001b[32m2.7323\u001b[0m (L1: 0.0037, L2: 0.0037, NCE: 5.4426) | Test: RMSE=\u001b[32m0.0670\u001b[0m, MAE=\u001b[32m0.0537\u001b[0m\n",
      "  \u001b[33m↯ No improvement (5/50)\u001b[0m\n"
     ]
    },
    {
     "name": "stderr",
     "output_type": "stream",
     "text": [
      "Epoch 142/500 | Loss: \u001b[32m2.8039\u001b[0m Curr: 2.9909: |          | 151/? batches    \n"
     ]
    },
    {
     "name": "stdout",
     "output_type": "stream",
     "text": [
      "\u001b[36m[Ep 142] 170.6s | Loss: \u001b[32m2.7713\u001b[0m (L1: 0.0037, L2: 0.0037, NCE: 5.5202) | Test: RMSE=\u001b[32m0.0654\u001b[0m, MAE=\u001b[32m0.0517\u001b[0m\n",
      "  \u001b[33m↯ No improvement (6/50)\u001b[0m\n"
     ]
    },
    {
     "name": "stderr",
     "output_type": "stream",
     "text": [
      "Epoch 143/500 | Loss: \u001b[32m2.7544\u001b[0m Curr: 2.7283: |          | 151/? batches    \n"
     ]
    },
    {
     "name": "stdout",
     "output_type": "stream",
     "text": [
      "\u001b[36m[Ep 143] 171.6s | Loss: \u001b[32m2.7338\u001b[0m (L1: 0.0036, L2: 0.0036, NCE: 5.4457) | Test: RMSE=\u001b[32m0.0637\u001b[0m, MAE=\u001b[32m0.0515\u001b[0m\n",
      "  \u001b[33m↯ No improvement (7/50)\u001b[0m\n"
     ]
    },
    {
     "name": "stderr",
     "output_type": "stream",
     "text": [
      "Epoch 144/500 | Loss: \u001b[32m2.7566\u001b[0m Curr: 2.5440: |          | 151/? batches    \n"
     ]
    },
    {
     "name": "stdout",
     "output_type": "stream",
     "text": [
      "\u001b[36m[Ep 144] 172.7s | Loss: \u001b[32m2.7339\u001b[0m (L1: 0.0038, L2: 0.0038, NCE: 5.4450) | Test: RMSE=\u001b[32m0.0661\u001b[0m, MAE=\u001b[32m0.0519\u001b[0m\n",
      "  \u001b[33m↯ No improvement (8/50)\u001b[0m\n"
     ]
    },
    {
     "name": "stderr",
     "output_type": "stream",
     "text": [
      "Epoch 145/500 | Loss: \u001b[32m2.7663\u001b[0m Curr: 2.6463: |          | 151/? batches    \n"
     ]
    },
    {
     "name": "stdout",
     "output_type": "stream",
     "text": [
      "\u001b[36m[Ep 145] 174.0s | Loss: \u001b[32m2.7431\u001b[0m (L1: 0.0036, L2: 0.0036, NCE: 5.4646) | Test: RMSE=\u001b[32m0.0590\u001b[0m, MAE=\u001b[32m0.0473\u001b[0m\n",
      "  \u001b[33m↯ No improvement (9/50)\u001b[0m\n"
     ]
    },
    {
     "name": "stderr",
     "output_type": "stream",
     "text": [
      "Epoch 146/500 | Loss: \u001b[32m2.7649\u001b[0m Curr: 2.8098: |          | 151/? batches    \n"
     ]
    },
    {
     "name": "stdout",
     "output_type": "stream",
     "text": [
      "\u001b[36m[Ep 146] 175.3s | Loss: \u001b[32m2.7478\u001b[0m (L1: 0.0037, L2: 0.0037, NCE: 5.4733) | Test: RMSE=\u001b[32m0.0696\u001b[0m, MAE=\u001b[32m0.0551\u001b[0m\n",
      "  \u001b[33m↯ No improvement (10/50)\u001b[0m\n"
     ]
    },
    {
     "name": "stderr",
     "output_type": "stream",
     "text": [
      "Epoch 147/500 | Loss: \u001b[32m2.7496\u001b[0m Curr: 2.8388: |          | 151/? batches    \n"
     ]
    },
    {
     "name": "stdout",
     "output_type": "stream",
     "text": [
      "\u001b[36m[Ep 147] 176.7s | Loss: \u001b[32m2.7290\u001b[0m (L1: 0.0036, L2: 0.0036, NCE: 5.4364) | Test: RMSE=\u001b[32m0.0662\u001b[0m, MAE=\u001b[32m0.0516\u001b[0m\n",
      "  \u001b[33m↯ No improvement (11/50)\u001b[0m\n"
     ]
    },
    {
     "name": "stderr",
     "output_type": "stream",
     "text": [
      "Epoch 148/500 | Loss: \u001b[32m2.7446\u001b[0m Curr: 2.8488: |          | 151/? batches    \n"
     ]
    },
    {
     "name": "stdout",
     "output_type": "stream",
     "text": [
      "\u001b[36m[Ep 148] 177.9s | Loss: \u001b[32m2.7253\u001b[0m (L1: 0.0037, L2: 0.0037, NCE: 5.4282) | Test: RMSE=\u001b[32m0.0656\u001b[0m, MAE=\u001b[32m0.0520\u001b[0m\n",
      "  \u001b[33m↯ No improvement (12/50)\u001b[0m\n"
     ]
    },
    {
     "name": "stderr",
     "output_type": "stream",
     "text": [
      "Epoch 149/500 | Loss: \u001b[32m2.7612\u001b[0m Curr: 3.1162: |          | 151/? batches    \n"
     ]
    },
    {
     "name": "stdout",
     "output_type": "stream",
     "text": [
      "\u001b[36m[Ep 149] 179.2s | Loss: \u001b[32m2.7346\u001b[0m (L1: 0.0035, L2: 0.0035, NCE: 5.4477) | Test: RMSE=\u001b[32m0.0596\u001b[0m, MAE=\u001b[32m0.0475\u001b[0m\n",
      "  \u001b[33m↯ No improvement (13/50)\u001b[0m\n"
     ]
    },
    {
     "name": "stderr",
     "output_type": "stream",
     "text": [
      "Epoch 150/500 | Loss: \u001b[32m2.7540\u001b[0m Curr: 2.8018: |          | 151/? batches    \n"
     ]
    },
    {
     "name": "stdout",
     "output_type": "stream",
     "text": [
      "\u001b[36m[Ep 150] 180.5s | Loss: \u001b[32m2.7351\u001b[0m (L1: 0.0036, L2: 0.0036, NCE: 5.4487) | Test: RMSE=\u001b[32m0.0695\u001b[0m, MAE=\u001b[32m0.0545\u001b[0m\n",
      "  \u001b[33m↯ No improvement (14/50)\u001b[0m\n"
     ]
    },
    {
     "name": "stderr",
     "output_type": "stream",
     "text": [
      "Epoch 151/500 | Loss: \u001b[32m2.7647\u001b[0m Curr: 2.7244: |          | 151/? batches    \n"
     ]
    },
    {
     "name": "stdout",
     "output_type": "stream",
     "text": [
      "\u001b[36m[Ep 151] 181.8s | Loss: \u001b[32m2.7586\u001b[0m (L1: 0.0039, L2: 0.0039, NCE: 5.4938) | Test: RMSE=\u001b[32m0.0735\u001b[0m, MAE=\u001b[32m0.0575\u001b[0m\n",
      "  \u001b[33m↯ No improvement (15/50)\u001b[0m\n"
     ]
    },
    {
     "name": "stderr",
     "output_type": "stream",
     "text": [
      "Epoch 152/500 | Loss: \u001b[32m2.7696\u001b[0m Curr: 2.7220: |          | 151/? batches    \n"
     ]
    },
    {
     "name": "stdout",
     "output_type": "stream",
     "text": [
      "\u001b[36m[Ep 152] 183.0s | Loss: \u001b[32m2.7572\u001b[0m (L1: 0.0035, L2: 0.0035, NCE: 5.4934) | Test: RMSE=\u001b[32m0.0615\u001b[0m, MAE=\u001b[32m0.0485\u001b[0m\n",
      "  \u001b[33m↯ No improvement (16/50)\u001b[0m\n"
     ]
    },
    {
     "name": "stderr",
     "output_type": "stream",
     "text": [
      "Epoch 153/500 | Loss: \u001b[32m2.7145\u001b[0m Curr: 2.7473: |          | 151/? batches    \n"
     ]
    },
    {
     "name": "stdout",
     "output_type": "stream",
     "text": [
      "\u001b[36m[Ep 153] 184.3s | Loss: \u001b[32m2.6993\u001b[0m (L1: 0.0036, L2: 0.0036, NCE: 5.3768) | Test: RMSE=\u001b[32m0.0692\u001b[0m, MAE=\u001b[32m0.0549\u001b[0m\n",
      "  \u001b[33m↯ No improvement (17/50)\u001b[0m\n"
     ]
    },
    {
     "name": "stderr",
     "output_type": "stream",
     "text": [
      "Epoch 154/500 | Loss: \u001b[32m2.7554\u001b[0m Curr: 2.7982: |          | 151/? batches    \n"
     ]
    },
    {
     "name": "stdout",
     "output_type": "stream",
     "text": [
      "\u001b[36m[Ep 154] 185.5s | Loss: \u001b[32m2.7396\u001b[0m (L1: 0.0036, L2: 0.0037, NCE: 5.4571) | Test: RMSE=\u001b[32m0.0600\u001b[0m, MAE=\u001b[32m0.0483\u001b[0m\n",
      "  \u001b[33m↯ No improvement (18/50)\u001b[0m\n"
     ]
    },
    {
     "name": "stderr",
     "output_type": "stream",
     "text": [
      "Epoch 155/500 | Loss: \u001b[32m2.7625\u001b[0m Curr: 2.9851: |          | 151/? batches    \n"
     ]
    },
    {
     "name": "stdout",
     "output_type": "stream",
     "text": [
      "\u001b[36m[Ep 155] 186.7s | Loss: \u001b[32m2.7453\u001b[0m (L1: 0.0034, L2: 0.0034, NCE: 5.4699) | Test: RMSE=\u001b[32m0.0614\u001b[0m, MAE=\u001b[32m0.0490\u001b[0m\n",
      "  \u001b[33m↯ No improvement (19/50)\u001b[0m\n"
     ]
    },
    {
     "name": "stderr",
     "output_type": "stream",
     "text": [
      "Epoch 156/500 | Loss: \u001b[32m2.7791\u001b[0m Curr: 2.7316: |          | 151/? batches    \n"
     ]
    },
    {
     "name": "stdout",
     "output_type": "stream",
     "text": [
      "\u001b[36m[Ep 156] 188.0s | Loss: \u001b[32m2.7606\u001b[0m (L1: 0.0035, L2: 0.0035, NCE: 5.4999) | Test: RMSE=\u001b[32m0.0646\u001b[0m, MAE=\u001b[32m0.0512\u001b[0m\n",
      "  \u001b[33m↯ No improvement (20/50)\u001b[0m\n"
     ]
    },
    {
     "name": "stderr",
     "output_type": "stream",
     "text": [
      "Epoch 157/500 | Loss: \u001b[32m2.7431\u001b[0m Curr: 2.3805: |          | 151/? batches    \n"
     ]
    },
    {
     "name": "stdout",
     "output_type": "stream",
     "text": [
      "\u001b[36m[Ep 157] 189.1s | Loss: \u001b[32m2.7235\u001b[0m (L1: 0.0035, L2: 0.0035, NCE: 5.4261) | Test: RMSE=\u001b[32m0.0624\u001b[0m, MAE=\u001b[32m0.0497\u001b[0m\n",
      "  \u001b[33m↯ No improvement (21/50)\u001b[0m\n"
     ]
    },
    {
     "name": "stderr",
     "output_type": "stream",
     "text": [
      "Epoch 158/500 | Loss: \u001b[32m2.7678\u001b[0m Curr: 3.2549: |          | 151/? batches    \n"
     ]
    },
    {
     "name": "stdout",
     "output_type": "stream",
     "text": [
      "\u001b[36m[Ep 158] 190.4s | Loss: \u001b[32m2.7487\u001b[0m (L1: 0.0035, L2: 0.0035, NCE: 5.4760) | Test: RMSE=\u001b[32m0.0568\u001b[0m, MAE=\u001b[32m0.0452\u001b[0m\n",
      "  \u001b[35m★ Best RMSE! Model saved at bone_marrow_mb\u001b[0m\n"
     ]
    },
    {
     "name": "stderr",
     "output_type": "stream",
     "text": [
      "Epoch 159/500 | Loss: \u001b[32m2.7509\u001b[0m Curr: 2.8845: |          | 151/? batches    \n"
     ]
    },
    {
     "name": "stdout",
     "output_type": "stream",
     "text": [
      "\u001b[36m[Ep 159] 191.7s | Loss: \u001b[32m2.7291\u001b[0m (L1: 0.0036, L2: 0.0036, NCE: 5.4362) | Test: RMSE=\u001b[32m0.0631\u001b[0m, MAE=\u001b[32m0.0497\u001b[0m\n",
      "  \u001b[33m↯ No improvement (1/50)\u001b[0m\n"
     ]
    },
    {
     "name": "stderr",
     "output_type": "stream",
     "text": [
      "Epoch 160/500 | Loss: \u001b[32m2.7635\u001b[0m Curr: 2.5285: |          | 151/? batches    \n"
     ]
    },
    {
     "name": "stdout",
     "output_type": "stream",
     "text": [
      "\u001b[36m[Ep 160] 192.9s | Loss: \u001b[32m2.7336\u001b[0m (L1: 0.0035, L2: 0.0035, NCE: 5.4462) | Test: RMSE=\u001b[32m0.0673\u001b[0m, MAE=\u001b[32m0.0549\u001b[0m\n",
      "  \u001b[33m↯ No improvement (2/50)\u001b[0m\n"
     ]
    },
    {
     "name": "stderr",
     "output_type": "stream",
     "text": [
      "Epoch 161/500 | Loss: \u001b[32m2.7278\u001b[0m Curr: 2.8468: |          | 151/? batches    \n"
     ]
    },
    {
     "name": "stdout",
     "output_type": "stream",
     "text": [
      "\u001b[36m[Ep 161] 194.2s | Loss: \u001b[32m2.7149\u001b[0m (L1: 0.0035, L2: 0.0035, NCE: 5.4086) | Test: RMSE=\u001b[32m0.0591\u001b[0m, MAE=\u001b[32m0.0466\u001b[0m\n",
      "  \u001b[33m↯ No improvement (3/50)\u001b[0m\n"
     ]
    },
    {
     "name": "stderr",
     "output_type": "stream",
     "text": [
      "Epoch 162/500 | Loss: \u001b[32m2.7455\u001b[0m Curr: 3.0519: |          | 151/? batches    \n"
     ]
    },
    {
     "name": "stdout",
     "output_type": "stream",
     "text": [
      "\u001b[36m[Ep 162] 195.4s | Loss: \u001b[32m2.7251\u001b[0m (L1: 0.0036, L2: 0.0037, NCE: 5.4281) | Test: RMSE=\u001b[32m0.0647\u001b[0m, MAE=\u001b[32m0.0510\u001b[0m\n",
      "  \u001b[33m↯ No improvement (4/50)\u001b[0m\n"
     ]
    },
    {
     "name": "stderr",
     "output_type": "stream",
     "text": [
      "Epoch 163/500 | Loss: \u001b[32m2.7539\u001b[0m Curr: 2.9586: |          | 151/? batches    \n"
     ]
    },
    {
     "name": "stdout",
     "output_type": "stream",
     "text": [
      "\u001b[36m[Ep 163] 196.6s | Loss: \u001b[32m2.7359\u001b[0m (L1: 0.0036, L2: 0.0036, NCE: 5.4500) | Test: RMSE=\u001b[32m0.0626\u001b[0m, MAE=\u001b[32m0.0496\u001b[0m\n",
      "  \u001b[33m↯ No improvement (5/50)\u001b[0m\n"
     ]
    },
    {
     "name": "stderr",
     "output_type": "stream",
     "text": [
      "Epoch 164/500 | Loss: \u001b[32m2.7759\u001b[0m Curr: 2.9045: |          | 151/? batches    \n"
     ]
    },
    {
     "name": "stdout",
     "output_type": "stream",
     "text": [
      "\u001b[36m[Ep 164] 197.9s | Loss: \u001b[32m2.7561\u001b[0m (L1: 0.0034, L2: 0.0034, NCE: 5.4918) | Test: RMSE=\u001b[32m0.0681\u001b[0m, MAE=\u001b[32m0.0543\u001b[0m\n",
      "  \u001b[33m↯ No improvement (6/50)\u001b[0m\n"
     ]
    },
    {
     "name": "stderr",
     "output_type": "stream",
     "text": [
      "Epoch 165/500 | Loss: \u001b[32m2.7299\u001b[0m Curr: 2.7895: |          | 151/? batches    \n"
     ]
    },
    {
     "name": "stdout",
     "output_type": "stream",
     "text": [
      "\u001b[36m[Ep 165] 199.2s | Loss: \u001b[32m2.7255\u001b[0m (L1: 0.0035, L2: 0.0035, NCE: 5.4298) | Test: RMSE=\u001b[32m0.0612\u001b[0m, MAE=\u001b[32m0.0482\u001b[0m\n",
      "  \u001b[33m↯ No improvement (7/50)\u001b[0m\n"
     ]
    },
    {
     "name": "stderr",
     "output_type": "stream",
     "text": [
      "Epoch 166/500 | Loss: \u001b[32m2.7796\u001b[0m Curr: 2.7830: |          | 151/? batches    \n"
     ]
    },
    {
     "name": "stdout",
     "output_type": "stream",
     "text": [
      "\u001b[36m[Ep 166] 200.5s | Loss: \u001b[32m2.7638\u001b[0m (L1: 0.0034, L2: 0.0034, NCE: 5.5071) | Test: RMSE=\u001b[32m0.0597\u001b[0m, MAE=\u001b[32m0.0472\u001b[0m\n",
      "  \u001b[33m↯ No improvement (8/50)\u001b[0m\n"
     ]
    },
    {
     "name": "stderr",
     "output_type": "stream",
     "text": [
      "Epoch 167/500 | Loss: \u001b[32m2.7599\u001b[0m Curr: 2.8773: |          | 151/? batches    \n"
     ]
    },
    {
     "name": "stdout",
     "output_type": "stream",
     "text": [
      "\u001b[36m[Ep 167] 201.8s | Loss: \u001b[32m2.7325\u001b[0m (L1: 0.0035, L2: 0.0035, NCE: 5.4437) | Test: RMSE=\u001b[32m0.0623\u001b[0m, MAE=\u001b[32m0.0496\u001b[0m\n",
      "  \u001b[33m↯ No improvement (9/50)\u001b[0m\n"
     ]
    },
    {
     "name": "stderr",
     "output_type": "stream",
     "text": [
      "Epoch 168/500 | Loss: \u001b[32m2.7526\u001b[0m Curr: 2.6096: |          | 151/? batches    \n"
     ]
    },
    {
     "name": "stdout",
     "output_type": "stream",
     "text": [
      "\u001b[36m[Ep 168] 203.0s | Loss: \u001b[32m2.7354\u001b[0m (L1: 0.0035, L2: 0.0035, NCE: 5.4494) | Test: RMSE=\u001b[32m0.0607\u001b[0m, MAE=\u001b[32m0.0483\u001b[0m\n",
      "  \u001b[33m↯ No improvement (10/50)\u001b[0m\n"
     ]
    },
    {
     "name": "stderr",
     "output_type": "stream",
     "text": [
      "Epoch 169/500 | Loss: \u001b[32m2.8079\u001b[0m Curr: 2.5312: |          | 151/? batches    \n"
     ]
    },
    {
     "name": "stdout",
     "output_type": "stream",
     "text": [
      "\u001b[36m[Ep 169] 204.2s | Loss: \u001b[32m2.7958\u001b[0m (L1: 0.0034, L2: 0.0034, NCE: 5.5712) | Test: RMSE=\u001b[32m0.0695\u001b[0m, MAE=\u001b[32m0.0559\u001b[0m\n",
      "  \u001b[33m↯ No improvement (11/50)\u001b[0m\n"
     ]
    },
    {
     "name": "stderr",
     "output_type": "stream",
     "text": [
      "Epoch 170/500 | Loss: \u001b[32m2.7726\u001b[0m Curr: 2.6438: |          | 151/? batches    \n"
     ]
    },
    {
     "name": "stdout",
     "output_type": "stream",
     "text": [
      "\u001b[36m[Ep 170] 205.4s | Loss: \u001b[32m2.7553\u001b[0m (L1: 0.0036, L2: 0.0036, NCE: 5.4888) | Test: RMSE=\u001b[32m0.0748\u001b[0m, MAE=\u001b[32m0.0594\u001b[0m\n",
      "  \u001b[33m↯ No improvement (12/50)\u001b[0m\n"
     ]
    },
    {
     "name": "stderr",
     "output_type": "stream",
     "text": [
      "Epoch 171/500 | Loss: \u001b[32m2.7572\u001b[0m Curr: 2.6631: |          | 151/? batches    \n"
     ]
    },
    {
     "name": "stdout",
     "output_type": "stream",
     "text": [
      "\u001b[36m[Ep 171] 206.6s | Loss: \u001b[32m2.7446\u001b[0m (L1: 0.0035, L2: 0.0035, NCE: 5.4681) | Test: RMSE=\u001b[32m0.0595\u001b[0m, MAE=\u001b[32m0.0475\u001b[0m\n",
      "  \u001b[33m↯ No improvement (13/50)\u001b[0m\n"
     ]
    },
    {
     "name": "stderr",
     "output_type": "stream",
     "text": [
      "Epoch 172/500 | Loss: \u001b[32m2.7720\u001b[0m Curr: 2.8166: |          | 151/? batches    \n"
     ]
    },
    {
     "name": "stdout",
     "output_type": "stream",
     "text": [
      "\u001b[36m[Ep 172] 207.7s | Loss: \u001b[32m2.7599\u001b[0m (L1: 0.0034, L2: 0.0034, NCE: 5.4995) | Test: RMSE=\u001b[32m0.0610\u001b[0m, MAE=\u001b[32m0.0481\u001b[0m\n",
      "  \u001b[33m↯ No improvement (14/50)\u001b[0m\n"
     ]
    },
    {
     "name": "stderr",
     "output_type": "stream",
     "text": [
      "Epoch 173/500 | Loss: \u001b[32m2.7359\u001b[0m Curr: 2.8676: |          | 151/? batches    \n"
     ]
    },
    {
     "name": "stdout",
     "output_type": "stream",
     "text": [
      "\u001b[36m[Ep 173] 209.0s | Loss: \u001b[32m2.7188\u001b[0m (L1: 0.0035, L2: 0.0035, NCE: 5.4164) | Test: RMSE=\u001b[32m0.0620\u001b[0m, MAE=\u001b[32m0.0490\u001b[0m\n",
      "  \u001b[33m↯ No improvement (15/50)\u001b[0m\n"
     ]
    },
    {
     "name": "stderr",
     "output_type": "stream",
     "text": [
      "Epoch 174/500 | Loss: \u001b[32m2.8181\u001b[0m Curr: 2.6417: |          | 151/? batches    \n"
     ]
    },
    {
     "name": "stdout",
     "output_type": "stream",
     "text": [
      "\u001b[36m[Ep 174] 210.2s | Loss: \u001b[32m2.8030\u001b[0m (L1: 0.0035, L2: 0.0035, NCE: 5.5851) | Test: RMSE=\u001b[32m0.0579\u001b[0m, MAE=\u001b[32m0.0458\u001b[0m\n",
      "  \u001b[33m↯ No improvement (16/50)\u001b[0m\n"
     ]
    },
    {
     "name": "stderr",
     "output_type": "stream",
     "text": [
      "Epoch 175/500 | Loss: \u001b[32m2.7986\u001b[0m Curr: 2.6728: |          | 151/? batches    \n"
     ]
    },
    {
     "name": "stdout",
     "output_type": "stream",
     "text": [
      "\u001b[36m[Ep 175] 211.4s | Loss: \u001b[32m2.7818\u001b[0m (L1: 0.0034, L2: 0.0034, NCE: 5.5433) | Test: RMSE=\u001b[32m0.0601\u001b[0m, MAE=\u001b[32m0.0475\u001b[0m\n",
      "  \u001b[33m↯ No improvement (17/50)\u001b[0m\n"
     ]
    },
    {
     "name": "stderr",
     "output_type": "stream",
     "text": [
      "Epoch 176/500 | Loss: \u001b[32m2.7403\u001b[0m Curr: 2.8033: |          | 151/? batches    \n"
     ]
    },
    {
     "name": "stdout",
     "output_type": "stream",
     "text": [
      "\u001b[36m[Ep 176] 212.6s | Loss: \u001b[32m2.7342\u001b[0m (L1: 0.0035, L2: 0.0035, NCE: 5.4474) | Test: RMSE=\u001b[32m0.0566\u001b[0m, MAE=\u001b[32m0.0454\u001b[0m\n",
      "  \u001b[35m★ Best RMSE! Model saved at bone_marrow_mb\u001b[0m\n"
     ]
    },
    {
     "name": "stderr",
     "output_type": "stream",
     "text": [
      "Epoch 177/500 | Loss: \u001b[32m2.7742\u001b[0m Curr: 2.8590: |          | 151/? batches    \n"
     ]
    },
    {
     "name": "stdout",
     "output_type": "stream",
     "text": [
      "\u001b[36m[Ep 177] 213.8s | Loss: \u001b[32m2.7502\u001b[0m (L1: 0.0033, L2: 0.0033, NCE: 5.4804) | Test: RMSE=\u001b[32m0.0643\u001b[0m, MAE=\u001b[32m0.0504\u001b[0m\n",
      "  \u001b[33m↯ No improvement (1/50)\u001b[0m\n"
     ]
    },
    {
     "name": "stderr",
     "output_type": "stream",
     "text": [
      "Epoch 178/500 | Loss: \u001b[32m2.8182\u001b[0m Curr: 3.0657: |          | 151/? batches    \n"
     ]
    },
    {
     "name": "stdout",
     "output_type": "stream",
     "text": [
      "\u001b[36m[Ep 178] 215.0s | Loss: \u001b[32m2.7926\u001b[0m (L1: 0.0035, L2: 0.0035, NCE: 5.5641) | Test: RMSE=\u001b[32m0.0595\u001b[0m, MAE=\u001b[32m0.0464\u001b[0m\n",
      "  \u001b[33m↯ No improvement (2/50)\u001b[0m\n"
     ]
    },
    {
     "name": "stderr",
     "output_type": "stream",
     "text": [
      "Epoch 179/500 | Loss: \u001b[32m2.8057\u001b[0m Curr: 2.4679: |          | 151/? batches    \n"
     ]
    },
    {
     "name": "stdout",
     "output_type": "stream",
     "text": [
      "\u001b[36m[Ep 179] 216.2s | Loss: \u001b[32m2.7827\u001b[0m (L1: 0.0034, L2: 0.0034, NCE: 5.5450) | Test: RMSE=\u001b[32m0.0558\u001b[0m, MAE=\u001b[32m0.0443\u001b[0m\n",
      "  \u001b[35m★ Best RMSE! Model saved at bone_marrow_mb\u001b[0m\n"
     ]
    },
    {
     "name": "stderr",
     "output_type": "stream",
     "text": [
      "Epoch 180/500 | Loss: \u001b[32m2.7972\u001b[0m Curr: 2.7615: |          | 151/? batches    \n"
     ]
    },
    {
     "name": "stdout",
     "output_type": "stream",
     "text": [
      "\u001b[36m[Ep 180] 217.4s | Loss: \u001b[32m2.7802\u001b[0m (L1: 0.0033, L2: 0.0033, NCE: 5.5404) | Test: RMSE=\u001b[32m0.0720\u001b[0m, MAE=\u001b[32m0.0560\u001b[0m\n",
      "  \u001b[33m↯ No improvement (1/50)\u001b[0m\n"
     ]
    },
    {
     "name": "stderr",
     "output_type": "stream",
     "text": [
      "Epoch 181/500 | Loss: \u001b[32m2.7899\u001b[0m Curr: 2.8308: |          | 151/? batches    \n"
     ]
    },
    {
     "name": "stdout",
     "output_type": "stream",
     "text": [
      "\u001b[36m[Ep 181] 218.6s | Loss: \u001b[32m2.7689\u001b[0m (L1: 0.0035, L2: 0.0035, NCE: 5.5168) | Test: RMSE=\u001b[32m0.0812\u001b[0m, MAE=\u001b[32m0.0640\u001b[0m\n",
      "  \u001b[33m↯ No improvement (2/50)\u001b[0m\n"
     ]
    },
    {
     "name": "stderr",
     "output_type": "stream",
     "text": [
      "Epoch 182/500 | Loss: \u001b[32m2.8020\u001b[0m Curr: 2.7736: |          | 151/? batches    \n"
     ]
    },
    {
     "name": "stdout",
     "output_type": "stream",
     "text": [
      "\u001b[36m[Ep 182] 219.8s | Loss: \u001b[32m2.7778\u001b[0m (L1: 0.0035, L2: 0.0035, NCE: 5.5345) | Test: RMSE=\u001b[32m0.0661\u001b[0m, MAE=\u001b[32m0.0526\u001b[0m\n",
      "  \u001b[33m↯ No improvement (3/50)\u001b[0m\n"
     ]
    },
    {
     "name": "stderr",
     "output_type": "stream",
     "text": [
      "Epoch 183/500 | Loss: \u001b[32m2.8033\u001b[0m Curr: 3.1230: |          | 151/? batches    \n"
     ]
    },
    {
     "name": "stdout",
     "output_type": "stream",
     "text": [
      "\u001b[36m[Ep 183] 221.0s | Loss: \u001b[32m2.7697\u001b[0m (L1: 0.0037, L2: 0.0037, NCE: 5.5171) | Test: RMSE=\u001b[32m0.0655\u001b[0m, MAE=\u001b[32m0.0516\u001b[0m\n",
      "  \u001b[33m↯ No improvement (4/50)\u001b[0m\n"
     ]
    },
    {
     "name": "stderr",
     "output_type": "stream",
     "text": [
      "Epoch 184/500 | Loss: \u001b[32m2.7776\u001b[0m Curr: 3.1504: |          | 151/? batches    \n"
     ]
    },
    {
     "name": "stdout",
     "output_type": "stream",
     "text": [
      "\u001b[36m[Ep 184] 222.2s | Loss: \u001b[32m2.7659\u001b[0m (L1: 0.0033, L2: 0.0033, NCE: 5.5119) | Test: RMSE=\u001b[32m0.0618\u001b[0m, MAE=\u001b[32m0.0488\u001b[0m\n",
      "  \u001b[33m↯ No improvement (5/50)\u001b[0m\n"
     ]
    },
    {
     "name": "stderr",
     "output_type": "stream",
     "text": [
      "Epoch 185/500 | Loss: \u001b[32m2.7930\u001b[0m Curr: 2.7489: |          | 151/? batches    \n"
     ]
    },
    {
     "name": "stdout",
     "output_type": "stream",
     "text": [
      "\u001b[36m[Ep 185] 223.5s | Loss: \u001b[32m2.7726\u001b[0m (L1: 0.0033, L2: 0.0033, NCE: 5.5253) | Test: RMSE=\u001b[32m0.0553\u001b[0m, MAE=\u001b[32m0.0436\u001b[0m\n",
      "  \u001b[35m★ Best RMSE! Model saved at bone_marrow_mb\u001b[0m\n"
     ]
    },
    {
     "name": "stderr",
     "output_type": "stream",
     "text": [
      "Epoch 186/500 | Loss: \u001b[32m2.7977\u001b[0m Curr: 3.0311: |          | 151/? batches    \n"
     ]
    },
    {
     "name": "stdout",
     "output_type": "stream",
     "text": [
      "\u001b[36m[Ep 186] 224.7s | Loss: \u001b[32m2.7858\u001b[0m (L1: 0.0034, L2: 0.0034, NCE: 5.5510) | Test: RMSE=\u001b[32m0.0598\u001b[0m, MAE=\u001b[32m0.0470\u001b[0m\n",
      "  \u001b[33m↯ No improvement (1/50)\u001b[0m\n"
     ]
    },
    {
     "name": "stderr",
     "output_type": "stream",
     "text": [
      "Epoch 187/500 | Loss: \u001b[32m2.8082\u001b[0m Curr: 2.3584: |          | 151/? batches    \n"
     ]
    },
    {
     "name": "stdout",
     "output_type": "stream",
     "text": [
      "\u001b[36m[Ep 187] 225.9s | Loss: \u001b[32m2.7836\u001b[0m (L1: 0.0033, L2: 0.0033, NCE: 5.5472) | Test: RMSE=\u001b[32m0.0591\u001b[0m, MAE=\u001b[32m0.0469\u001b[0m\n",
      "  \u001b[33m↯ No improvement (2/50)\u001b[0m\n"
     ]
    },
    {
     "name": "stderr",
     "output_type": "stream",
     "text": [
      "Epoch 188/500 | Loss: \u001b[32m2.7560\u001b[0m Curr: 2.7031: |          | 151/? batches    \n"
     ]
    },
    {
     "name": "stdout",
     "output_type": "stream",
     "text": [
      "\u001b[36m[Ep 188] 227.0s | Loss: \u001b[32m2.7384\u001b[0m (L1: 0.0032, L2: 0.0032, NCE: 5.4574) | Test: RMSE=\u001b[32m0.0612\u001b[0m, MAE=\u001b[32m0.0479\u001b[0m\n",
      "  \u001b[33m↯ No improvement (3/50)\u001b[0m\n"
     ]
    },
    {
     "name": "stderr",
     "output_type": "stream",
     "text": [
      "Epoch 189/500 | Loss: \u001b[32m2.7969\u001b[0m Curr: 2.8205: |          | 151/? batches    \n"
     ]
    },
    {
     "name": "stdout",
     "output_type": "stream",
     "text": [
      "\u001b[36m[Ep 189] 228.1s | Loss: \u001b[32m2.7638\u001b[0m (L1: 0.0034, L2: 0.0034, NCE: 5.5068) | Test: RMSE=\u001b[32m0.0612\u001b[0m, MAE=\u001b[32m0.0494\u001b[0m\n",
      "  \u001b[33m↯ No improvement (4/50)\u001b[0m\n"
     ]
    },
    {
     "name": "stderr",
     "output_type": "stream",
     "text": [
      "Epoch 190/500 | Loss: \u001b[32m2.7698\u001b[0m Curr: 2.6394: |          | 151/? batches    \n"
     ]
    },
    {
     "name": "stdout",
     "output_type": "stream",
     "text": [
      "\u001b[36m[Ep 190] 229.4s | Loss: \u001b[32m2.7638\u001b[0m (L1: 0.0034, L2: 0.0035, NCE: 5.5067) | Test: RMSE=\u001b[32m0.0586\u001b[0m, MAE=\u001b[32m0.0468\u001b[0m\n",
      "  \u001b[33m↯ No improvement (5/50)\u001b[0m\n"
     ]
    },
    {
     "name": "stderr",
     "output_type": "stream",
     "text": [
      "Epoch 191/500 | Loss: \u001b[32m2.7774\u001b[0m Curr: 3.0375: |          | 151/? batches    \n"
     ]
    },
    {
     "name": "stdout",
     "output_type": "stream",
     "text": [
      "\u001b[36m[Ep 191] 230.5s | Loss: \u001b[32m2.7601\u001b[0m (L1: 0.0033, L2: 0.0033, NCE: 5.5006) | Test: RMSE=\u001b[32m0.0557\u001b[0m, MAE=\u001b[32m0.0441\u001b[0m\n",
      "  \u001b[33m↯ No improvement (6/50)\u001b[0m\n"
     ]
    },
    {
     "name": "stderr",
     "output_type": "stream",
     "text": [
      "Epoch 192/500 | Loss: \u001b[32m2.7849\u001b[0m Curr: 2.8299: |          | 151/? batches    \n"
     ]
    },
    {
     "name": "stdout",
     "output_type": "stream",
     "text": [
      "\u001b[36m[Ep 192] 231.8s | Loss: \u001b[32m2.7650\u001b[0m (L1: 0.0033, L2: 0.0033, NCE: 5.5101) | Test: RMSE=\u001b[32m0.0615\u001b[0m, MAE=\u001b[32m0.0486\u001b[0m\n",
      "  \u001b[33m↯ No improvement (7/50)\u001b[0m\n"
     ]
    },
    {
     "name": "stderr",
     "output_type": "stream",
     "text": [
      "Epoch 193/500 | Loss: \u001b[32m2.7611\u001b[0m Curr: 2.7826: |          | 151/? batches    \n"
     ]
    },
    {
     "name": "stdout",
     "output_type": "stream",
     "text": [
      "\u001b[36m[Ep 193] 233.0s | Loss: \u001b[32m2.7474\u001b[0m (L1: 0.0034, L2: 0.0034, NCE: 5.4744) | Test: RMSE=\u001b[32m0.0563\u001b[0m, MAE=\u001b[32m0.0441\u001b[0m\n",
      "  \u001b[33m↯ No improvement (8/50)\u001b[0m\n"
     ]
    },
    {
     "name": "stderr",
     "output_type": "stream",
     "text": [
      "Epoch 194/500 | Loss: \u001b[32m2.7785\u001b[0m Curr: 2.7996: |          | 151/? batches    \n"
     ]
    },
    {
     "name": "stdout",
     "output_type": "stream",
     "text": [
      "\u001b[36m[Ep 194] 234.2s | Loss: \u001b[32m2.7459\u001b[0m (L1: 0.0033, L2: 0.0033, NCE: 5.4720) | Test: RMSE=\u001b[32m0.0543\u001b[0m, MAE=\u001b[32m0.0431\u001b[0m\n",
      "  \u001b[35m★ Best RMSE! Model saved at bone_marrow_mb\u001b[0m\n"
     ]
    },
    {
     "name": "stderr",
     "output_type": "stream",
     "text": [
      "Epoch 195/500 | Loss: \u001b[32m2.7701\u001b[0m Curr: 2.8043: |          | 151/? batches    \n"
     ]
    },
    {
     "name": "stdout",
     "output_type": "stream",
     "text": [
      "\u001b[36m[Ep 195] 235.3s | Loss: \u001b[32m2.7579\u001b[0m (L1: 0.0033, L2: 0.0033, NCE: 5.4958) | Test: RMSE=\u001b[32m0.0627\u001b[0m, MAE=\u001b[32m0.0502\u001b[0m\n",
      "  \u001b[33m↯ No improvement (1/50)\u001b[0m\n"
     ]
    },
    {
     "name": "stderr",
     "output_type": "stream",
     "text": [
      "Epoch 196/500 | Loss: \u001b[32m2.8373\u001b[0m Curr: 2.6064: |          | 151/? batches    \n"
     ]
    },
    {
     "name": "stdout",
     "output_type": "stream",
     "text": [
      "\u001b[36m[Ep 196] 236.2s | Loss: \u001b[32m2.8307\u001b[0m (L1: 0.0033, L2: 0.0033, NCE: 5.6413) | Test: RMSE=\u001b[32m0.0606\u001b[0m, MAE=\u001b[32m0.0482\u001b[0m\n",
      "  \u001b[33m↯ No improvement (2/50)\u001b[0m\n"
     ]
    },
    {
     "name": "stderr",
     "output_type": "stream",
     "text": [
      "Epoch 197/500 | Loss: \u001b[32m2.7900\u001b[0m Curr: 2.3156: |          | 151/? batches    \n"
     ]
    },
    {
     "name": "stdout",
     "output_type": "stream",
     "text": [
      "\u001b[36m[Ep 197] 237.3s | Loss: \u001b[32m2.7725\u001b[0m (L1: 0.0032, L2: 0.0032, NCE: 5.5258) | Test: RMSE=\u001b[32m0.0630\u001b[0m, MAE=\u001b[32m0.0499\u001b[0m\n",
      "  \u001b[33m↯ No improvement (3/50)\u001b[0m\n"
     ]
    },
    {
     "name": "stderr",
     "output_type": "stream",
     "text": [
      "Epoch 198/500 | Loss: \u001b[32m2.7414\u001b[0m Curr: 2.3814: |          | 151/? batches    \n"
     ]
    },
    {
     "name": "stdout",
     "output_type": "stream",
     "text": [
      "\u001b[36m[Ep 198] 238.5s | Loss: \u001b[32m2.7212\u001b[0m (L1: 0.0033, L2: 0.0033, NCE: 5.4222) | Test: RMSE=\u001b[32m0.0582\u001b[0m, MAE=\u001b[32m0.0458\u001b[0m\n",
      "  \u001b[33m↯ No improvement (4/50)\u001b[0m\n"
     ]
    },
    {
     "name": "stderr",
     "output_type": "stream",
     "text": [
      "Epoch 199/500 | Loss: \u001b[32m2.7801\u001b[0m Curr: 2.9240: |          | 151/? batches    \n"
     ]
    },
    {
     "name": "stdout",
     "output_type": "stream",
     "text": [
      "\u001b[36m[Ep 199] 239.7s | Loss: \u001b[32m2.7594\u001b[0m (L1: 0.0032, L2: 0.0032, NCE: 5.4994) | Test: RMSE=\u001b[32m0.0572\u001b[0m, MAE=\u001b[32m0.0451\u001b[0m\n",
      "  \u001b[33m↯ No improvement (5/50)\u001b[0m\n"
     ]
    },
    {
     "name": "stderr",
     "output_type": "stream",
     "text": [
      "Epoch 200/500 | Loss: \u001b[32m2.7846\u001b[0m Curr: 2.8049: |          | 151/? batches    \n"
     ]
    },
    {
     "name": "stdout",
     "output_type": "stream",
     "text": [
      "\u001b[36m[Ep 200] 240.9s | Loss: \u001b[32m2.7790\u001b[0m (L1: 0.0034, L2: 0.0034, NCE: 5.5377) | Test: RMSE=\u001b[32m0.0561\u001b[0m, MAE=\u001b[32m0.0442\u001b[0m\n",
      "  \u001b[33m↯ No improvement (6/50)\u001b[0m\n"
     ]
    },
    {
     "name": "stderr",
     "output_type": "stream",
     "text": [
      "Epoch 201/500 | Loss: \u001b[32m2.7910\u001b[0m Curr: 3.0526: |          | 151/? batches    \n"
     ]
    },
    {
     "name": "stdout",
     "output_type": "stream",
     "text": [
      "\u001b[36m[Ep 201] 242.1s | Loss: \u001b[32m2.7718\u001b[0m (L1: 0.0032, L2: 0.0032, NCE: 5.5241) | Test: RMSE=\u001b[32m0.0571\u001b[0m, MAE=\u001b[32m0.0459\u001b[0m\n",
      "  \u001b[33m↯ No improvement (7/50)\u001b[0m\n"
     ]
    },
    {
     "name": "stderr",
     "output_type": "stream",
     "text": [
      "Epoch 202/500 | Loss: \u001b[32m2.7936\u001b[0m Curr: 2.7876: |          | 151/? batches    \n"
     ]
    },
    {
     "name": "stdout",
     "output_type": "stream",
     "text": [
      "\u001b[36m[Ep 202] 243.4s | Loss: \u001b[32m2.7729\u001b[0m (L1: 0.0031, L2: 0.0031, NCE: 5.5269) | Test: RMSE=\u001b[32m0.0558\u001b[0m, MAE=\u001b[32m0.0445\u001b[0m\n",
      "  \u001b[33m↯ No improvement (8/50)\u001b[0m\n"
     ]
    },
    {
     "name": "stderr",
     "output_type": "stream",
     "text": [
      "Epoch 203/500 | Loss: \u001b[32m2.7471\u001b[0m Curr: 2.5202: |          | 151/? batches    \n"
     ]
    },
    {
     "name": "stdout",
     "output_type": "stream",
     "text": [
      "\u001b[36m[Ep 203] 244.7s | Loss: \u001b[32m2.7399\u001b[0m (L1: 0.0032, L2: 0.0032, NCE: 5.4606) | Test: RMSE=\u001b[32m0.0697\u001b[0m, MAE=\u001b[32m0.0549\u001b[0m\n",
      "  \u001b[33m↯ No improvement (9/50)\u001b[0m\n"
     ]
    },
    {
     "name": "stderr",
     "output_type": "stream",
     "text": [
      "Epoch 204/500 | Loss: \u001b[32m2.8095\u001b[0m Curr: 2.5785: |          | 151/? batches    \n"
     ]
    },
    {
     "name": "stdout",
     "output_type": "stream",
     "text": [
      "\u001b[36m[Ep 204] 245.9s | Loss: \u001b[32m2.7884\u001b[0m (L1: 0.0032, L2: 0.0033, NCE: 5.5572) | Test: RMSE=\u001b[32m0.0690\u001b[0m, MAE=\u001b[32m0.0558\u001b[0m\n",
      "  \u001b[33m↯ No improvement (10/50)\u001b[0m\n"
     ]
    },
    {
     "name": "stderr",
     "output_type": "stream",
     "text": [
      "Epoch 205/500 | Loss: \u001b[32m2.7888\u001b[0m Curr: 2.7601: |          | 151/? batches    \n"
     ]
    },
    {
     "name": "stdout",
     "output_type": "stream",
     "text": [
      "\u001b[36m[Ep 205] 247.2s | Loss: \u001b[32m2.7617\u001b[0m (L1: 0.0033, L2: 0.0033, NCE: 5.5032) | Test: RMSE=\u001b[32m0.0581\u001b[0m, MAE=\u001b[32m0.0455\u001b[0m\n",
      "  \u001b[33m↯ No improvement (11/50)\u001b[0m\n"
     ]
    },
    {
     "name": "stderr",
     "output_type": "stream",
     "text": [
      "Epoch 206/500 | Loss: \u001b[32m2.7813\u001b[0m Curr: 2.7017: |          | 151/? batches    \n"
     ]
    },
    {
     "name": "stdout",
     "output_type": "stream",
     "text": [
      "\u001b[36m[Ep 206] 248.5s | Loss: \u001b[32m2.7669\u001b[0m (L1: 0.0033, L2: 0.0032, NCE: 5.5141) | Test: RMSE=\u001b[32m0.0590\u001b[0m, MAE=\u001b[32m0.0472\u001b[0m\n",
      "  \u001b[33m↯ No improvement (12/50)\u001b[0m\n"
     ]
    },
    {
     "name": "stderr",
     "output_type": "stream",
     "text": [
      "Epoch 207/500 | Loss: \u001b[32m2.7988\u001b[0m Curr: 2.6109: |          | 151/? batches    \n"
     ]
    },
    {
     "name": "stdout",
     "output_type": "stream",
     "text": [
      "\u001b[36m[Ep 207] 249.8s | Loss: \u001b[32m2.7734\u001b[0m (L1: 0.0032, L2: 0.0032, NCE: 5.5272) | Test: RMSE=\u001b[32m0.0567\u001b[0m, MAE=\u001b[32m0.0444\u001b[0m\n",
      "  \u001b[33m↯ No improvement (13/50)\u001b[0m\n"
     ]
    },
    {
     "name": "stderr",
     "output_type": "stream",
     "text": [
      "Epoch 208/500 | Loss: \u001b[32m2.8271\u001b[0m Curr: 2.7710: |          | 151/? batches    \n"
     ]
    },
    {
     "name": "stdout",
     "output_type": "stream",
     "text": [
      "\u001b[36m[Ep 208] 251.1s | Loss: \u001b[32m2.8154\u001b[0m (L1: 0.0032, L2: 0.0032, NCE: 5.6111) | Test: RMSE=\u001b[32m0.0550\u001b[0m, MAE=\u001b[32m0.0437\u001b[0m\n",
      "  \u001b[33m↯ No improvement (14/50)\u001b[0m\n"
     ]
    },
    {
     "name": "stderr",
     "output_type": "stream",
     "text": [
      "Epoch 209/500 | Loss: \u001b[32m2.8308\u001b[0m Curr: 2.6932: |          | 151/? batches    \n"
     ]
    },
    {
     "name": "stdout",
     "output_type": "stream",
     "text": [
      "\u001b[36m[Ep 209] 252.3s | Loss: \u001b[32m2.8073\u001b[0m (L1: 0.0032, L2: 0.0032, NCE: 5.5954) | Test: RMSE=\u001b[32m0.0668\u001b[0m, MAE=\u001b[32m0.0539\u001b[0m\n",
      "  \u001b[33m↯ No improvement (15/50)\u001b[0m\n"
     ]
    },
    {
     "name": "stderr",
     "output_type": "stream",
     "text": [
      "Epoch 210/500 | Loss: \u001b[32m2.8582\u001b[0m Curr: 2.5799: |          | 151/? batches    \n"
     ]
    },
    {
     "name": "stdout",
     "output_type": "stream",
     "text": [
      "\u001b[36m[Ep 210] 253.6s | Loss: \u001b[32m2.8431\u001b[0m (L1: 0.0034, L2: 0.0034, NCE: 5.6656) | Test: RMSE=\u001b[32m0.1010\u001b[0m, MAE=\u001b[32m0.0781\u001b[0m\n",
      "  \u001b[33m↯ No improvement (16/50)\u001b[0m\n"
     ]
    },
    {
     "name": "stderr",
     "output_type": "stream",
     "text": [
      "Epoch 211/500 | Loss: \u001b[32m2.8253\u001b[0m Curr: 2.7335: |          | 151/? batches    \n"
     ]
    },
    {
     "name": "stdout",
     "output_type": "stream",
     "text": [
      "\u001b[36m[Ep 211] 254.8s | Loss: \u001b[32m2.8138\u001b[0m (L1: 0.0034, L2: 0.0034, NCE: 5.6070) | Test: RMSE=\u001b[32m0.0574\u001b[0m, MAE=\u001b[32m0.0452\u001b[0m\n",
      "  \u001b[33m↯ No improvement (17/50)\u001b[0m\n"
     ]
    },
    {
     "name": "stderr",
     "output_type": "stream",
     "text": [
      "Epoch 212/500 | Loss: \u001b[32m2.8320\u001b[0m Curr: 2.8355: |          | 151/? batches    \n"
     ]
    },
    {
     "name": "stdout",
     "output_type": "stream",
     "text": [
      "\u001b[36m[Ep 212] 256.0s | Loss: \u001b[32m2.8211\u001b[0m (L1: 0.0033, L2: 0.0033, NCE: 5.6225) | Test: RMSE=\u001b[32m0.0597\u001b[0m, MAE=\u001b[32m0.0477\u001b[0m\n",
      "  \u001b[33m↯ No improvement (18/50)\u001b[0m\n"
     ]
    },
    {
     "name": "stderr",
     "output_type": "stream",
     "text": [
      "Epoch 213/500 | Loss: \u001b[32m2.7931\u001b[0m Curr: 2.7511: |          | 151/? batches    \n"
     ]
    },
    {
     "name": "stdout",
     "output_type": "stream",
     "text": [
      "\u001b[36m[Ep 213] 257.3s | Loss: \u001b[32m2.7709\u001b[0m (L1: 0.0033, L2: 0.0033, NCE: 5.5217) | Test: RMSE=\u001b[32m0.0590\u001b[0m, MAE=\u001b[32m0.0470\u001b[0m\n",
      "  \u001b[33m↯ No improvement (19/50)\u001b[0m\n"
     ]
    },
    {
     "name": "stderr",
     "output_type": "stream",
     "text": [
      "Epoch 214/500 | Loss: \u001b[32m2.8136\u001b[0m Curr: 2.7219: |          | 151/? batches    \n"
     ]
    },
    {
     "name": "stdout",
     "output_type": "stream",
     "text": [
      "\u001b[36m[Ep 214] 258.6s | Loss: \u001b[32m2.7999\u001b[0m (L1: 0.0031, L2: 0.0031, NCE: 5.5810) | Test: RMSE=\u001b[32m0.0537\u001b[0m, MAE=\u001b[32m0.0427\u001b[0m\n",
      "  \u001b[35m★ Best RMSE! Model saved at bone_marrow_mb\u001b[0m\n"
     ]
    },
    {
     "name": "stderr",
     "output_type": "stream",
     "text": [
      "Epoch 215/500 | Loss: \u001b[32m2.8202\u001b[0m Curr: 2.6708: |          | 151/? batches    \n"
     ]
    },
    {
     "name": "stdout",
     "output_type": "stream",
     "text": [
      "\u001b[36m[Ep 215] 259.9s | Loss: \u001b[32m2.8004\u001b[0m (L1: 0.0033, L2: 0.0033, NCE: 5.5811) | Test: RMSE=\u001b[32m0.0850\u001b[0m, MAE=\u001b[32m0.0663\u001b[0m\n",
      "  \u001b[33m↯ No improvement (1/50)\u001b[0m\n"
     ]
    },
    {
     "name": "stderr",
     "output_type": "stream",
     "text": [
      "Epoch 216/500 | Loss: \u001b[32m2.8312\u001b[0m Curr: 2.4171: |          | 151/? batches    \n"
     ]
    },
    {
     "name": "stdout",
     "output_type": "stream",
     "text": [
      "\u001b[36m[Ep 216] 261.2s | Loss: \u001b[32m2.8054\u001b[0m (L1: 0.0035, L2: 0.0035, NCE: 5.5896) | Test: RMSE=\u001b[32m0.0642\u001b[0m, MAE=\u001b[32m0.0504\u001b[0m\n",
      "  \u001b[33m↯ No improvement (2/50)\u001b[0m\n"
     ]
    },
    {
     "name": "stderr",
     "output_type": "stream",
     "text": [
      "Epoch 217/500 | Loss: \u001b[32m2.7999\u001b[0m Curr: 3.0086: |          | 151/? batches    \n"
     ]
    },
    {
     "name": "stdout",
     "output_type": "stream",
     "text": [
      "\u001b[36m[Ep 217] 262.4s | Loss: \u001b[32m2.7832\u001b[0m (L1: 0.0032, L2: 0.0032, NCE: 5.5473) | Test: RMSE=\u001b[32m0.0588\u001b[0m, MAE=\u001b[32m0.0467\u001b[0m\n",
      "  \u001b[33m↯ No improvement (3/50)\u001b[0m\n"
     ]
    },
    {
     "name": "stderr",
     "output_type": "stream",
     "text": [
      "Epoch 218/500 | Loss: \u001b[32m2.7956\u001b[0m Curr: 2.6625: |          | 151/? batches    \n"
     ]
    },
    {
     "name": "stdout",
     "output_type": "stream",
     "text": [
      "\u001b[36m[Ep 218] 263.7s | Loss: \u001b[32m2.7828\u001b[0m (L1: 0.0033, L2: 0.0033, NCE: 5.5457) | Test: RMSE=\u001b[32m0.0700\u001b[0m, MAE=\u001b[32m0.0547\u001b[0m\n",
      "  \u001b[33m↯ No improvement (4/50)\u001b[0m\n"
     ]
    },
    {
     "name": "stderr",
     "output_type": "stream",
     "text": [
      "Epoch 219/500 | Loss: \u001b[32m2.8140\u001b[0m Curr: 2.8202: |          | 151/? batches    \n"
     ]
    },
    {
     "name": "stdout",
     "output_type": "stream",
     "text": [
      "\u001b[36m[Ep 219] 265.0s | Loss: \u001b[32m2.7948\u001b[0m (L1: 0.0032, L2: 0.0032, NCE: 5.5703) | Test: RMSE=\u001b[32m0.0780\u001b[0m, MAE=\u001b[32m0.0596\u001b[0m\n",
      "  \u001b[33m↯ No improvement (5/50)\u001b[0m\n"
     ]
    },
    {
     "name": "stderr",
     "output_type": "stream",
     "text": [
      "Epoch 220/500 | Loss: \u001b[32m2.8127\u001b[0m Curr: 2.8980: |          | 151/? batches    \n"
     ]
    },
    {
     "name": "stdout",
     "output_type": "stream",
     "text": [
      "\u001b[36m[Ep 220] 266.3s | Loss: \u001b[32m2.7990\u001b[0m (L1: 0.0035, L2: 0.0035, NCE: 5.5766) | Test: RMSE=\u001b[32m0.0673\u001b[0m, MAE=\u001b[32m0.0534\u001b[0m\n",
      "  \u001b[33m↯ No improvement (6/50)\u001b[0m\n"
     ]
    },
    {
     "name": "stderr",
     "output_type": "stream",
     "text": [
      "Epoch 221/500 | Loss: \u001b[32m2.7994\u001b[0m Curr: 2.6997: |          | 151/? batches    \n"
     ]
    },
    {
     "name": "stdout",
     "output_type": "stream",
     "text": [
      "\u001b[36m[Ep 221] 267.6s | Loss: \u001b[32m2.7910\u001b[0m (L1: 0.0032, L2: 0.0032, NCE: 5.5627) | Test: RMSE=\u001b[32m0.0599\u001b[0m, MAE=\u001b[32m0.0471\u001b[0m\n",
      "  \u001b[33m↯ No improvement (7/50)\u001b[0m\n"
     ]
    },
    {
     "name": "stderr",
     "output_type": "stream",
     "text": [
      "Epoch 222/500 | Loss: \u001b[32m2.7871\u001b[0m Curr: 2.5328: |          | 151/? batches    \n"
     ]
    },
    {
     "name": "stdout",
     "output_type": "stream",
     "text": [
      "\u001b[36m[Ep 222] 268.9s | Loss: \u001b[32m2.7817\u001b[0m (L1: 0.0033, L2: 0.0033, NCE: 5.5436) | Test: RMSE=\u001b[32m0.0686\u001b[0m, MAE=\u001b[32m0.0536\u001b[0m\n",
      "  \u001b[33m↯ No improvement (8/50)\u001b[0m\n"
     ]
    },
    {
     "name": "stderr",
     "output_type": "stream",
     "text": [
      "Epoch 223/500 | Loss: \u001b[32m2.7908\u001b[0m Curr: 2.6521: |          | 151/? batches    \n"
     ]
    },
    {
     "name": "stdout",
     "output_type": "stream",
     "text": [
      "\u001b[36m[Ep 223] 270.2s | Loss: \u001b[32m2.7758\u001b[0m (L1: 0.0034, L2: 0.0034, NCE: 5.5310) | Test: RMSE=\u001b[32m0.0578\u001b[0m, MAE=\u001b[32m0.0458\u001b[0m\n",
      "  \u001b[33m↯ No improvement (9/50)\u001b[0m\n"
     ]
    },
    {
     "name": "stderr",
     "output_type": "stream",
     "text": [
      "Epoch 224/500 | Loss: \u001b[32m2.7686\u001b[0m Curr: 2.4722: |          | 151/? batches    \n"
     ]
    },
    {
     "name": "stdout",
     "output_type": "stream",
     "text": [
      "\u001b[36m[Ep 224] 271.4s | Loss: \u001b[32m2.7598\u001b[0m (L1: 0.0033, L2: 0.0033, NCE: 5.4996) | Test: RMSE=\u001b[32m0.0556\u001b[0m, MAE=\u001b[32m0.0445\u001b[0m\n",
      "  \u001b[33m↯ No improvement (10/50)\u001b[0m\n"
     ]
    },
    {
     "name": "stderr",
     "output_type": "stream",
     "text": [
      "Epoch 225/500 | Loss: \u001b[32m2.7762\u001b[0m Curr: 2.9677: |          | 151/? batches    \n"
     ]
    },
    {
     "name": "stdout",
     "output_type": "stream",
     "text": [
      "\u001b[36m[Ep 225] 272.7s | Loss: \u001b[32m2.7674\u001b[0m (L1: 0.0030, L2: 0.0030, NCE: 5.5167) | Test: RMSE=\u001b[32m0.0557\u001b[0m, MAE=\u001b[32m0.0441\u001b[0m\n",
      "  \u001b[33m↯ No improvement (11/50)\u001b[0m\n"
     ]
    },
    {
     "name": "stderr",
     "output_type": "stream",
     "text": [
      "Epoch 226/500 | Loss: \u001b[32m2.7834\u001b[0m Curr: 2.5566: |          | 151/? batches    \n"
     ]
    },
    {
     "name": "stdout",
     "output_type": "stream",
     "text": [
      "\u001b[36m[Ep 226] 274.0s | Loss: \u001b[32m2.7708\u001b[0m (L1: 0.0031, L2: 0.0031, NCE: 5.5226) | Test: RMSE=\u001b[32m0.0595\u001b[0m, MAE=\u001b[32m0.0472\u001b[0m\n",
      "  \u001b[33m↯ No improvement (12/50)\u001b[0m\n"
     ]
    },
    {
     "name": "stderr",
     "output_type": "stream",
     "text": [
      "Epoch 227/500 | Loss: \u001b[32m2.8183\u001b[0m Curr: 2.7896: |          | 151/? batches    \n"
     ]
    },
    {
     "name": "stdout",
     "output_type": "stream",
     "text": [
      "\u001b[36m[Ep 227] 275.3s | Loss: \u001b[32m2.8054\u001b[0m (L1: 0.0032, L2: 0.0032, NCE: 5.5917) | Test: RMSE=\u001b[32m0.0563\u001b[0m, MAE=\u001b[32m0.0449\u001b[0m\n",
      "  \u001b[33m↯ No improvement (13/50)\u001b[0m\n"
     ]
    },
    {
     "name": "stderr",
     "output_type": "stream",
     "text": [
      "Epoch 228/500 | Loss: \u001b[32m2.8312\u001b[0m Curr: 2.8528: |          | 151/? batches    \n"
     ]
    },
    {
     "name": "stdout",
     "output_type": "stream",
     "text": [
      "\u001b[36m[Ep 228] 276.6s | Loss: \u001b[32m2.8105\u001b[0m (L1: 0.0032, L2: 0.0032, NCE: 5.6016) | Test: RMSE=\u001b[32m0.0690\u001b[0m, MAE=\u001b[32m0.0541\u001b[0m\n",
      "  \u001b[33m↯ No improvement (14/50)\u001b[0m\n"
     ]
    },
    {
     "name": "stderr",
     "output_type": "stream",
     "text": [
      "Epoch 229/500 | Loss: \u001b[32m2.7793\u001b[0m Curr: 3.0689: |          | 151/? batches    \n"
     ]
    },
    {
     "name": "stdout",
     "output_type": "stream",
     "text": [
      "\u001b[36m[Ep 229] 277.9s | Loss: \u001b[32m2.7678\u001b[0m (L1: 0.0034, L2: 0.0034, NCE: 5.5152) | Test: RMSE=\u001b[32m0.0566\u001b[0m, MAE=\u001b[32m0.0445\u001b[0m\n",
      "  \u001b[33m↯ No improvement (15/50)\u001b[0m\n"
     ]
    },
    {
     "name": "stderr",
     "output_type": "stream",
     "text": [
      "Epoch 230/500 | Loss: \u001b[32m2.8023\u001b[0m Curr: 3.0289: |          | 151/? batches    \n"
     ]
    },
    {
     "name": "stdout",
     "output_type": "stream",
     "text": [
      "\u001b[36m[Ep 230] 279.2s | Loss: \u001b[32m2.7890\u001b[0m (L1: 0.0033, L2: 0.0033, NCE: 5.5579) | Test: RMSE=\u001b[32m0.0600\u001b[0m, MAE=\u001b[32m0.0470\u001b[0m\n",
      "  \u001b[33m↯ No improvement (16/50)\u001b[0m\n"
     ]
    },
    {
     "name": "stderr",
     "output_type": "stream",
     "text": [
      "Epoch 231/500 | Loss: \u001b[32m2.8214\u001b[0m Curr: 2.8717: |          | 151/? batches    \n"
     ]
    },
    {
     "name": "stdout",
     "output_type": "stream",
     "text": [
      "\u001b[36m[Ep 231] 280.6s | Loss: \u001b[32m2.8018\u001b[0m (L1: 0.0030, L2: 0.0030, NCE: 5.5854) | Test: RMSE=\u001b[32m0.0581\u001b[0m, MAE=\u001b[32m0.0455\u001b[0m\n",
      "  \u001b[33m↯ No improvement (17/50)\u001b[0m\n"
     ]
    },
    {
     "name": "stderr",
     "output_type": "stream",
     "text": [
      "Epoch 232/500 | Loss: \u001b[32m2.8506\u001b[0m Curr: 2.5643: |          | 151/? batches    \n"
     ]
    },
    {
     "name": "stdout",
     "output_type": "stream",
     "text": [
      "\u001b[36m[Ep 232] 281.8s | Loss: \u001b[32m2.8343\u001b[0m (L1: 0.0030, L2: 0.0030, NCE: 5.6505) | Test: RMSE=\u001b[32m0.0526\u001b[0m, MAE=\u001b[32m0.0415\u001b[0m\n",
      "  \u001b[35m★ Best RMSE! Model saved at bone_marrow_mb\u001b[0m\n"
     ]
    },
    {
     "name": "stderr",
     "output_type": "stream",
     "text": [
      "Epoch 233/500 | Loss: \u001b[32m2.8158\u001b[0m Curr: 2.8603: |          | 151/? batches    \n"
     ]
    },
    {
     "name": "stdout",
     "output_type": "stream",
     "text": [
      "\u001b[36m[Ep 233] 283.1s | Loss: \u001b[32m2.7886\u001b[0m (L1: 0.0031, L2: 0.0031, NCE: 5.5585) | Test: RMSE=\u001b[32m0.0587\u001b[0m, MAE=\u001b[32m0.0465\u001b[0m\n",
      "  \u001b[33m↯ No improvement (1/50)\u001b[0m\n"
     ]
    },
    {
     "name": "stderr",
     "output_type": "stream",
     "text": [
      "Epoch 234/500 | Loss: \u001b[32m2.8072\u001b[0m Curr: 2.8914: |          | 151/? batches    \n"
     ]
    },
    {
     "name": "stdout",
     "output_type": "stream",
     "text": [
      "\u001b[36m[Ep 234] 284.3s | Loss: \u001b[32m2.7767\u001b[0m (L1: 0.0030, L2: 0.0030, NCE: 5.5353) | Test: RMSE=\u001b[32m0.0613\u001b[0m, MAE=\u001b[32m0.0479\u001b[0m\n",
      "  \u001b[33m↯ No improvement (2/50)\u001b[0m\n"
     ]
    },
    {
     "name": "stderr",
     "output_type": "stream",
     "text": [
      "Epoch 235/500 | Loss: \u001b[32m2.8040\u001b[0m Curr: 2.8093: |          | 151/? batches    \n"
     ]
    },
    {
     "name": "stdout",
     "output_type": "stream",
     "text": [
      "\u001b[36m[Ep 235] 285.6s | Loss: \u001b[32m2.7866\u001b[0m (L1: 0.0032, L2: 0.0032, NCE: 5.5542) | Test: RMSE=\u001b[32m0.0641\u001b[0m, MAE=\u001b[32m0.0501\u001b[0m\n",
      "  \u001b[33m↯ No improvement (3/50)\u001b[0m\n"
     ]
    },
    {
     "name": "stderr",
     "output_type": "stream",
     "text": [
      "Epoch 236/500 | Loss: \u001b[32m2.7665\u001b[0m Curr: 2.4630: |          | 151/? batches    \n"
     ]
    },
    {
     "name": "stdout",
     "output_type": "stream",
     "text": [
      "\u001b[36m[Ep 236] 286.8s | Loss: \u001b[32m2.7481\u001b[0m (L1: 0.0031, L2: 0.0031, NCE: 5.4775) | Test: RMSE=\u001b[32m0.0617\u001b[0m, MAE=\u001b[32m0.0482\u001b[0m\n",
      "  \u001b[33m↯ No improvement (4/50)\u001b[0m\n"
     ]
    },
    {
     "name": "stderr",
     "output_type": "stream",
     "text": [
      "Epoch 237/500 | Loss: \u001b[32m2.8908\u001b[0m Curr: 3.0674: |          | 151/? batches    \n"
     ]
    },
    {
     "name": "stdout",
     "output_type": "stream",
     "text": [
      "\u001b[36m[Ep 237] 288.1s | Loss: \u001b[32m2.8579\u001b[0m (L1: 0.0031, L2: 0.0031, NCE: 5.6973) | Test: RMSE=\u001b[32m0.0653\u001b[0m, MAE=\u001b[32m0.0517\u001b[0m\n",
      "  \u001b[33m↯ No improvement (5/50)\u001b[0m\n"
     ]
    },
    {
     "name": "stderr",
     "output_type": "stream",
     "text": [
      "Epoch 238/500 | Loss: \u001b[32m2.7962\u001b[0m Curr: 3.0434: |          | 151/? batches    \n"
     ]
    },
    {
     "name": "stdout",
     "output_type": "stream",
     "text": [
      "\u001b[36m[Ep 238] 289.4s | Loss: \u001b[32m2.7866\u001b[0m (L1: 0.0031, L2: 0.0031, NCE: 5.5544) | Test: RMSE=\u001b[32m0.0565\u001b[0m, MAE=\u001b[32m0.0446\u001b[0m\n",
      "  \u001b[33m↯ No improvement (6/50)\u001b[0m\n"
     ]
    },
    {
     "name": "stderr",
     "output_type": "stream",
     "text": [
      "Epoch 239/500 | Loss: \u001b[32m2.8340\u001b[0m Curr: 3.0022: |          | 151/? batches    \n"
     ]
    },
    {
     "name": "stdout",
     "output_type": "stream",
     "text": [
      "\u001b[36m[Ep 239] 290.6s | Loss: \u001b[32m2.8148\u001b[0m (L1: 0.0032, L2: 0.0032, NCE: 5.6104) | Test: RMSE=\u001b[32m0.0605\u001b[0m, MAE=\u001b[32m0.0483\u001b[0m\n",
      "  \u001b[33m↯ No improvement (7/50)\u001b[0m\n"
     ]
    },
    {
     "name": "stderr",
     "output_type": "stream",
     "text": [
      "Epoch 240/500 | Loss: \u001b[32m2.8181\u001b[0m Curr: 2.8953: |          | 151/? batches    \n"
     ]
    },
    {
     "name": "stdout",
     "output_type": "stream",
     "text": [
      "\u001b[36m[Ep 240] 291.9s | Loss: \u001b[32m2.7973\u001b[0m (L1: 0.0031, L2: 0.0031, NCE: 5.5759) | Test: RMSE=\u001b[32m0.0606\u001b[0m, MAE=\u001b[32m0.0479\u001b[0m\n",
      "  \u001b[33m↯ No improvement (8/50)\u001b[0m\n"
     ]
    },
    {
     "name": "stderr",
     "output_type": "stream",
     "text": [
      "Epoch 241/500 | Loss: \u001b[32m2.8131\u001b[0m Curr: 3.0593: |          | 151/? batches    \n"
     ]
    },
    {
     "name": "stdout",
     "output_type": "stream",
     "text": [
      "\u001b[36m[Ep 241] 293.1s | Loss: \u001b[32m2.7905\u001b[0m (L1: 0.0032, L2: 0.0032, NCE: 5.5616) | Test: RMSE=\u001b[32m0.0580\u001b[0m, MAE=\u001b[32m0.0464\u001b[0m\n",
      "  \u001b[33m↯ No improvement (9/50)\u001b[0m\n"
     ]
    },
    {
     "name": "stderr",
     "output_type": "stream",
     "text": [
      "Epoch 242/500 | Loss: \u001b[32m2.7880\u001b[0m Curr: 2.9092: |          | 151/? batches    \n"
     ]
    },
    {
     "name": "stdout",
     "output_type": "stream",
     "text": [
      "\u001b[36m[Ep 242] 294.4s | Loss: \u001b[32m2.7776\u001b[0m (L1: 0.0030, L2: 0.0030, NCE: 5.5374) | Test: RMSE=\u001b[32m0.0568\u001b[0m, MAE=\u001b[32m0.0457\u001b[0m\n",
      "  \u001b[33m↯ No improvement (10/50)\u001b[0m\n"
     ]
    },
    {
     "name": "stderr",
     "output_type": "stream",
     "text": [
      "Epoch 243/500 | Loss: \u001b[32m2.8315\u001b[0m Curr: 2.4454: |          | 151/? batches    \n"
     ]
    },
    {
     "name": "stdout",
     "output_type": "stream",
     "text": [
      "\u001b[36m[Ep 243] 295.6s | Loss: \u001b[32m2.8044\u001b[0m (L1: 0.0030, L2: 0.0030, NCE: 5.5907) | Test: RMSE=\u001b[32m0.0613\u001b[0m, MAE=\u001b[32m0.0477\u001b[0m\n",
      "  \u001b[33m↯ No improvement (11/50)\u001b[0m\n"
     ]
    },
    {
     "name": "stderr",
     "output_type": "stream",
     "text": [
      "Epoch 244/500 | Loss: \u001b[32m2.8333\u001b[0m Curr: 2.7682: |          | 151/? batches    \n"
     ]
    },
    {
     "name": "stdout",
     "output_type": "stream",
     "text": [
      "\u001b[36m[Ep 244] 296.9s | Loss: \u001b[32m2.8191\u001b[0m (L1: 0.0031, L2: 0.0031, NCE: 5.6196) | Test: RMSE=\u001b[32m0.0572\u001b[0m, MAE=\u001b[32m0.0459\u001b[0m\n",
      "  \u001b[33m↯ No improvement (12/50)\u001b[0m\n"
     ]
    },
    {
     "name": "stderr",
     "output_type": "stream",
     "text": [
      "Epoch 245/500 | Loss: \u001b[32m2.7742\u001b[0m Curr: 2.8567: |          | 151/? batches    \n"
     ]
    },
    {
     "name": "stdout",
     "output_type": "stream",
     "text": [
      "\u001b[36m[Ep 245] 298.2s | Loss: \u001b[32m2.7713\u001b[0m (L1: 0.0031, L2: 0.0030, NCE: 5.5243) | Test: RMSE=\u001b[32m0.0571\u001b[0m, MAE=\u001b[32m0.0452\u001b[0m\n",
      "  \u001b[33m↯ No improvement (13/50)\u001b[0m\n"
     ]
    },
    {
     "name": "stderr",
     "output_type": "stream",
     "text": [
      "Epoch 246/500 | Loss: \u001b[32m2.7843\u001b[0m Curr: 3.1707: |          | 151/? batches    \n"
     ]
    },
    {
     "name": "stdout",
     "output_type": "stream",
     "text": [
      "\u001b[36m[Ep 246] 299.5s | Loss: \u001b[32m2.7721\u001b[0m (L1: 0.0032, L2: 0.0032, NCE: 5.5246) | Test: RMSE=\u001b[32m0.0635\u001b[0m, MAE=\u001b[32m0.0499\u001b[0m\n",
      "  \u001b[33m↯ No improvement (14/50)\u001b[0m\n"
     ]
    },
    {
     "name": "stderr",
     "output_type": "stream",
     "text": [
      "Epoch 247/500 | Loss: \u001b[32m2.7901\u001b[0m Curr: 2.9147: |          | 151/? batches    \n"
     ]
    },
    {
     "name": "stdout",
     "output_type": "stream",
     "text": [
      "\u001b[36m[Ep 247] 300.8s | Loss: \u001b[32m2.7578\u001b[0m (L1: 0.0032, L2: 0.0032, NCE: 5.4965) | Test: RMSE=\u001b[32m0.0678\u001b[0m, MAE=\u001b[32m0.0550\u001b[0m\n",
      "  \u001b[33m↯ No improvement (15/50)\u001b[0m\n"
     ]
    },
    {
     "name": "stderr",
     "output_type": "stream",
     "text": [
      "Epoch 248/500 | Loss: \u001b[32m2.8377\u001b[0m Curr: 2.7123: |          | 151/? batches    \n"
     ]
    },
    {
     "name": "stdout",
     "output_type": "stream",
     "text": [
      "\u001b[36m[Ep 248] 302.1s | Loss: \u001b[32m2.8149\u001b[0m (L1: 0.0031, L2: 0.0031, NCE: 5.6111) | Test: RMSE=\u001b[32m0.0538\u001b[0m, MAE=\u001b[32m0.0430\u001b[0m\n",
      "  \u001b[33m↯ No improvement (16/50)\u001b[0m\n"
     ]
    },
    {
     "name": "stderr",
     "output_type": "stream",
     "text": [
      "Epoch 249/500 | Loss: \u001b[32m2.8180\u001b[0m Curr: 3.0714: |          | 151/? batches    \n"
     ]
    },
    {
     "name": "stdout",
     "output_type": "stream",
     "text": [
      "\u001b[36m[Ep 249] 303.5s | Loss: \u001b[32m2.8010\u001b[0m (L1: 0.0030, L2: 0.0030, NCE: 5.5837) | Test: RMSE=\u001b[32m0.0542\u001b[0m, MAE=\u001b[32m0.0430\u001b[0m\n",
      "  \u001b[33m↯ No improvement (17/50)\u001b[0m\n"
     ]
    },
    {
     "name": "stderr",
     "output_type": "stream",
     "text": [
      "Epoch 250/500 | Loss: \u001b[32m2.8208\u001b[0m Curr: 2.7079: |          | 151/? batches    \n"
     ]
    },
    {
     "name": "stdout",
     "output_type": "stream",
     "text": [
      "\u001b[36m[Ep 250] 304.8s | Loss: \u001b[32m2.7991\u001b[0m (L1: 0.0031, L2: 0.0031, NCE: 5.5796) | Test: RMSE=\u001b[32m0.0557\u001b[0m, MAE=\u001b[32m0.0446\u001b[0m\n",
      "  \u001b[33m↯ No improvement (18/50)\u001b[0m\n"
     ]
    },
    {
     "name": "stderr",
     "output_type": "stream",
     "text": [
      "Epoch 251/500 | Loss: \u001b[32m2.7957\u001b[0m Curr: 2.6601: |          | 151/? batches    \n"
     ]
    },
    {
     "name": "stdout",
     "output_type": "stream",
     "text": [
      "\u001b[36m[Ep 251] 306.1s | Loss: \u001b[32m2.7968\u001b[0m (L1: 0.0032, L2: 0.0032, NCE: 5.5743) | Test: RMSE=\u001b[32m0.0555\u001b[0m, MAE=\u001b[32m0.0434\u001b[0m\n",
      "  \u001b[33m↯ No improvement (19/50)\u001b[0m\n"
     ]
    },
    {
     "name": "stderr",
     "output_type": "stream",
     "text": [
      "Epoch 252/500 | Loss: \u001b[32m2.8293\u001b[0m Curr: 3.1973: |          | 151/? batches    \n"
     ]
    },
    {
     "name": "stdout",
     "output_type": "stream",
     "text": [
      "\u001b[36m[Ep 252] 307.3s | Loss: \u001b[32m2.8096\u001b[0m (L1: 0.0030, L2: 0.0030, NCE: 5.6009) | Test: RMSE=\u001b[32m0.0573\u001b[0m, MAE=\u001b[32m0.0454\u001b[0m\n",
      "  \u001b[33m↯ No improvement (20/50)\u001b[0m\n"
     ]
    },
    {
     "name": "stderr",
     "output_type": "stream",
     "text": [
      "Epoch 253/500 | Loss: \u001b[32m2.7662\u001b[0m Curr: 2.5498: |          | 151/? batches    \n"
     ]
    },
    {
     "name": "stdout",
     "output_type": "stream",
     "text": [
      "\u001b[36m[Ep 253] 308.6s | Loss: \u001b[32m2.7664\u001b[0m (L1: 0.0031, L2: 0.0031, NCE: 5.5144) | Test: RMSE=\u001b[32m0.0602\u001b[0m, MAE=\u001b[32m0.0471\u001b[0m\n",
      "  \u001b[33m↯ No improvement (21/50)\u001b[0m\n"
     ]
    },
    {
     "name": "stderr",
     "output_type": "stream",
     "text": [
      "Epoch 254/500 | Loss: \u001b[32m2.7732\u001b[0m Curr: 2.7120: |          | 151/? batches    \n"
     ]
    },
    {
     "name": "stdout",
     "output_type": "stream",
     "text": [
      "\u001b[36m[Ep 254] 309.8s | Loss: \u001b[32m2.7576\u001b[0m (L1: 0.0031, L2: 0.0031, NCE: 5.4962) | Test: RMSE=\u001b[32m0.0556\u001b[0m, MAE=\u001b[32m0.0435\u001b[0m\n",
      "  \u001b[33m↯ No improvement (22/50)\u001b[0m\n"
     ]
    },
    {
     "name": "stderr",
     "output_type": "stream",
     "text": [
      "Epoch 255/500 | Loss: \u001b[32m2.8311\u001b[0m Curr: 3.0449: |          | 151/? batches    \n"
     ]
    },
    {
     "name": "stdout",
     "output_type": "stream",
     "text": [
      "\u001b[36m[Ep 255] 311.1s | Loss: \u001b[32m2.8218\u001b[0m (L1: 0.0029, L2: 0.0029, NCE: 5.6261) | Test: RMSE=\u001b[32m0.0584\u001b[0m, MAE=\u001b[32m0.0455\u001b[0m\n",
      "  \u001b[33m↯ No improvement (23/50)\u001b[0m\n"
     ]
    },
    {
     "name": "stderr",
     "output_type": "stream",
     "text": [
      "Epoch 256/500 | Loss: \u001b[32m2.8083\u001b[0m Curr: 2.6384: |          | 151/? batches    \n"
     ]
    },
    {
     "name": "stdout",
     "output_type": "stream",
     "text": [
      "\u001b[36m[Ep 256] 312.3s | Loss: \u001b[32m2.7997\u001b[0m (L1: 0.0031, L2: 0.0031, NCE: 5.5806) | Test: RMSE=\u001b[32m0.0542\u001b[0m, MAE=\u001b[32m0.0425\u001b[0m\n",
      "  \u001b[33m↯ No improvement (24/50)\u001b[0m\n"
     ]
    },
    {
     "name": "stderr",
     "output_type": "stream",
     "text": [
      "Epoch 257/500 | Loss: \u001b[32m2.8239\u001b[0m Curr: 3.0847: |          | 151/? batches    \n"
     ]
    },
    {
     "name": "stdout",
     "output_type": "stream",
     "text": [
      "\u001b[36m[Ep 257] 313.6s | Loss: \u001b[32m2.8076\u001b[0m (L1: 0.0031, L2: 0.0031, NCE: 5.5967) | Test: RMSE=\u001b[32m0.0594\u001b[0m, MAE=\u001b[32m0.0464\u001b[0m\n",
      "  \u001b[33m↯ No improvement (25/50)\u001b[0m\n"
     ]
    },
    {
     "name": "stderr",
     "output_type": "stream",
     "text": [
      "Epoch 258/500 | Loss: \u001b[32m2.8237\u001b[0m Curr: 2.8871: |          | 151/? batches    \n"
     ]
    },
    {
     "name": "stdout",
     "output_type": "stream",
     "text": [
      "\u001b[36m[Ep 258] 314.8s | Loss: \u001b[32m2.8064\u001b[0m (L1: 0.0032, L2: 0.0032, NCE: 5.5936) | Test: RMSE=\u001b[32m0.0619\u001b[0m, MAE=\u001b[32m0.0486\u001b[0m\n",
      "  \u001b[33m↯ No improvement (26/50)\u001b[0m\n"
     ]
    },
    {
     "name": "stderr",
     "output_type": "stream",
     "text": [
      "Epoch 259/500 | Loss: \u001b[32m2.8505\u001b[0m Curr: 3.0642: |          | 151/? batches    \n"
     ]
    },
    {
     "name": "stdout",
     "output_type": "stream",
     "text": [
      "\u001b[36m[Ep 259] 316.0s | Loss: \u001b[32m2.8274\u001b[0m (L1: 0.0029, L2: 0.0029, NCE: 5.6375) | Test: RMSE=\u001b[32m0.0552\u001b[0m, MAE=\u001b[32m0.0443\u001b[0m\n",
      "  \u001b[33m↯ No improvement (27/50)\u001b[0m\n"
     ]
    },
    {
     "name": "stderr",
     "output_type": "stream",
     "text": [
      "Epoch 260/500 | Loss: \u001b[32m2.7911\u001b[0m Curr: 2.9199: |          | 151/? batches    \n"
     ]
    },
    {
     "name": "stdout",
     "output_type": "stream",
     "text": [
      "\u001b[36m[Ep 260] 317.1s | Loss: \u001b[32m2.7769\u001b[0m (L1: 0.0030, L2: 0.0029, NCE: 5.5360) | Test: RMSE=\u001b[32m0.0596\u001b[0m, MAE=\u001b[32m0.0478\u001b[0m\n",
      "  \u001b[33m↯ No improvement (28/50)\u001b[0m\n"
     ]
    },
    {
     "name": "stderr",
     "output_type": "stream",
     "text": [
      "Epoch 261/500 | Loss: \u001b[32m2.8166\u001b[0m Curr: 2.7098: |          | 151/? batches    \n"
     ]
    },
    {
     "name": "stdout",
     "output_type": "stream",
     "text": [
      "\u001b[36m[Ep 261] 318.3s | Loss: \u001b[32m2.8095\u001b[0m (L1: 0.0031, L2: 0.0031, NCE: 5.6005) | Test: RMSE=\u001b[32m0.0538\u001b[0m, MAE=\u001b[32m0.0422\u001b[0m\n",
      "  \u001b[33m↯ No improvement (29/50)\u001b[0m\n"
     ]
    },
    {
     "name": "stderr",
     "output_type": "stream",
     "text": [
      "Epoch 262/500 | Loss: \u001b[32m2.8501\u001b[0m Curr: 3.0695: |          | 151/? batches    \n"
     ]
    },
    {
     "name": "stdout",
     "output_type": "stream",
     "text": [
      "\u001b[36m[Ep 262] 319.6s | Loss: \u001b[32m2.8199\u001b[0m (L1: 0.0029, L2: 0.0029, NCE: 5.6223) | Test: RMSE=\u001b[32m0.0588\u001b[0m, MAE=\u001b[32m0.0470\u001b[0m\n",
      "  \u001b[33m↯ No improvement (30/50)\u001b[0m\n"
     ]
    },
    {
     "name": "stderr",
     "output_type": "stream",
     "text": [
      "Epoch 263/500 | Loss: \u001b[32m2.8092\u001b[0m Curr: 2.6012: |          | 151/? batches    \n"
     ]
    },
    {
     "name": "stdout",
     "output_type": "stream",
     "text": [
      "\u001b[36m[Ep 263] 320.8s | Loss: \u001b[32m2.7966\u001b[0m (L1: 0.0030, L2: 0.0030, NCE: 5.5753) | Test: RMSE=\u001b[32m0.0749\u001b[0m, MAE=\u001b[32m0.0582\u001b[0m\n",
      "  \u001b[33m↯ No improvement (31/50)\u001b[0m\n"
     ]
    },
    {
     "name": "stderr",
     "output_type": "stream",
     "text": [
      "Epoch 264/500 | Loss: \u001b[32m2.8413\u001b[0m Curr: 2.5564: |          | 151/? batches    \n"
     ]
    },
    {
     "name": "stdout",
     "output_type": "stream",
     "text": [
      "\u001b[36m[Ep 264] 322.1s | Loss: \u001b[32m2.8128\u001b[0m (L1: 0.0032, L2: 0.0032, NCE: 5.6062) | Test: RMSE=\u001b[32m0.0605\u001b[0m, MAE=\u001b[32m0.0474\u001b[0m\n",
      "  \u001b[33m↯ No improvement (32/50)\u001b[0m\n"
     ]
    },
    {
     "name": "stderr",
     "output_type": "stream",
     "text": [
      "Epoch 265/500 | Loss: \u001b[32m2.8399\u001b[0m Curr: 2.8838: |          | 151/? batches    \n"
     ]
    },
    {
     "name": "stdout",
     "output_type": "stream",
     "text": [
      "\u001b[36m[Ep 265] 323.3s | Loss: \u001b[32m2.8229\u001b[0m (L1: 0.0030, L2: 0.0030, NCE: 5.6278) | Test: RMSE=\u001b[32m0.0598\u001b[0m, MAE=\u001b[32m0.0469\u001b[0m\n",
      "  \u001b[33m↯ No improvement (33/50)\u001b[0m\n"
     ]
    },
    {
     "name": "stderr",
     "output_type": "stream",
     "text": [
      "Epoch 266/500 | Loss: \u001b[32m2.8292\u001b[0m Curr: 3.1698: |          | 151/? batches    \n"
     ]
    },
    {
     "name": "stdout",
     "output_type": "stream",
     "text": [
      "\u001b[36m[Ep 266] 324.4s | Loss: \u001b[32m2.8045\u001b[0m (L1: 0.0031, L2: 0.0031, NCE: 5.5905) | Test: RMSE=\u001b[32m0.0548\u001b[0m, MAE=\u001b[32m0.0437\u001b[0m\n",
      "  \u001b[33m↯ No improvement (34/50)\u001b[0m\n"
     ]
    },
    {
     "name": "stderr",
     "output_type": "stream",
     "text": [
      "Epoch 267/500 | Loss: \u001b[32m2.8598\u001b[0m Curr: 2.6074: |          | 151/? batches    \n"
     ]
    },
    {
     "name": "stdout",
     "output_type": "stream",
     "text": [
      "\u001b[36m[Ep 267] 325.7s | Loss: \u001b[32m2.8403\u001b[0m (L1: 0.0030, L2: 0.0030, NCE: 5.6628) | Test: RMSE=\u001b[32m0.0595\u001b[0m, MAE=\u001b[32m0.0467\u001b[0m\n",
      "  \u001b[33m↯ No improvement (35/50)\u001b[0m\n"
     ]
    },
    {
     "name": "stderr",
     "output_type": "stream",
     "text": [
      "Epoch 268/500 | Loss: \u001b[32m2.7989\u001b[0m Curr: 2.6454: |          | 151/? batches    \n"
     ]
    },
    {
     "name": "stdout",
     "output_type": "stream",
     "text": [
      "\u001b[36m[Ep 268] 326.9s | Loss: \u001b[32m2.7917\u001b[0m (L1: 0.0031, L2: 0.0031, NCE: 5.5647) | Test: RMSE=\u001b[32m0.0639\u001b[0m, MAE=\u001b[32m0.0511\u001b[0m\n",
      "  \u001b[33m↯ No improvement (36/50)\u001b[0m\n"
     ]
    },
    {
     "name": "stderr",
     "output_type": "stream",
     "text": [
      "Epoch 269/500 | Loss: \u001b[32m2.8153\u001b[0m Curr: 2.8607: |          | 151/? batches    \n"
     ]
    },
    {
     "name": "stdout",
     "output_type": "stream",
     "text": [
      "\u001b[36m[Ep 269] 328.2s | Loss: \u001b[32m2.8114\u001b[0m (L1: 0.0030, L2: 0.0030, NCE: 5.6047) | Test: RMSE=\u001b[32m0.0520\u001b[0m, MAE=\u001b[32m0.0407\u001b[0m\n",
      "  \u001b[35m★ Best RMSE! Model saved at bone_marrow_mb\u001b[0m\n"
     ]
    },
    {
     "name": "stderr",
     "output_type": "stream",
     "text": [
      "Epoch 270/500 | Loss: \u001b[32m2.8485\u001b[0m Curr: 2.9410: |          | 151/? batches    \n"
     ]
    },
    {
     "name": "stdout",
     "output_type": "stream",
     "text": [
      "\u001b[36m[Ep 270] 329.5s | Loss: \u001b[32m2.8334\u001b[0m (L1: 0.0028, L2: 0.0028, NCE: 5.6498) | Test: RMSE=\u001b[32m0.0580\u001b[0m, MAE=\u001b[32m0.0462\u001b[0m\n",
      "  \u001b[33m↯ No improvement (1/50)\u001b[0m\n"
     ]
    },
    {
     "name": "stderr",
     "output_type": "stream",
     "text": [
      "Epoch 271/500 | Loss: \u001b[32m2.7977\u001b[0m Curr: 2.6115: |          | 151/? batches    \n"
     ]
    },
    {
     "name": "stdout",
     "output_type": "stream",
     "text": [
      "\u001b[36m[Ep 271] 330.8s | Loss: \u001b[32m2.7886\u001b[0m (L1: 0.0031, L2: 0.0031, NCE: 5.5587) | Test: RMSE=\u001b[32m0.0562\u001b[0m, MAE=\u001b[32m0.0442\u001b[0m\n",
      "  \u001b[33m↯ No improvement (2/50)\u001b[0m\n"
     ]
    },
    {
     "name": "stderr",
     "output_type": "stream",
     "text": [
      "Epoch 272/500 | Loss: \u001b[32m2.7874\u001b[0m Curr: 2.6392: |          | 151/? batches    \n"
     ]
    },
    {
     "name": "stdout",
     "output_type": "stream",
     "text": [
      "\u001b[36m[Ep 272] 332.0s | Loss: \u001b[32m2.7641\u001b[0m (L1: 0.0029, L2: 0.0029, NCE: 5.5107) | Test: RMSE=\u001b[32m0.0629\u001b[0m, MAE=\u001b[32m0.0501\u001b[0m\n",
      "  \u001b[33m↯ No improvement (3/50)\u001b[0m\n"
     ]
    },
    {
     "name": "stderr",
     "output_type": "stream",
     "text": [
      "Epoch 273/500 | Loss: \u001b[32m2.8503\u001b[0m Curr: 2.9496: |          | 151/? batches    \n"
     ]
    },
    {
     "name": "stdout",
     "output_type": "stream",
     "text": [
      "\u001b[36m[Ep 273] 333.2s | Loss: \u001b[32m2.8173\u001b[0m (L1: 0.0030, L2: 0.0030, NCE: 5.6165) | Test: RMSE=\u001b[32m0.0539\u001b[0m, MAE=\u001b[32m0.0428\u001b[0m\n",
      "  \u001b[33m↯ No improvement (4/50)\u001b[0m\n"
     ]
    },
    {
     "name": "stderr",
     "output_type": "stream",
     "text": [
      "Epoch 274/500 | Loss: \u001b[32m2.8057\u001b[0m Curr: 2.6339: |          | 151/? batches    \n"
     ]
    },
    {
     "name": "stdout",
     "output_type": "stream",
     "text": [
      "\u001b[36m[Ep 274] 334.4s | Loss: \u001b[32m2.7939\u001b[0m (L1: 0.0030, L2: 0.0030, NCE: 5.5699) | Test: RMSE=\u001b[32m0.0582\u001b[0m, MAE=\u001b[32m0.0452\u001b[0m\n",
      "  \u001b[33m↯ No improvement (5/50)\u001b[0m\n"
     ]
    },
    {
     "name": "stderr",
     "output_type": "stream",
     "text": [
      "Epoch 275/500 | Loss: \u001b[32m2.8603\u001b[0m Curr: 2.8946: |          | 151/? batches    \n"
     ]
    },
    {
     "name": "stdout",
     "output_type": "stream",
     "text": [
      "\u001b[36m[Ep 275] 335.7s | Loss: \u001b[32m2.8294\u001b[0m (L1: 0.0029, L2: 0.0029, NCE: 5.6413) | Test: RMSE=\u001b[32m0.0662\u001b[0m, MAE=\u001b[32m0.0528\u001b[0m\n",
      "  \u001b[33m↯ No improvement (6/50)\u001b[0m\n"
     ]
    },
    {
     "name": "stderr",
     "output_type": "stream",
     "text": [
      "Epoch 276/500 | Loss: \u001b[32m2.8262\u001b[0m Curr: 2.4348: |          | 151/? batches    \n"
     ]
    },
    {
     "name": "stdout",
     "output_type": "stream",
     "text": [
      "\u001b[36m[Ep 276] 336.9s | Loss: \u001b[32m2.8224\u001b[0m (L1: 0.0031, L2: 0.0031, NCE: 5.6264) | Test: RMSE=\u001b[32m0.0590\u001b[0m, MAE=\u001b[32m0.0464\u001b[0m\n",
      "  \u001b[33m↯ No improvement (7/50)\u001b[0m\n"
     ]
    },
    {
     "name": "stderr",
     "output_type": "stream",
     "text": [
      "Epoch 277/500 | Loss: \u001b[32m2.8394\u001b[0m Curr: 2.7472: |          | 151/? batches    \n"
     ]
    },
    {
     "name": "stdout",
     "output_type": "stream",
     "text": [
      "\u001b[36m[Ep 277] 338.3s | Loss: \u001b[32m2.8239\u001b[0m (L1: 0.0029, L2: 0.0029, NCE: 5.6305) | Test: RMSE=\u001b[32m0.0518\u001b[0m, MAE=\u001b[32m0.0406\u001b[0m\n",
      "  \u001b[35m★ Best RMSE! Model saved at bone_marrow_mb\u001b[0m\n"
     ]
    },
    {
     "name": "stderr",
     "output_type": "stream",
     "text": [
      "Epoch 278/500 | Loss: \u001b[32m2.7793\u001b[0m Curr: 2.9512: |          | 151/? batches    \n"
     ]
    },
    {
     "name": "stdout",
     "output_type": "stream",
     "text": [
      "\u001b[36m[Ep 278] 339.5s | Loss: \u001b[32m2.7637\u001b[0m (L1: 0.0030, L2: 0.0030, NCE: 5.5094) | Test: RMSE=\u001b[32m0.0615\u001b[0m, MAE=\u001b[32m0.0490\u001b[0m\n",
      "  \u001b[33m↯ No improvement (1/50)\u001b[0m\n"
     ]
    },
    {
     "name": "stderr",
     "output_type": "stream",
     "text": [
      "Epoch 279/500 | Loss: \u001b[32m2.8463\u001b[0m Curr: 2.4892: |          | 151/? batches    \n"
     ]
    },
    {
     "name": "stdout",
     "output_type": "stream",
     "text": [
      "\u001b[36m[Ep 279] 340.7s | Loss: \u001b[32m2.8356\u001b[0m (L1: 0.0030, L2: 0.0030, NCE: 5.6529) | Test: RMSE=\u001b[32m0.0520\u001b[0m, MAE=\u001b[32m0.0413\u001b[0m\n",
      "  \u001b[33m↯ No improvement (2/50)\u001b[0m\n"
     ]
    },
    {
     "name": "stderr",
     "output_type": "stream",
     "text": [
      "Epoch 280/500 | Loss: \u001b[32m2.8660\u001b[0m Curr: 2.9440: |          | 151/? batches    \n"
     ]
    },
    {
     "name": "stdout",
     "output_type": "stream",
     "text": [
      "\u001b[36m[Ep 280] 342.0s | Loss: \u001b[32m2.8478\u001b[0m (L1: 0.0029, L2: 0.0029, NCE: 5.6783) | Test: RMSE=\u001b[32m0.0618\u001b[0m, MAE=\u001b[32m0.0476\u001b[0m\n",
      "  \u001b[33m↯ No improvement (3/50)\u001b[0m\n"
     ]
    },
    {
     "name": "stderr",
     "output_type": "stream",
     "text": [
      "Epoch 281/500 | Loss: \u001b[32m2.8130\u001b[0m Curr: 2.4521: |          | 151/? batches    \n"
     ]
    },
    {
     "name": "stdout",
     "output_type": "stream",
     "text": [
      "\u001b[36m[Ep 281] 343.2s | Loss: \u001b[32m2.7991\u001b[0m (L1: 0.0031, L2: 0.0031, NCE: 5.5798) | Test: RMSE=\u001b[32m0.0523\u001b[0m, MAE=\u001b[32m0.0412\u001b[0m\n",
      "  \u001b[33m↯ No improvement (4/50)\u001b[0m\n"
     ]
    },
    {
     "name": "stderr",
     "output_type": "stream",
     "text": [
      "Epoch 282/500 | Loss: \u001b[32m2.8357\u001b[0m Curr: 2.9228: |          | 151/? batches    \n"
     ]
    },
    {
     "name": "stdout",
     "output_type": "stream",
     "text": [
      "\u001b[36m[Ep 282] 344.4s | Loss: \u001b[32m2.8213\u001b[0m (L1: 0.0030, L2: 0.0030, NCE: 5.6244) | Test: RMSE=\u001b[32m0.0654\u001b[0m, MAE=\u001b[32m0.0512\u001b[0m\n",
      "  \u001b[33m↯ No improvement (5/50)\u001b[0m\n"
     ]
    },
    {
     "name": "stderr",
     "output_type": "stream",
     "text": [
      "Epoch 283/500 | Loss: \u001b[32m2.8123\u001b[0m Curr: 2.5217: |          | 151/? batches    \n"
     ]
    },
    {
     "name": "stdout",
     "output_type": "stream",
     "text": [
      "\u001b[36m[Ep 283] 345.7s | Loss: \u001b[32m2.8034\u001b[0m (L1: 0.0030, L2: 0.0030, NCE: 5.5889) | Test: RMSE=\u001b[32m0.0652\u001b[0m, MAE=\u001b[32m0.0517\u001b[0m\n",
      "  \u001b[33m↯ No improvement (6/50)\u001b[0m\n"
     ]
    },
    {
     "name": "stderr",
     "output_type": "stream",
     "text": [
      "Epoch 284/500 | Loss: \u001b[32m2.8539\u001b[0m Curr: 2.9369: |          | 151/? batches    \n"
     ]
    },
    {
     "name": "stdout",
     "output_type": "stream",
     "text": [
      "\u001b[36m[Ep 284] 346.9s | Loss: \u001b[32m2.8258\u001b[0m (L1: 0.0030, L2: 0.0030, NCE: 5.6337) | Test: RMSE=\u001b[32m0.0512\u001b[0m, MAE=\u001b[32m0.0404\u001b[0m\n",
      "  \u001b[35m★ Best RMSE! Model saved at bone_marrow_mb\u001b[0m\n"
     ]
    },
    {
     "name": "stderr",
     "output_type": "stream",
     "text": [
      "Epoch 285/500 | Loss: \u001b[32m2.8449\u001b[0m Curr: 3.0095: |          | 151/? batches    \n"
     ]
    },
    {
     "name": "stdout",
     "output_type": "stream",
     "text": [
      "\u001b[36m[Ep 285] 348.2s | Loss: \u001b[32m2.8144\u001b[0m (L1: 0.0029, L2: 0.0029, NCE: 5.6112) | Test: RMSE=\u001b[32m0.0544\u001b[0m, MAE=\u001b[32m0.0426\u001b[0m\n",
      "  \u001b[33m↯ No improvement (1/50)\u001b[0m\n"
     ]
    },
    {
     "name": "stderr",
     "output_type": "stream",
     "text": [
      "Epoch 286/500 | Loss: \u001b[32m2.8261\u001b[0m Curr: 2.4134: |          | 151/? batches    \n"
     ]
    },
    {
     "name": "stdout",
     "output_type": "stream",
     "text": [
      "\u001b[36m[Ep 286] 349.4s | Loss: \u001b[32m2.8043\u001b[0m (L1: 0.0029, L2: 0.0029, NCE: 5.5913) | Test: RMSE=\u001b[32m0.0509\u001b[0m, MAE=\u001b[32m0.0402\u001b[0m\n",
      "  \u001b[35m★ Best RMSE! Model saved at bone_marrow_mb\u001b[0m\n"
     ]
    },
    {
     "name": "stderr",
     "output_type": "stream",
     "text": [
      "Epoch 287/500 | Loss: \u001b[32m2.8527\u001b[0m Curr: 2.8027: |          | 151/? batches    \n"
     ]
    },
    {
     "name": "stdout",
     "output_type": "stream",
     "text": [
      "\u001b[36m[Ep 287] 350.7s | Loss: \u001b[32m2.8383\u001b[0m (L1: 0.0030, L2: 0.0030, NCE: 5.6583) | Test: RMSE=\u001b[32m0.0564\u001b[0m, MAE=\u001b[32m0.0452\u001b[0m\n",
      "  \u001b[33m↯ No improvement (1/50)\u001b[0m\n"
     ]
    },
    {
     "name": "stderr",
     "output_type": "stream",
     "text": [
      "Epoch 288/500 | Loss: \u001b[32m2.8265\u001b[0m Curr: 3.1150: |          | 151/? batches    \n"
     ]
    },
    {
     "name": "stdout",
     "output_type": "stream",
     "text": [
      "\u001b[36m[Ep 288] 352.0s | Loss: \u001b[32m2.8045\u001b[0m (L1: 0.0028, L2: 0.0028, NCE: 5.5921) | Test: RMSE=\u001b[32m0.0586\u001b[0m, MAE=\u001b[32m0.0461\u001b[0m\n",
      "  \u001b[33m↯ No improvement (2/50)\u001b[0m\n"
     ]
    },
    {
     "name": "stderr",
     "output_type": "stream",
     "text": [
      "Epoch 289/500 | Loss: \u001b[32m2.8117\u001b[0m Curr: 2.7635: |          | 151/? batches    \n"
     ]
    },
    {
     "name": "stdout",
     "output_type": "stream",
     "text": [
      "\u001b[36m[Ep 289] 353.1s | Loss: \u001b[32m2.7892\u001b[0m (L1: 0.0029, L2: 0.0028, NCE: 5.5612) | Test: RMSE=\u001b[32m0.0559\u001b[0m, MAE=\u001b[32m0.0431\u001b[0m\n",
      "  \u001b[33m↯ No improvement (3/50)\u001b[0m\n"
     ]
    },
    {
     "name": "stderr",
     "output_type": "stream",
     "text": [
      "Epoch 290/500 | Loss: \u001b[32m2.8337\u001b[0m Curr: 2.8868: |          | 151/? batches    \n"
     ]
    },
    {
     "name": "stdout",
     "output_type": "stream",
     "text": [
      "\u001b[36m[Ep 290] 354.4s | Loss: \u001b[32m2.8078\u001b[0m (L1: 0.0029, L2: 0.0029, NCE: 5.5985) | Test: RMSE=\u001b[32m0.0563\u001b[0m, MAE=\u001b[32m0.0443\u001b[0m\n",
      "  \u001b[33m↯ No improvement (4/50)\u001b[0m\n"
     ]
    },
    {
     "name": "stderr",
     "output_type": "stream",
     "text": [
      "Epoch 291/500 | Loss: \u001b[32m2.8353\u001b[0m Curr: 2.6445: |          | 151/? batches    \n"
     ]
    },
    {
     "name": "stdout",
     "output_type": "stream",
     "text": [
      "\u001b[36m[Ep 291] 355.5s | Loss: \u001b[32m2.8197\u001b[0m (L1: 0.0029, L2: 0.0029, NCE: 5.6218) | Test: RMSE=\u001b[32m0.0569\u001b[0m, MAE=\u001b[32m0.0445\u001b[0m\n",
      "  \u001b[33m↯ No improvement (5/50)\u001b[0m\n"
     ]
    },
    {
     "name": "stderr",
     "output_type": "stream",
     "text": [
      "Epoch 292/500 | Loss: \u001b[32m2.8309\u001b[0m Curr: 2.6710: |          | 151/? batches    \n"
     ]
    },
    {
     "name": "stdout",
     "output_type": "stream",
     "text": [
      "\u001b[36m[Ep 292] 356.8s | Loss: \u001b[32m2.8214\u001b[0m (L1: 0.0028, L2: 0.0028, NCE: 5.6258) | Test: RMSE=\u001b[32m0.0569\u001b[0m, MAE=\u001b[32m0.0445\u001b[0m\n",
      "  \u001b[33m↯ No improvement (6/50)\u001b[0m\n"
     ]
    },
    {
     "name": "stderr",
     "output_type": "stream",
     "text": [
      "Epoch 293/500 | Loss: \u001b[32m2.8352\u001b[0m Curr: 2.9102: |          | 151/? batches    \n"
     ]
    },
    {
     "name": "stdout",
     "output_type": "stream",
     "text": [
      "\u001b[36m[Ep 293] 357.9s | Loss: \u001b[32m2.8169\u001b[0m (L1: 0.0030, L2: 0.0030, NCE: 5.6158) | Test: RMSE=\u001b[32m0.0525\u001b[0m, MAE=\u001b[32m0.0411\u001b[0m\n",
      "  \u001b[33m↯ No improvement (7/50)\u001b[0m\n"
     ]
    },
    {
     "name": "stderr",
     "output_type": "stream",
     "text": [
      "Epoch 294/500 | Loss: \u001b[32m2.8474\u001b[0m Curr: 3.0599: |          | 151/? batches    \n"
     ]
    },
    {
     "name": "stdout",
     "output_type": "stream",
     "text": [
      "\u001b[36m[Ep 294] 359.1s | Loss: \u001b[32m2.8269\u001b[0m (L1: 0.0028, L2: 0.0028, NCE: 5.6371) | Test: RMSE=\u001b[32m0.0591\u001b[0m, MAE=\u001b[32m0.0460\u001b[0m\n",
      "  \u001b[33m↯ No improvement (8/50)\u001b[0m\n"
     ]
    },
    {
     "name": "stderr",
     "output_type": "stream",
     "text": [
      "Epoch 295/500 | Loss: \u001b[32m2.8446\u001b[0m Curr: 2.8541: |          | 151/? batches    \n"
     ]
    },
    {
     "name": "stdout",
     "output_type": "stream",
     "text": [
      "\u001b[36m[Ep 295] 360.4s | Loss: \u001b[32m2.8254\u001b[0m (L1: 0.0029, L2: 0.0029, NCE: 5.6332) | Test: RMSE=\u001b[32m0.0537\u001b[0m, MAE=\u001b[32m0.0419\u001b[0m\n",
      "  \u001b[33m↯ No improvement (9/50)\u001b[0m\n"
     ]
    },
    {
     "name": "stderr",
     "output_type": "stream",
     "text": [
      "Epoch 296/500 | Loss: \u001b[32m2.8541\u001b[0m Curr: 3.0346: |          | 151/? batches    \n"
     ]
    },
    {
     "name": "stdout",
     "output_type": "stream",
     "text": [
      "\u001b[36m[Ep 296] 361.5s | Loss: \u001b[32m2.8322\u001b[0m (L1: 0.0028, L2: 0.0028, NCE: 5.6479) | Test: RMSE=\u001b[32m0.0593\u001b[0m, MAE=\u001b[32m0.0463\u001b[0m\n",
      "  \u001b[33m↯ No improvement (10/50)\u001b[0m\n"
     ]
    },
    {
     "name": "stderr",
     "output_type": "stream",
     "text": [
      "Epoch 297/500 | Loss: \u001b[32m2.8514\u001b[0m Curr: 2.8762: |          | 151/? batches    \n"
     ]
    },
    {
     "name": "stdout",
     "output_type": "stream",
     "text": [
      "\u001b[36m[Ep 297] 362.7s | Loss: \u001b[32m2.8327\u001b[0m (L1: 0.0028, L2: 0.0028, NCE: 5.6486) | Test: RMSE=\u001b[32m0.0574\u001b[0m, MAE=\u001b[32m0.0454\u001b[0m\n",
      "  \u001b[33m↯ No improvement (11/50)\u001b[0m\n"
     ]
    },
    {
     "name": "stderr",
     "output_type": "stream",
     "text": [
      "Epoch 298/500 | Loss: \u001b[32m2.8848\u001b[0m Curr: 2.7769: |          | 151/? batches    \n"
     ]
    },
    {
     "name": "stdout",
     "output_type": "stream",
     "text": [
      "\u001b[36m[Ep 298] 363.9s | Loss: \u001b[32m2.8741\u001b[0m (L1: 0.0029, L2: 0.0029, NCE: 5.7306) | Test: RMSE=\u001b[32m0.0627\u001b[0m, MAE=\u001b[32m0.0510\u001b[0m\n",
      "  \u001b[33m↯ No improvement (12/50)\u001b[0m\n"
     ]
    },
    {
     "name": "stderr",
     "output_type": "stream",
     "text": [
      "Epoch 299/500 | Loss: \u001b[32m2.8375\u001b[0m Curr: 3.0725: |          | 151/? batches    \n"
     ]
    },
    {
     "name": "stdout",
     "output_type": "stream",
     "text": [
      "\u001b[36m[Ep 299] 365.1s | Loss: \u001b[32m2.8183\u001b[0m (L1: 0.0032, L2: 0.0032, NCE: 5.6174) | Test: RMSE=\u001b[32m0.0552\u001b[0m, MAE=\u001b[32m0.0431\u001b[0m\n",
      "  \u001b[33m↯ No improvement (13/50)\u001b[0m\n"
     ]
    },
    {
     "name": "stderr",
     "output_type": "stream",
     "text": [
      "Epoch 300/500 | Loss: \u001b[32m2.8355\u001b[0m Curr: 3.1545: |          | 151/? batches    \n"
     ]
    },
    {
     "name": "stdout",
     "output_type": "stream",
     "text": [
      "\u001b[36m[Ep 300] 366.3s | Loss: \u001b[32m2.8141\u001b[0m (L1: 0.0029, L2: 0.0029, NCE: 5.6112) | Test: RMSE=\u001b[32m0.0597\u001b[0m, MAE=\u001b[32m0.0460\u001b[0m\n",
      "  \u001b[33m↯ No improvement (14/50)\u001b[0m\n"
     ]
    },
    {
     "name": "stderr",
     "output_type": "stream",
     "text": [
      "Epoch 301/500 | Loss: \u001b[32m2.8338\u001b[0m Curr: 2.5159: |          | 151/? batches    \n"
     ]
    },
    {
     "name": "stdout",
     "output_type": "stream",
     "text": [
      "\u001b[36m[Ep 301] 367.6s | Loss: \u001b[32m2.8212\u001b[0m (L1: 0.0029, L2: 0.0029, NCE: 5.6249) | Test: RMSE=\u001b[32m0.0501\u001b[0m, MAE=\u001b[32m0.0395\u001b[0m\n",
      "  \u001b[35m★ Best RMSE! Model saved at bone_marrow_mb\u001b[0m\n"
     ]
    },
    {
     "name": "stderr",
     "output_type": "stream",
     "text": [
      "Epoch 302/500 | Loss: \u001b[32m2.8655\u001b[0m Curr: 3.0280: |          | 151/? batches    \n"
     ]
    },
    {
     "name": "stdout",
     "output_type": "stream",
     "text": [
      "\u001b[36m[Ep 302] 368.8s | Loss: \u001b[32m2.8516\u001b[0m (L1: 0.0030, L2: 0.0030, NCE: 5.6853) | Test: RMSE=\u001b[32m0.0544\u001b[0m, MAE=\u001b[32m0.0427\u001b[0m\n",
      "  \u001b[33m↯ No improvement (1/50)\u001b[0m\n"
     ]
    },
    {
     "name": "stderr",
     "output_type": "stream",
     "text": [
      "Epoch 303/500 | Loss: \u001b[32m2.8650\u001b[0m Curr: 2.8635: |          | 151/? batches    \n"
     ]
    },
    {
     "name": "stdout",
     "output_type": "stream",
     "text": [
      "\u001b[36m[Ep 303] 370.0s | Loss: \u001b[32m2.8488\u001b[0m (L1: 0.0028, L2: 0.0028, NCE: 5.6808) | Test: RMSE=\u001b[32m0.0620\u001b[0m, MAE=\u001b[32m0.0494\u001b[0m\n",
      "  \u001b[33m↯ No improvement (2/50)\u001b[0m\n"
     ]
    },
    {
     "name": "stderr",
     "output_type": "stream",
     "text": [
      "Epoch 304/500 | Loss: \u001b[32m2.8449\u001b[0m Curr: 2.6106: |          | 151/? batches    \n"
     ]
    },
    {
     "name": "stdout",
     "output_type": "stream",
     "text": [
      "\u001b[36m[Ep 304] 371.2s | Loss: \u001b[32m2.8241\u001b[0m (L1: 0.0029, L2: 0.0029, NCE: 5.6306) | Test: RMSE=\u001b[32m0.0545\u001b[0m, MAE=\u001b[32m0.0425\u001b[0m\n",
      "  \u001b[33m↯ No improvement (3/50)\u001b[0m\n"
     ]
    },
    {
     "name": "stderr",
     "output_type": "stream",
     "text": [
      "Epoch 305/500 | Loss: \u001b[32m2.8754\u001b[0m Curr: 2.9537: |          | 151/? batches    \n"
     ]
    },
    {
     "name": "stdout",
     "output_type": "stream",
     "text": [
      "\u001b[36m[Ep 305] 372.5s | Loss: \u001b[32m2.8623\u001b[0m (L1: 0.0029, L2: 0.0029, NCE: 5.7072) | Test: RMSE=\u001b[32m0.0583\u001b[0m, MAE=\u001b[32m0.0456\u001b[0m\n",
      "  \u001b[33m↯ No improvement (4/50)\u001b[0m\n"
     ]
    },
    {
     "name": "stderr",
     "output_type": "stream",
     "text": [
      "Epoch 306/500 | Loss: \u001b[32m2.9032\u001b[0m Curr: 2.8728: |          | 151/? batches    \n"
     ]
    },
    {
     "name": "stdout",
     "output_type": "stream",
     "text": [
      "\u001b[36m[Ep 306] 373.7s | Loss: \u001b[32m2.8878\u001b[0m (L1: 0.0030, L2: 0.0030, NCE: 5.7577) | Test: RMSE=\u001b[32m0.0570\u001b[0m, MAE=\u001b[32m0.0441\u001b[0m\n",
      "  \u001b[33m↯ No improvement (5/50)\u001b[0m\n"
     ]
    },
    {
     "name": "stderr",
     "output_type": "stream",
     "text": [
      "Epoch 307/500 | Loss: \u001b[32m2.8669\u001b[0m Curr: 2.9113: |          | 151/? batches    \n"
     ]
    },
    {
     "name": "stdout",
     "output_type": "stream",
     "text": [
      "\u001b[36m[Ep 307] 375.0s | Loss: \u001b[32m2.8596\u001b[0m (L1: 0.0030, L2: 0.0030, NCE: 5.7013) | Test: RMSE=\u001b[32m0.0529\u001b[0m, MAE=\u001b[32m0.0414\u001b[0m\n",
      "  \u001b[33m↯ No improvement (6/50)\u001b[0m\n"
     ]
    },
    {
     "name": "stderr",
     "output_type": "stream",
     "text": [
      "Epoch 308/500 | Loss: \u001b[32m2.9547\u001b[0m Curr: 2.9886: |          | 151/? batches    \n"
     ]
    },
    {
     "name": "stdout",
     "output_type": "stream",
     "text": [
      "\u001b[36m[Ep 308] 376.1s | Loss: \u001b[32m2.9296\u001b[0m (L1: 0.0030, L2: 0.0030, NCE: 5.8415) | Test: RMSE=\u001b[32m0.0546\u001b[0m, MAE=\u001b[32m0.0427\u001b[0m\n",
      "  \u001b[33m↯ No improvement (7/50)\u001b[0m\n"
     ]
    },
    {
     "name": "stderr",
     "output_type": "stream",
     "text": [
      "Epoch 309/500 | Loss: \u001b[32m2.9439\u001b[0m Curr: 2.8570: |          | 151/? batches    \n"
     ]
    },
    {
     "name": "stdout",
     "output_type": "stream",
     "text": [
      "\u001b[36m[Ep 309] 377.2s | Loss: \u001b[32m2.9174\u001b[0m (L1: 0.0030, L2: 0.0030, NCE: 5.8169) | Test: RMSE=\u001b[32m0.0625\u001b[0m, MAE=\u001b[32m0.0484\u001b[0m\n",
      "  \u001b[33m↯ No improvement (8/50)\u001b[0m\n"
     ]
    },
    {
     "name": "stderr",
     "output_type": "stream",
     "text": [
      "Epoch 310/500 | Loss: \u001b[32m2.9452\u001b[0m Curr: 3.0747: |          | 151/? batches    \n"
     ]
    },
    {
     "name": "stdout",
     "output_type": "stream",
     "text": [
      "\u001b[36m[Ep 310] 378.2s | Loss: \u001b[32m2.9288\u001b[0m (L1: 0.0030, L2: 0.0030, NCE: 5.8398) | Test: RMSE=\u001b[32m0.0521\u001b[0m, MAE=\u001b[32m0.0411\u001b[0m\n",
      "  \u001b[33m↯ No improvement (9/50)\u001b[0m\n"
     ]
    },
    {
     "name": "stderr",
     "output_type": "stream",
     "text": [
      "Epoch 311/500 | Loss: \u001b[32m2.9030\u001b[0m Curr: 2.7228: |          | 151/? batches    \n"
     ]
    },
    {
     "name": "stdout",
     "output_type": "stream",
     "text": [
      "\u001b[36m[Ep 311] 379.4s | Loss: \u001b[32m2.8837\u001b[0m (L1: 0.0029, L2: 0.0029, NCE: 5.7499) | Test: RMSE=\u001b[32m0.0530\u001b[0m, MAE=\u001b[32m0.0413\u001b[0m\n",
      "  \u001b[33m↯ No improvement (10/50)\u001b[0m\n"
     ]
    },
    {
     "name": "stderr",
     "output_type": "stream",
     "text": [
      "Epoch 312/500 | Loss: \u001b[32m2.8951\u001b[0m Curr: 2.8165: |          | 151/? batches    \n"
     ]
    },
    {
     "name": "stdout",
     "output_type": "stream",
     "text": [
      "\u001b[36m[Ep 312] 380.7s | Loss: \u001b[32m2.8772\u001b[0m (L1: 0.0032, L2: 0.0032, NCE: 5.7352) | Test: RMSE=\u001b[32m0.0618\u001b[0m, MAE=\u001b[32m0.0489\u001b[0m\n",
      "  \u001b[33m↯ No improvement (11/50)\u001b[0m\n"
     ]
    },
    {
     "name": "stderr",
     "output_type": "stream",
     "text": [
      "Epoch 313/500 | Loss: \u001b[32m2.9074\u001b[0m Curr: 3.0720: |          | 151/? batches    \n"
     ]
    },
    {
     "name": "stdout",
     "output_type": "stream",
     "text": [
      "\u001b[36m[Ep 313] 381.9s | Loss: \u001b[32m2.8933\u001b[0m (L1: 0.0031, L2: 0.0032, NCE: 5.7675) | Test: RMSE=\u001b[32m0.0746\u001b[0m, MAE=\u001b[32m0.0588\u001b[0m\n",
      "  \u001b[33m↯ No improvement (12/50)\u001b[0m\n"
     ]
    },
    {
     "name": "stderr",
     "output_type": "stream",
     "text": [
      "Epoch 314/500 | Loss: \u001b[32m2.8943\u001b[0m Curr: 2.9631: |          | 151/? batches    \n"
     ]
    },
    {
     "name": "stdout",
     "output_type": "stream",
     "text": [
      "\u001b[36m[Ep 314] 383.1s | Loss: \u001b[32m2.8823\u001b[0m (L1: 0.0032, L2: 0.0032, NCE: 5.7449) | Test: RMSE=\u001b[32m0.0577\u001b[0m, MAE=\u001b[32m0.0450\u001b[0m\n",
      "  \u001b[33m↯ No improvement (13/50)\u001b[0m\n"
     ]
    },
    {
     "name": "stderr",
     "output_type": "stream",
     "text": [
      "Epoch 315/500 | Loss: \u001b[32m2.8822\u001b[0m Curr: 2.6895: |          | 151/? batches    \n"
     ]
    },
    {
     "name": "stdout",
     "output_type": "stream",
     "text": [
      "\u001b[36m[Ep 315] 384.4s | Loss: \u001b[32m2.8698\u001b[0m (L1: 0.0031, L2: 0.0031, NCE: 5.7212) | Test: RMSE=\u001b[32m0.0567\u001b[0m, MAE=\u001b[32m0.0449\u001b[0m\n",
      "  \u001b[33m↯ No improvement (14/50)\u001b[0m\n"
     ]
    },
    {
     "name": "stderr",
     "output_type": "stream",
     "text": [
      "Epoch 316/500 | Loss: \u001b[32m2.8879\u001b[0m Curr: 2.8540: |          | 151/? batches    \n"
     ]
    },
    {
     "name": "stdout",
     "output_type": "stream",
     "text": [
      "\u001b[36m[Ep 316] 385.6s | Loss: \u001b[32m2.8811\u001b[0m (L1: 0.0029, L2: 0.0029, NCE: 5.7449) | Test: RMSE=\u001b[32m0.0592\u001b[0m, MAE=\u001b[32m0.0472\u001b[0m\n",
      "  \u001b[33m↯ No improvement (15/50)\u001b[0m\n"
     ]
    },
    {
     "name": "stderr",
     "output_type": "stream",
     "text": [
      "Epoch 317/500 | Loss: \u001b[32m2.9137\u001b[0m Curr: 2.8248: |          | 151/? batches    \n"
     ]
    },
    {
     "name": "stdout",
     "output_type": "stream",
     "text": [
      "\u001b[36m[Ep 317] 386.8s | Loss: \u001b[32m2.8925\u001b[0m (L1: 0.0029, L2: 0.0029, NCE: 5.7674) | Test: RMSE=\u001b[32m0.0564\u001b[0m, MAE=\u001b[32m0.0439\u001b[0m\n",
      "  \u001b[33m↯ No improvement (16/50)\u001b[0m\n"
     ]
    },
    {
     "name": "stderr",
     "output_type": "stream",
     "text": [
      "Epoch 318/500 | Loss: \u001b[32m2.8709\u001b[0m Curr: 2.4898: |          | 151/? batches    \n"
     ]
    },
    {
     "name": "stdout",
     "output_type": "stream",
     "text": [
      "\u001b[36m[Ep 318] 387.9s | Loss: \u001b[32m2.8468\u001b[0m (L1: 0.0030, L2: 0.0030, NCE: 5.6758) | Test: RMSE=\u001b[32m0.0551\u001b[0m, MAE=\u001b[32m0.0433\u001b[0m\n",
      "  \u001b[33m↯ No improvement (17/50)\u001b[0m\n"
     ]
    },
    {
     "name": "stderr",
     "output_type": "stream",
     "text": [
      "Epoch 319/500 | Loss: \u001b[32m2.8940\u001b[0m Curr: 2.7304: |          | 151/? batches    \n"
     ]
    },
    {
     "name": "stdout",
     "output_type": "stream",
     "text": [
      "\u001b[36m[Ep 319] 389.2s | Loss: \u001b[32m2.8855\u001b[0m (L1: 0.0028, L2: 0.0028, NCE: 5.7539) | Test: RMSE=\u001b[32m0.0609\u001b[0m, MAE=\u001b[32m0.0478\u001b[0m\n",
      "  \u001b[33m↯ No improvement (18/50)\u001b[0m\n"
     ]
    },
    {
     "name": "stderr",
     "output_type": "stream",
     "text": [
      "Epoch 320/500 | Loss: \u001b[32m2.9089\u001b[0m Curr: 2.8144: |          | 151/? batches    \n"
     ]
    },
    {
     "name": "stdout",
     "output_type": "stream",
     "text": [
      "\u001b[36m[Ep 320] 390.3s | Loss: \u001b[32m2.8926\u001b[0m (L1: 0.0031, L2: 0.0031, NCE: 5.7666) | Test: RMSE=\u001b[32m0.0550\u001b[0m, MAE=\u001b[32m0.0430\u001b[0m\n",
      "  \u001b[33m↯ No improvement (19/50)\u001b[0m\n"
     ]
    },
    {
     "name": "stderr",
     "output_type": "stream",
     "text": [
      "Epoch 321/500 | Loss: \u001b[32m2.9461\u001b[0m Curr: 2.8779: |          | 151/? batches    \n"
     ]
    },
    {
     "name": "stdout",
     "output_type": "stream",
     "text": [
      "\u001b[36m[Ep 321] 391.4s | Loss: \u001b[32m2.9308\u001b[0m (L1: 0.0030, L2: 0.0030, NCE: 5.8432) | Test: RMSE=\u001b[32m0.0587\u001b[0m, MAE=\u001b[32m0.0466\u001b[0m\n",
      "  \u001b[33m↯ No improvement (20/50)\u001b[0m\n"
     ]
    },
    {
     "name": "stderr",
     "output_type": "stream",
     "text": [
      "Epoch 322/500 | Loss: \u001b[32m2.9032\u001b[0m Curr: 3.1961: |          | 151/? batches    \n"
     ]
    },
    {
     "name": "stdout",
     "output_type": "stream",
     "text": [
      "\u001b[36m[Ep 322] 392.5s | Loss: \u001b[32m2.8824\u001b[0m (L1: 0.0030, L2: 0.0030, NCE: 5.7467) | Test: RMSE=\u001b[32m0.0567\u001b[0m, MAE=\u001b[32m0.0448\u001b[0m\n",
      "  \u001b[33m↯ No improvement (21/50)\u001b[0m\n"
     ]
    },
    {
     "name": "stderr",
     "output_type": "stream",
     "text": [
      "Epoch 323/500 | Loss: \u001b[32m2.9339\u001b[0m Curr: 2.8502: |          | 151/? batches    \n"
     ]
    },
    {
     "name": "stdout",
     "output_type": "stream",
     "text": [
      "\u001b[36m[Ep 323] 393.7s | Loss: \u001b[32m2.9042\u001b[0m (L1: 0.0030, L2: 0.0030, NCE: 5.7903) | Test: RMSE=\u001b[32m0.0519\u001b[0m, MAE=\u001b[32m0.0408\u001b[0m\n",
      "  \u001b[33m↯ No improvement (22/50)\u001b[0m\n"
     ]
    },
    {
     "name": "stderr",
     "output_type": "stream",
     "text": [
      "Epoch 324/500 | Loss: \u001b[32m2.9210\u001b[0m Curr: 2.8668: |          | 151/? batches    \n"
     ]
    },
    {
     "name": "stdout",
     "output_type": "stream",
     "text": [
      "\u001b[36m[Ep 324] 394.9s | Loss: \u001b[32m2.9031\u001b[0m (L1: 0.0029, L2: 0.0029, NCE: 5.7890) | Test: RMSE=\u001b[32m0.0586\u001b[0m, MAE=\u001b[32m0.0454\u001b[0m\n",
      "  \u001b[33m↯ No improvement (23/50)\u001b[0m\n"
     ]
    },
    {
     "name": "stderr",
     "output_type": "stream",
     "text": [
      "Epoch 325/500 | Loss: \u001b[32m2.9210\u001b[0m Curr: 3.3047: |          | 151/? batches    \n"
     ]
    },
    {
     "name": "stdout",
     "output_type": "stream",
     "text": [
      "\u001b[36m[Ep 325] 396.1s | Loss: \u001b[32m2.8937\u001b[0m (L1: 0.0028, L2: 0.0028, NCE: 5.7706) | Test: RMSE=\u001b[32m0.0662\u001b[0m, MAE=\u001b[32m0.0537\u001b[0m\n",
      "  \u001b[33m↯ No improvement (24/50)\u001b[0m\n"
     ]
    },
    {
     "name": "stderr",
     "output_type": "stream",
     "text": [
      "Epoch 326/500 | Loss: \u001b[32m2.9222\u001b[0m Curr: 3.0770: |          | 151/? batches    \n"
     ]
    },
    {
     "name": "stdout",
     "output_type": "stream",
     "text": [
      "\u001b[36m[Ep 326] 397.2s | Loss: \u001b[32m2.9067\u001b[0m (L1: 0.0029, L2: 0.0029, NCE: 5.7957) | Test: RMSE=\u001b[32m0.0535\u001b[0m, MAE=\u001b[32m0.0421\u001b[0m\n",
      "  \u001b[33m↯ No improvement (25/50)\u001b[0m\n"
     ]
    },
    {
     "name": "stderr",
     "output_type": "stream",
     "text": [
      "Epoch 327/500 | Loss: \u001b[32m2.9016\u001b[0m Curr: 3.1694: |          | 151/? batches    \n"
     ]
    },
    {
     "name": "stdout",
     "output_type": "stream",
     "text": [
      "\u001b[36m[Ep 327] 398.4s | Loss: \u001b[32m2.8915\u001b[0m (L1: 0.0029, L2: 0.0029, NCE: 5.7654) | Test: RMSE=\u001b[32m0.0538\u001b[0m, MAE=\u001b[32m0.0428\u001b[0m\n",
      "  \u001b[33m↯ No improvement (26/50)\u001b[0m\n"
     ]
    },
    {
     "name": "stderr",
     "output_type": "stream",
     "text": [
      "Epoch 328/500 | Loss: \u001b[32m2.9294\u001b[0m Curr: 2.8802: |          | 151/? batches    \n"
     ]
    },
    {
     "name": "stdout",
     "output_type": "stream",
     "text": [
      "\u001b[36m[Ep 328] 399.6s | Loss: \u001b[32m2.9057\u001b[0m (L1: 0.0028, L2: 0.0028, NCE: 5.7949) | Test: RMSE=\u001b[32m0.0603\u001b[0m, MAE=\u001b[32m0.0472\u001b[0m\n",
      "  \u001b[33m↯ No improvement (27/50)\u001b[0m\n"
     ]
    },
    {
     "name": "stderr",
     "output_type": "stream",
     "text": [
      "Epoch 329/500 | Loss: \u001b[32m2.9180\u001b[0m Curr: 2.8260: |          | 151/? batches    \n"
     ]
    },
    {
     "name": "stdout",
     "output_type": "stream",
     "text": [
      "\u001b[36m[Ep 329] 400.9s | Loss: \u001b[32m2.9016\u001b[0m (L1: 0.0031, L2: 0.0031, NCE: 5.7847) | Test: RMSE=\u001b[32m0.0729\u001b[0m, MAE=\u001b[32m0.0583\u001b[0m\n",
      "  \u001b[33m↯ No improvement (28/50)\u001b[0m\n"
     ]
    },
    {
     "name": "stderr",
     "output_type": "stream",
     "text": [
      "Epoch 330/500 | Loss: \u001b[32m2.9205\u001b[0m Curr: 2.8103: |          | 151/? batches    \n"
     ]
    },
    {
     "name": "stdout",
     "output_type": "stream",
     "text": [
      "\u001b[36m[Ep 330] 402.1s | Loss: \u001b[32m2.8913\u001b[0m (L1: 0.0029, L2: 0.0029, NCE: 5.7651) | Test: RMSE=\u001b[32m0.0530\u001b[0m, MAE=\u001b[32m0.0414\u001b[0m\n",
      "  \u001b[33m↯ No improvement (29/50)\u001b[0m\n"
     ]
    },
    {
     "name": "stderr",
     "output_type": "stream",
     "text": [
      "Epoch 331/500 | Loss: \u001b[32m2.9057\u001b[0m Curr: 2.8591: |          | 151/? batches    \n"
     ]
    },
    {
     "name": "stdout",
     "output_type": "stream",
     "text": [
      "\u001b[36m[Ep 331] 403.3s | Loss: \u001b[32m2.8861\u001b[0m (L1: 0.0029, L2: 0.0029, NCE: 5.7550) | Test: RMSE=\u001b[32m0.0691\u001b[0m, MAE=\u001b[32m0.0543\u001b[0m\n",
      "  \u001b[33m↯ No improvement (30/50)\u001b[0m\n"
     ]
    },
    {
     "name": "stderr",
     "output_type": "stream",
     "text": [
      "Epoch 332/500 | Loss: \u001b[32m2.9651\u001b[0m Curr: 3.0450: |          | 151/? batches    \n"
     ]
    },
    {
     "name": "stdout",
     "output_type": "stream",
     "text": [
      "\u001b[36m[Ep 332] 404.5s | Loss: \u001b[32m2.9319\u001b[0m (L1: 0.0030, L2: 0.0030, NCE: 5.8458) | Test: RMSE=\u001b[32m0.0521\u001b[0m, MAE=\u001b[32m0.0412\u001b[0m\n",
      "  \u001b[33m↯ No improvement (31/50)\u001b[0m\n"
     ]
    },
    {
     "name": "stderr",
     "output_type": "stream",
     "text": [
      "Epoch 333/500 | Loss: \u001b[32m2.8918\u001b[0m Curr: 3.2242: |          | 151/? batches    \n"
     ]
    },
    {
     "name": "stdout",
     "output_type": "stream",
     "text": [
      "\u001b[36m[Ep 333] 405.6s | Loss: \u001b[32m2.8675\u001b[0m (L1: 0.0028, L2: 0.0028, NCE: 5.7181) | Test: RMSE=\u001b[32m0.0678\u001b[0m, MAE=\u001b[32m0.0537\u001b[0m\n",
      "  \u001b[33m↯ No improvement (32/50)\u001b[0m\n"
     ]
    },
    {
     "name": "stderr",
     "output_type": "stream",
     "text": [
      "Epoch 334/500 | Loss: \u001b[32m2.9622\u001b[0m Curr: 2.9999: |          | 151/? batches    \n"
     ]
    },
    {
     "name": "stdout",
     "output_type": "stream",
     "text": [
      "\u001b[36m[Ep 334] 406.8s | Loss: \u001b[32m2.9290\u001b[0m (L1: 0.0029, L2: 0.0029, NCE: 5.8404) | Test: RMSE=\u001b[32m0.0548\u001b[0m, MAE=\u001b[32m0.0436\u001b[0m\n",
      "  \u001b[33m↯ No improvement (33/50)\u001b[0m\n"
     ]
    },
    {
     "name": "stderr",
     "output_type": "stream",
     "text": [
      "Epoch 335/500 | Loss: \u001b[32m2.9429\u001b[0m Curr: 3.4467: |          | 151/? batches    \n"
     ]
    },
    {
     "name": "stdout",
     "output_type": "stream",
     "text": [
      "\u001b[36m[Ep 335] 408.1s | Loss: \u001b[32m2.9271\u001b[0m (L1: 0.0029, L2: 0.0029, NCE: 5.8370) | Test: RMSE=\u001b[32m0.0568\u001b[0m, MAE=\u001b[32m0.0443\u001b[0m\n",
      "  \u001b[33m↯ No improvement (34/50)\u001b[0m\n"
     ]
    },
    {
     "name": "stderr",
     "output_type": "stream",
     "text": [
      "Epoch 336/500 | Loss: \u001b[32m2.9260\u001b[0m Curr: 2.8353: |          | 151/? batches    \n"
     ]
    },
    {
     "name": "stdout",
     "output_type": "stream",
     "text": [
      "\u001b[36m[Ep 336] 409.3s | Loss: \u001b[32m2.9097\u001b[0m (L1: 0.0028, L2: 0.0028, NCE: 5.8028) | Test: RMSE=\u001b[32m0.0500\u001b[0m, MAE=\u001b[32m0.0392\u001b[0m\n",
      "  \u001b[35m★ Best RMSE! Model saved at bone_marrow_mb\u001b[0m\n"
     ]
    },
    {
     "name": "stderr",
     "output_type": "stream",
     "text": [
      "Epoch 337/500 | Loss: \u001b[32m2.9102\u001b[0m Curr: 2.7652: |          | 151/? batches    \n"
     ]
    },
    {
     "name": "stdout",
     "output_type": "stream",
     "text": [
      "\u001b[36m[Ep 337] 410.6s | Loss: \u001b[32m2.8903\u001b[0m (L1: 0.0028, L2: 0.0028, NCE: 5.7639) | Test: RMSE=\u001b[32m0.0648\u001b[0m, MAE=\u001b[32m0.0501\u001b[0m\n",
      "  \u001b[33m↯ No improvement (1/50)\u001b[0m\n"
     ]
    },
    {
     "name": "stderr",
     "output_type": "stream",
     "text": [
      "Epoch 338/500 | Loss: \u001b[32m2.8913\u001b[0m Curr: 2.7914: |          | 151/? batches    \n"
     ]
    },
    {
     "name": "stdout",
     "output_type": "stream",
     "text": [
      "\u001b[36m[Ep 338] 411.8s | Loss: \u001b[32m2.8745\u001b[0m (L1: 0.0031, L2: 0.0031, NCE: 5.7303) | Test: RMSE=\u001b[32m0.0507\u001b[0m, MAE=\u001b[32m0.0397\u001b[0m\n",
      "  \u001b[33m↯ No improvement (2/50)\u001b[0m\n"
     ]
    },
    {
     "name": "stderr",
     "output_type": "stream",
     "text": [
      "Epoch 339/500 | Loss: \u001b[32m2.9035\u001b[0m Curr: 3.1703: |          | 151/? batches    \n"
     ]
    },
    {
     "name": "stdout",
     "output_type": "stream",
     "text": [
      "\u001b[36m[Ep 339] 413.0s | Loss: \u001b[32m2.8821\u001b[0m (L1: 0.0028, L2: 0.0028, NCE: 5.7473) | Test: RMSE=\u001b[32m0.0641\u001b[0m, MAE=\u001b[32m0.0493\u001b[0m\n",
      "  \u001b[33m↯ No improvement (3/50)\u001b[0m\n"
     ]
    },
    {
     "name": "stderr",
     "output_type": "stream",
     "text": [
      "Epoch 340/500 | Loss: \u001b[32m2.8842\u001b[0m Curr: 2.8915: |          | 151/? batches    \n"
     ]
    },
    {
     "name": "stdout",
     "output_type": "stream",
     "text": [
      "\u001b[36m[Ep 340] 414.2s | Loss: \u001b[32m2.8635\u001b[0m (L1: 0.0029, L2: 0.0029, NCE: 5.7094) | Test: RMSE=\u001b[32m0.0551\u001b[0m, MAE=\u001b[32m0.0433\u001b[0m\n",
      "  \u001b[33m↯ No improvement (4/50)\u001b[0m\n"
     ]
    },
    {
     "name": "stderr",
     "output_type": "stream",
     "text": [
      "Epoch 341/500 | Loss: \u001b[32m2.9522\u001b[0m Curr: 2.9560: |          | 151/? batches    \n"
     ]
    },
    {
     "name": "stdout",
     "output_type": "stream",
     "text": [
      "\u001b[36m[Ep 341] 415.4s | Loss: \u001b[32m2.9264\u001b[0m (L1: 0.0028, L2: 0.0028, NCE: 5.8357) | Test: RMSE=\u001b[32m0.0605\u001b[0m, MAE=\u001b[32m0.0473\u001b[0m\n",
      "  \u001b[33m↯ No improvement (5/50)\u001b[0m\n"
     ]
    },
    {
     "name": "stderr",
     "output_type": "stream",
     "text": [
      "Epoch 342/500 | Loss: \u001b[32m2.9224\u001b[0m Curr: 3.1789: |          | 151/? batches    \n"
     ]
    },
    {
     "name": "stdout",
     "output_type": "stream",
     "text": [
      "\u001b[36m[Ep 342] 416.6s | Loss: \u001b[32m2.9065\u001b[0m (L1: 0.0028, L2: 0.0028, NCE: 5.7962) | Test: RMSE=\u001b[32m0.0613\u001b[0m, MAE=\u001b[32m0.0469\u001b[0m\n",
      "  \u001b[33m↯ No improvement (6/50)\u001b[0m\n"
     ]
    },
    {
     "name": "stderr",
     "output_type": "stream",
     "text": [
      "Epoch 343/500 | Loss: \u001b[32m2.9439\u001b[0m Curr: 2.7397: |          | 151/? batches    \n"
     ]
    },
    {
     "name": "stdout",
     "output_type": "stream",
     "text": [
      "\u001b[36m[Ep 343] 417.8s | Loss: \u001b[32m2.9224\u001b[0m (L1: 0.0029, L2: 0.0029, NCE: 5.8271) | Test: RMSE=\u001b[32m0.0574\u001b[0m, MAE=\u001b[32m0.0462\u001b[0m\n",
      "  \u001b[33m↯ No improvement (7/50)\u001b[0m\n"
     ]
    },
    {
     "name": "stderr",
     "output_type": "stream",
     "text": [
      "Epoch 344/500 | Loss: \u001b[32m2.8841\u001b[0m Curr: 2.8599: |          | 151/? batches    \n"
     ]
    },
    {
     "name": "stdout",
     "output_type": "stream",
     "text": [
      "\u001b[36m[Ep 344] 419.0s | Loss: \u001b[32m2.8579\u001b[0m (L1: 0.0028, L2: 0.0028, NCE: 5.6990) | Test: RMSE=\u001b[32m0.0571\u001b[0m, MAE=\u001b[32m0.0445\u001b[0m\n",
      "  \u001b[33m↯ No improvement (8/50)\u001b[0m\n"
     ]
    },
    {
     "name": "stderr",
     "output_type": "stream",
     "text": [
      "Epoch 345/500 | Loss: \u001b[32m2.9023\u001b[0m Curr: 3.0527: |          | 151/? batches    \n"
     ]
    },
    {
     "name": "stdout",
     "output_type": "stream",
     "text": [
      "\u001b[36m[Ep 345] 420.2s | Loss: \u001b[32m2.8831\u001b[0m (L1: 0.0029, L2: 0.0029, NCE: 5.7486) | Test: RMSE=\u001b[32m0.0519\u001b[0m, MAE=\u001b[32m0.0406\u001b[0m\n",
      "  \u001b[33m↯ No improvement (9/50)\u001b[0m\n"
     ]
    },
    {
     "name": "stderr",
     "output_type": "stream",
     "text": [
      "Epoch 346/500 | Loss: \u001b[32m2.9678\u001b[0m Curr: 2.9311: |          | 151/? batches    \n"
     ]
    },
    {
     "name": "stdout",
     "output_type": "stream",
     "text": [
      "\u001b[36m[Ep 346] 421.4s | Loss: \u001b[32m2.9468\u001b[0m (L1: 0.0028, L2: 0.0028, NCE: 5.8768) | Test: RMSE=\u001b[32m0.0528\u001b[0m, MAE=\u001b[32m0.0422\u001b[0m\n",
      "  \u001b[33m↯ No improvement (10/50)\u001b[0m\n"
     ]
    },
    {
     "name": "stderr",
     "output_type": "stream",
     "text": [
      "Epoch 347/500 | Loss: \u001b[32m2.8953\u001b[0m Curr: 3.0464: |          | 151/? batches    \n"
     ]
    },
    {
     "name": "stdout",
     "output_type": "stream",
     "text": [
      "\u001b[36m[Ep 347] 422.6s | Loss: \u001b[32m2.8724\u001b[0m (L1: 0.0028, L2: 0.0028, NCE: 5.7280) | Test: RMSE=\u001b[32m0.0545\u001b[0m, MAE=\u001b[32m0.0432\u001b[0m\n",
      "  \u001b[33m↯ No improvement (11/50)\u001b[0m\n"
     ]
    },
    {
     "name": "stderr",
     "output_type": "stream",
     "text": [
      "Epoch 348/500 | Loss: \u001b[32m2.9130\u001b[0m Curr: 2.8435: |          | 151/? batches    \n"
     ]
    },
    {
     "name": "stdout",
     "output_type": "stream",
     "text": [
      "\u001b[36m[Ep 348] 423.9s | Loss: \u001b[32m2.8932\u001b[0m (L1: 0.0029, L2: 0.0029, NCE: 5.7690) | Test: RMSE=\u001b[32m0.0621\u001b[0m, MAE=\u001b[32m0.0493\u001b[0m\n",
      "  \u001b[33m↯ No improvement (12/50)\u001b[0m\n"
     ]
    },
    {
     "name": "stderr",
     "output_type": "stream",
     "text": [
      "Epoch 349/500 | Loss: \u001b[32m2.9229\u001b[0m Curr: 2.8856: |          | 151/? batches    \n"
     ]
    },
    {
     "name": "stdout",
     "output_type": "stream",
     "text": [
      "\u001b[36m[Ep 349] 425.1s | Loss: \u001b[32m2.9158\u001b[0m (L1: 0.0029, L2: 0.0029, NCE: 5.8140) | Test: RMSE=\u001b[32m0.0687\u001b[0m, MAE=\u001b[32m0.0534\u001b[0m\n",
      "  \u001b[33m↯ No improvement (13/50)\u001b[0m\n"
     ]
    },
    {
     "name": "stderr",
     "output_type": "stream",
     "text": [
      "Epoch 350/500 | Loss: \u001b[32m2.9443\u001b[0m Curr: 3.0509: |          | 151/? batches    \n"
     ]
    },
    {
     "name": "stdout",
     "output_type": "stream",
     "text": [
      "\u001b[36m[Ep 350] 426.3s | Loss: \u001b[32m2.9201\u001b[0m (L1: 0.0029, L2: 0.0029, NCE: 5.8223) | Test: RMSE=\u001b[32m0.0581\u001b[0m, MAE=\u001b[32m0.0454\u001b[0m\n",
      "  \u001b[33m↯ No improvement (14/50)\u001b[0m\n"
     ]
    },
    {
     "name": "stderr",
     "output_type": "stream",
     "text": [
      "Epoch 351/500 | Loss: \u001b[32m2.9330\u001b[0m Curr: 3.0603: |          | 151/? batches    \n"
     ]
    },
    {
     "name": "stdout",
     "output_type": "stream",
     "text": [
      "\u001b[36m[Ep 351] 427.5s | Loss: \u001b[32m2.9189\u001b[0m (L1: 0.0028, L2: 0.0028, NCE: 5.8208) | Test: RMSE=\u001b[32m0.0570\u001b[0m, MAE=\u001b[32m0.0443\u001b[0m\n",
      "  \u001b[33m↯ No improvement (15/50)\u001b[0m\n"
     ]
    },
    {
     "name": "stderr",
     "output_type": "stream",
     "text": [
      "Epoch 352/500 | Loss: \u001b[32m2.9501\u001b[0m Curr: 2.8835: |          | 151/? batches    \n"
     ]
    },
    {
     "name": "stdout",
     "output_type": "stream",
     "text": [
      "\u001b[36m[Ep 352] 428.7s | Loss: \u001b[32m2.9318\u001b[0m (L1: 0.0029, L2: 0.0029, NCE: 5.8461) | Test: RMSE=\u001b[32m0.0588\u001b[0m, MAE=\u001b[32m0.0462\u001b[0m\n",
      "  \u001b[33m↯ No improvement (16/50)\u001b[0m\n"
     ]
    },
    {
     "name": "stderr",
     "output_type": "stream",
     "text": [
      "Epoch 353/500 | Loss: \u001b[32m2.9034\u001b[0m Curr: 2.7217: |          | 151/? batches    \n"
     ]
    },
    {
     "name": "stdout",
     "output_type": "stream",
     "text": [
      "\u001b[36m[Ep 353] 429.9s | Loss: \u001b[32m2.8997\u001b[0m (L1: 0.0027, L2: 0.0027, NCE: 5.7832) | Test: RMSE=\u001b[32m0.0549\u001b[0m, MAE=\u001b[32m0.0432\u001b[0m\n",
      "  \u001b[33m↯ No improvement (17/50)\u001b[0m\n"
     ]
    },
    {
     "name": "stderr",
     "output_type": "stream",
     "text": [
      "Epoch 354/500 | Loss: \u001b[32m2.9374\u001b[0m Curr: 2.9279: |          | 151/? batches    \n"
     ]
    },
    {
     "name": "stdout",
     "output_type": "stream",
     "text": [
      "\u001b[36m[Ep 354] 431.1s | Loss: \u001b[32m2.9096\u001b[0m (L1: 0.0028, L2: 0.0028, NCE: 5.8024) | Test: RMSE=\u001b[32m0.0535\u001b[0m, MAE=\u001b[32m0.0422\u001b[0m\n",
      "  \u001b[33m↯ No improvement (18/50)\u001b[0m\n"
     ]
    },
    {
     "name": "stderr",
     "output_type": "stream",
     "text": [
      "Epoch 355/500 | Loss: \u001b[32m2.9490\u001b[0m Curr: 3.0788: |          | 151/? batches    \n"
     ]
    },
    {
     "name": "stdout",
     "output_type": "stream",
     "text": [
      "\u001b[36m[Ep 355] 432.3s | Loss: \u001b[32m2.9264\u001b[0m (L1: 0.0028, L2: 0.0028, NCE: 5.8360) | Test: RMSE=\u001b[32m0.0564\u001b[0m, MAE=\u001b[32m0.0443\u001b[0m\n",
      "  \u001b[33m↯ No improvement (19/50)\u001b[0m\n"
     ]
    },
    {
     "name": "stderr",
     "output_type": "stream",
     "text": [
      "Epoch 356/500 | Loss: \u001b[32m2.9295\u001b[0m Curr: 3.1952: |          | 151/? batches    \n"
     ]
    },
    {
     "name": "stdout",
     "output_type": "stream",
     "text": [
      "\u001b[36m[Ep 356] 433.5s | Loss: \u001b[32m2.9181\u001b[0m (L1: 0.0029, L2: 0.0029, NCE: 5.8190) | Test: RMSE=\u001b[32m0.0561\u001b[0m, MAE=\u001b[32m0.0444\u001b[0m\n",
      "  \u001b[33m↯ No improvement (20/50)\u001b[0m\n"
     ]
    },
    {
     "name": "stderr",
     "output_type": "stream",
     "text": [
      "Epoch 357/500 | Loss: \u001b[32m2.9494\u001b[0m Curr: 2.9634: |          | 151/? batches    \n"
     ]
    },
    {
     "name": "stdout",
     "output_type": "stream",
     "text": [
      "\u001b[36m[Ep 357] 434.7s | Loss: \u001b[32m2.9255\u001b[0m (L1: 0.0029, L2: 0.0029, NCE: 5.8333) | Test: RMSE=\u001b[32m0.0619\u001b[0m, MAE=\u001b[32m0.0492\u001b[0m\n",
      "  \u001b[33m↯ No improvement (21/50)\u001b[0m\n"
     ]
    },
    {
     "name": "stderr",
     "output_type": "stream",
     "text": [
      "Epoch 358/500 | Loss: \u001b[32m2.9406\u001b[0m Curr: 2.6857: |          | 151/? batches    \n"
     ]
    },
    {
     "name": "stdout",
     "output_type": "stream",
     "text": [
      "\u001b[36m[Ep 358] 435.9s | Loss: \u001b[32m2.9176\u001b[0m (L1: 0.0029, L2: 0.0029, NCE: 5.8177) | Test: RMSE=\u001b[32m0.0514\u001b[0m, MAE=\u001b[32m0.0409\u001b[0m\n",
      "  \u001b[33m↯ No improvement (22/50)\u001b[0m\n"
     ]
    },
    {
     "name": "stderr",
     "output_type": "stream",
     "text": [
      "Epoch 359/500 | Loss: \u001b[32m2.9594\u001b[0m Curr: 2.9150: |          | 151/? batches    \n"
     ]
    },
    {
     "name": "stdout",
     "output_type": "stream",
     "text": [
      "\u001b[36m[Ep 359] 437.1s | Loss: \u001b[32m2.9436\u001b[0m (L1: 0.0027, L2: 0.0027, NCE: 5.8710) | Test: RMSE=\u001b[32m0.0582\u001b[0m, MAE=\u001b[32m0.0468\u001b[0m\n",
      "  \u001b[33m↯ No improvement (23/50)\u001b[0m\n"
     ]
    },
    {
     "name": "stderr",
     "output_type": "stream",
     "text": [
      "Epoch 360/500 | Loss: \u001b[32m2.9625\u001b[0m Curr: 3.1181: |          | 151/? batches    \n"
     ]
    },
    {
     "name": "stdout",
     "output_type": "stream",
     "text": [
      "\u001b[36m[Ep 360] 438.3s | Loss: \u001b[32m2.9226\u001b[0m (L1: 0.0029, L2: 0.0029, NCE: 5.8278) | Test: RMSE=\u001b[32m0.0544\u001b[0m, MAE=\u001b[32m0.0425\u001b[0m\n",
      "  \u001b[33m↯ No improvement (24/50)\u001b[0m\n"
     ]
    },
    {
     "name": "stderr",
     "output_type": "stream",
     "text": [
      "Epoch 361/500 | Loss: \u001b[32m2.9252\u001b[0m Curr: 2.8787: |          | 151/? batches    \n"
     ]
    },
    {
     "name": "stdout",
     "output_type": "stream",
     "text": [
      "\u001b[36m[Ep 361] 439.4s | Loss: \u001b[32m2.9154\u001b[0m (L1: 0.0028, L2: 0.0028, NCE: 5.8137) | Test: RMSE=\u001b[32m0.0623\u001b[0m, MAE=\u001b[32m0.0498\u001b[0m\n",
      "  \u001b[33m↯ No improvement (25/50)\u001b[0m\n"
     ]
    },
    {
     "name": "stderr",
     "output_type": "stream",
     "text": [
      "Epoch 362/500 | Loss: \u001b[32m2.9429\u001b[0m Curr: 2.8273: |          | 151/? batches    \n"
     ]
    },
    {
     "name": "stdout",
     "output_type": "stream",
     "text": [
      "\u001b[36m[Ep 362] 440.5s | Loss: \u001b[32m2.9205\u001b[0m (L1: 0.0028, L2: 0.0028, NCE: 5.8245) | Test: RMSE=\u001b[32m0.0692\u001b[0m, MAE=\u001b[32m0.0552\u001b[0m\n",
      "  \u001b[33m↯ No improvement (26/50)\u001b[0m\n"
     ]
    },
    {
     "name": "stderr",
     "output_type": "stream",
     "text": [
      "Epoch 363/500 | Loss: \u001b[32m2.9716\u001b[0m Curr: 3.4722: |          | 151/? batches    \n"
     ]
    },
    {
     "name": "stdout",
     "output_type": "stream",
     "text": [
      "\u001b[36m[Ep 363] 441.7s | Loss: \u001b[32m2.9446\u001b[0m (L1: 0.0029, L2: 0.0029, NCE: 5.8718) | Test: RMSE=\u001b[32m0.0527\u001b[0m, MAE=\u001b[32m0.0414\u001b[0m\n",
      "  \u001b[33m↯ No improvement (27/50)\u001b[0m\n"
     ]
    },
    {
     "name": "stderr",
     "output_type": "stream",
     "text": [
      "Epoch 364/500 | Loss: \u001b[32m2.9613\u001b[0m Curr: 2.7539: |          | 151/? batches    \n"
     ]
    },
    {
     "name": "stdout",
     "output_type": "stream",
     "text": [
      "\u001b[36m[Ep 364] 442.8s | Loss: \u001b[32m2.9474\u001b[0m (L1: 0.0029, L2: 0.0029, NCE: 5.8773) | Test: RMSE=\u001b[32m0.0599\u001b[0m, MAE=\u001b[32m0.0467\u001b[0m\n",
      "  \u001b[33m↯ No improvement (28/50)\u001b[0m\n"
     ]
    },
    {
     "name": "stderr",
     "output_type": "stream",
     "text": [
      "Epoch 365/500 | Loss: \u001b[32m2.9946\u001b[0m Curr: 2.9540: |          | 151/? batches    \n"
     ]
    },
    {
     "name": "stdout",
     "output_type": "stream",
     "text": [
      "\u001b[36m[Ep 365] 443.8s | Loss: \u001b[32m2.9777\u001b[0m (L1: 0.0028, L2: 0.0028, NCE: 5.9385) | Test: RMSE=\u001b[32m0.0635\u001b[0m, MAE=\u001b[32m0.0512\u001b[0m\n",
      "  \u001b[33m↯ No improvement (29/50)\u001b[0m\n"
     ]
    },
    {
     "name": "stderr",
     "output_type": "stream",
     "text": [
      "Epoch 366/500 | Loss: \u001b[32m2.9281\u001b[0m Curr: 3.2747: |          | 151/? batches    \n"
     ]
    },
    {
     "name": "stdout",
     "output_type": "stream",
     "text": [
      "\u001b[36m[Ep 366] 444.9s | Loss: \u001b[32m2.9124\u001b[0m (L1: 0.0029, L2: 0.0029, NCE: 5.8074) | Test: RMSE=\u001b[32m0.0509\u001b[0m, MAE=\u001b[32m0.0399\u001b[0m\n",
      "  \u001b[33m↯ No improvement (30/50)\u001b[0m\n"
     ]
    },
    {
     "name": "stderr",
     "output_type": "stream",
     "text": [
      "Epoch 367/500 | Loss: \u001b[32m2.9453\u001b[0m Curr: 2.7483: |          | 151/? batches    \n"
     ]
    },
    {
     "name": "stdout",
     "output_type": "stream",
     "text": [
      "\u001b[36m[Ep 367] 446.0s | Loss: \u001b[32m2.9154\u001b[0m (L1: 0.0028, L2: 0.0028, NCE: 5.8137) | Test: RMSE=\u001b[32m0.0601\u001b[0m, MAE=\u001b[32m0.0458\u001b[0m\n",
      "  \u001b[33m↯ No improvement (31/50)\u001b[0m\n"
     ]
    },
    {
     "name": "stderr",
     "output_type": "stream",
     "text": [
      "Epoch 368/500 | Loss: \u001b[32m3.0282\u001b[0m Curr: 2.9470: |          | 151/? batches    \n"
     ]
    },
    {
     "name": "stdout",
     "output_type": "stream",
     "text": [
      "\u001b[36m[Ep 368] 447.2s | Loss: \u001b[32m3.0185\u001b[0m (L1: 0.0029, L2: 0.0029, NCE: 6.0197) | Test: RMSE=\u001b[32m0.0671\u001b[0m, MAE=\u001b[32m0.0513\u001b[0m\n",
      "  \u001b[33m↯ No improvement (32/50)\u001b[0m\n"
     ]
    },
    {
     "name": "stderr",
     "output_type": "stream",
     "text": [
      "Epoch 369/500 | Loss: \u001b[32m3.0034\u001b[0m Curr: 2.6529: |          | 151/? batches    \n"
     ]
    },
    {
     "name": "stdout",
     "output_type": "stream",
     "text": [
      "\u001b[36m[Ep 369] 448.4s | Loss: \u001b[32m2.9803\u001b[0m (L1: 0.0029, L2: 0.0029, NCE: 5.9430) | Test: RMSE=\u001b[32m0.0577\u001b[0m, MAE=\u001b[32m0.0465\u001b[0m\n",
      "  \u001b[33m↯ No improvement (33/50)\u001b[0m\n"
     ]
    },
    {
     "name": "stderr",
     "output_type": "stream",
     "text": [
      "Epoch 370/500 | Loss: \u001b[32m2.9699\u001b[0m Curr: 2.7598: |          | 151/? batches    \n"
     ]
    },
    {
     "name": "stdout",
     "output_type": "stream",
     "text": [
      "\u001b[36m[Ep 370] 449.7s | Loss: \u001b[32m2.9519\u001b[0m (L1: 0.0029, L2: 0.0029, NCE: 5.8866) | Test: RMSE=\u001b[32m0.0698\u001b[0m, MAE=\u001b[32m0.0548\u001b[0m\n",
      "  \u001b[33m↯ No improvement (34/50)\u001b[0m\n"
     ]
    },
    {
     "name": "stderr",
     "output_type": "stream",
     "text": [
      "Epoch 371/500 | Loss: \u001b[32m2.9365\u001b[0m Curr: 3.0345: |          | 151/? batches    \n"
     ]
    },
    {
     "name": "stdout",
     "output_type": "stream",
     "text": [
      "\u001b[36m[Ep 371] 451.0s | Loss: \u001b[32m2.9133\u001b[0m (L1: 0.0030, L2: 0.0030, NCE: 5.8081) | Test: RMSE=\u001b[32m0.0512\u001b[0m, MAE=\u001b[32m0.0401\u001b[0m\n",
      "  \u001b[33m↯ No improvement (35/50)\u001b[0m\n"
     ]
    },
    {
     "name": "stderr",
     "output_type": "stream",
     "text": [
      "Epoch 372/500 | Loss: \u001b[32m2.9412\u001b[0m Curr: 2.8305: |          | 151/? batches    \n"
     ]
    },
    {
     "name": "stdout",
     "output_type": "stream",
     "text": [
      "\u001b[36m[Ep 372] 452.2s | Loss: \u001b[32m2.9248\u001b[0m (L1: 0.0028, L2: 0.0028, NCE: 5.8330) | Test: RMSE=\u001b[32m0.0639\u001b[0m, MAE=\u001b[32m0.0495\u001b[0m\n",
      "  \u001b[33m↯ No improvement (36/50)\u001b[0m\n"
     ]
    },
    {
     "name": "stderr",
     "output_type": "stream",
     "text": [
      "Epoch 373/500 | Loss: \u001b[32m2.9753\u001b[0m Curr: 2.9853: |          | 151/? batches    \n"
     ]
    },
    {
     "name": "stdout",
     "output_type": "stream",
     "text": [
      "\u001b[36m[Ep 373] 453.4s | Loss: \u001b[32m2.9548\u001b[0m (L1: 0.0028, L2: 0.0028, NCE: 5.8924) | Test: RMSE=\u001b[32m0.0541\u001b[0m, MAE=\u001b[32m0.0422\u001b[0m\n",
      "  \u001b[33m↯ No improvement (37/50)\u001b[0m\n"
     ]
    },
    {
     "name": "stderr",
     "output_type": "stream",
     "text": [
      "Epoch 374/500 | Loss: \u001b[32m2.9406\u001b[0m Curr: 3.2196: |          | 151/? batches    \n"
     ]
    },
    {
     "name": "stdout",
     "output_type": "stream",
     "text": [
      "\u001b[36m[Ep 374] 454.6s | Loss: \u001b[32m2.9300\u001b[0m (L1: 0.0028, L2: 0.0028, NCE: 5.8429) | Test: RMSE=\u001b[32m0.0629\u001b[0m, MAE=\u001b[32m0.0495\u001b[0m\n",
      "  \u001b[33m↯ No improvement (38/50)\u001b[0m\n"
     ]
    },
    {
     "name": "stderr",
     "output_type": "stream",
     "text": [
      "Epoch 375/500 | Loss: \u001b[32m2.9602\u001b[0m Curr: 2.9414: |          | 151/? batches    \n"
     ]
    },
    {
     "name": "stdout",
     "output_type": "stream",
     "text": [
      "\u001b[36m[Ep 375] 455.9s | Loss: \u001b[32m2.9293\u001b[0m (L1: 0.0028, L2: 0.0028, NCE: 5.8414) | Test: RMSE=\u001b[32m0.0598\u001b[0m, MAE=\u001b[32m0.0463\u001b[0m\n",
      "  \u001b[33m↯ No improvement (39/50)\u001b[0m\n"
     ]
    },
    {
     "name": "stderr",
     "output_type": "stream",
     "text": [
      "Epoch 376/500 | Loss: \u001b[32m3.0053\u001b[0m Curr: 3.2838: |          | 151/? batches    \n"
     ]
    },
    {
     "name": "stdout",
     "output_type": "stream",
     "text": [
      "\u001b[36m[Ep 376] 457.1s | Loss: \u001b[32m2.9747\u001b[0m (L1: 0.0032, L2: 0.0032, NCE: 5.9300) | Test: RMSE=\u001b[32m0.0658\u001b[0m, MAE=\u001b[32m0.0535\u001b[0m\n",
      "  \u001b[33m↯ No improvement (40/50)\u001b[0m\n"
     ]
    },
    {
     "name": "stderr",
     "output_type": "stream",
     "text": [
      "Epoch 377/500 | Loss: \u001b[32m2.9972\u001b[0m Curr: 3.1900: |          | 151/? batches    \n"
     ]
    },
    {
     "name": "stdout",
     "output_type": "stream",
     "text": [
      "\u001b[36m[Ep 377] 458.2s | Loss: \u001b[32m2.9824\u001b[0m (L1: 0.0029, L2: 0.0029, NCE: 5.9475) | Test: RMSE=\u001b[32m0.0580\u001b[0m, MAE=\u001b[32m0.0457\u001b[0m\n",
      "  \u001b[33m↯ No improvement (41/50)\u001b[0m\n"
     ]
    },
    {
     "name": "stderr",
     "output_type": "stream",
     "text": [
      "Epoch 378/500 | Loss: \u001b[32m2.9772\u001b[0m Curr: 2.8246: |          | 151/? batches    \n"
     ]
    },
    {
     "name": "stdout",
     "output_type": "stream",
     "text": [
      "\u001b[36m[Ep 378] 459.4s | Loss: \u001b[32m2.9489\u001b[0m (L1: 0.0028, L2: 0.0028, NCE: 5.8810) | Test: RMSE=\u001b[32m0.0589\u001b[0m, MAE=\u001b[32m0.0458\u001b[0m\n",
      "  \u001b[33m↯ No improvement (42/50)\u001b[0m\n"
     ]
    },
    {
     "name": "stderr",
     "output_type": "stream",
     "text": [
      "Epoch 379/500 | Loss: \u001b[32m2.9587\u001b[0m Curr: 2.9668: |          | 151/? batches    \n"
     ]
    },
    {
     "name": "stdout",
     "output_type": "stream",
     "text": [
      "\u001b[36m[Ep 379] 460.6s | Loss: \u001b[32m2.9508\u001b[0m (L1: 0.0028, L2: 0.0028, NCE: 5.8850) | Test: RMSE=\u001b[32m0.0497\u001b[0m, MAE=\u001b[32m0.0389\u001b[0m\n",
      "  \u001b[35m★ Best RMSE! Model saved at bone_marrow_mb\u001b[0m\n"
     ]
    },
    {
     "name": "stderr",
     "output_type": "stream",
     "text": [
      "Epoch 380/500 | Loss: \u001b[32m2.9818\u001b[0m Curr: 2.8364: |          | 151/? batches    \n"
     ]
    },
    {
     "name": "stdout",
     "output_type": "stream",
     "text": [
      "\u001b[36m[Ep 380] 461.7s | Loss: \u001b[32m2.9651\u001b[0m (L1: 0.0029, L2: 0.0029, NCE: 5.9128) | Test: RMSE=\u001b[32m0.0527\u001b[0m, MAE=\u001b[32m0.0408\u001b[0m\n",
      "  \u001b[33m↯ No improvement (1/50)\u001b[0m\n"
     ]
    },
    {
     "name": "stderr",
     "output_type": "stream",
     "text": [
      "Epoch 381/500 | Loss: \u001b[32m2.9862\u001b[0m Curr: 2.8937: |          | 151/? batches    \n"
     ]
    },
    {
     "name": "stdout",
     "output_type": "stream",
     "text": [
      "\u001b[36m[Ep 381] 463.0s | Loss: \u001b[32m2.9609\u001b[0m (L1: 0.0032, L2: 0.0032, NCE: 5.9026) | Test: RMSE=\u001b[32m0.0564\u001b[0m, MAE=\u001b[32m0.0454\u001b[0m\n",
      "  \u001b[33m↯ No improvement (2/50)\u001b[0m\n"
     ]
    },
    {
     "name": "stderr",
     "output_type": "stream",
     "text": [
      "Epoch 382/500 | Loss: \u001b[32m2.9408\u001b[0m Curr: 2.9124: |          | 151/? batches    \n"
     ]
    },
    {
     "name": "stdout",
     "output_type": "stream",
     "text": [
      "\u001b[36m[Ep 382] 464.2s | Loss: \u001b[32m2.9215\u001b[0m (L1: 0.0030, L2: 0.0030, NCE: 5.8249) | Test: RMSE=\u001b[32m0.0610\u001b[0m, MAE=\u001b[32m0.0490\u001b[0m\n",
      "  \u001b[33m↯ No improvement (3/50)\u001b[0m\n"
     ]
    },
    {
     "name": "stderr",
     "output_type": "stream",
     "text": [
      "Epoch 383/500 | Loss: \u001b[32m3.0095\u001b[0m Curr: 3.1732: |          | 151/? batches    \n"
     ]
    },
    {
     "name": "stdout",
     "output_type": "stream",
     "text": [
      "\u001b[36m[Ep 383] 465.5s | Loss: \u001b[32m2.9878\u001b[0m (L1: 0.0030, L2: 0.0029, NCE: 5.9577) | Test: RMSE=\u001b[32m0.0593\u001b[0m, MAE=\u001b[32m0.0467\u001b[0m\n",
      "  \u001b[33m↯ No improvement (4/50)\u001b[0m\n"
     ]
    },
    {
     "name": "stderr",
     "output_type": "stream",
     "text": [
      "Epoch 384/500 | Loss: \u001b[32m2.9586\u001b[0m Curr: 2.6354: |          | 151/? batches    \n"
     ]
    },
    {
     "name": "stdout",
     "output_type": "stream",
     "text": [
      "\u001b[36m[Ep 384] 466.7s | Loss: \u001b[32m2.9446\u001b[0m (L1: 0.0028, L2: 0.0028, NCE: 5.8722) | Test: RMSE=\u001b[32m0.0544\u001b[0m, MAE=\u001b[32m0.0428\u001b[0m\n",
      "  \u001b[33m↯ No improvement (5/50)\u001b[0m\n"
     ]
    },
    {
     "name": "stderr",
     "output_type": "stream",
     "text": [
      "Epoch 385/500 | Loss: \u001b[32m2.9638\u001b[0m Curr: 2.9712: |          | 151/? batches    \n"
     ]
    },
    {
     "name": "stdout",
     "output_type": "stream",
     "text": [
      "\u001b[36m[Ep 385] 468.0s | Loss: \u001b[32m2.9410\u001b[0m (L1: 0.0028, L2: 0.0028, NCE: 5.8653) | Test: RMSE=\u001b[32m0.0534\u001b[0m, MAE=\u001b[32m0.0419\u001b[0m\n",
      "  \u001b[33m↯ No improvement (6/50)\u001b[0m\n"
     ]
    },
    {
     "name": "stderr",
     "output_type": "stream",
     "text": [
      "Epoch 386/500 | Loss: \u001b[32m2.9851\u001b[0m Curr: 2.9781: |          | 151/? batches    \n"
     ]
    },
    {
     "name": "stdout",
     "output_type": "stream",
     "text": [
      "\u001b[36m[Ep 386] 469.2s | Loss: \u001b[32m2.9666\u001b[0m (L1: 0.0029, L2: 0.0028, NCE: 5.9161) | Test: RMSE=\u001b[32m0.0566\u001b[0m, MAE=\u001b[32m0.0445\u001b[0m\n",
      "  \u001b[33m↯ No improvement (7/50)\u001b[0m\n"
     ]
    },
    {
     "name": "stderr",
     "output_type": "stream",
     "text": [
      "Epoch 387/500 | Loss: \u001b[32m2.9594\u001b[0m Curr: 2.9593: |          | 151/? batches    \n"
     ]
    },
    {
     "name": "stdout",
     "output_type": "stream",
     "text": [
      "\u001b[36m[Ep 387] 470.3s | Loss: \u001b[32m2.9348\u001b[0m (L1: 0.0028, L2: 0.0028, NCE: 5.8529) | Test: RMSE=\u001b[32m0.0526\u001b[0m, MAE=\u001b[32m0.0414\u001b[0m\n",
      "  \u001b[33m↯ No improvement (8/50)\u001b[0m\n"
     ]
    },
    {
     "name": "stderr",
     "output_type": "stream",
     "text": [
      "Epoch 388/500 | Loss: \u001b[32m2.9373\u001b[0m Curr: 2.5546: |          | 151/? batches    \n"
     ]
    },
    {
     "name": "stdout",
     "output_type": "stream",
     "text": [
      "\u001b[36m[Ep 388] 471.5s | Loss: \u001b[32m2.9305\u001b[0m (L1: 0.0029, L2: 0.0029, NCE: 5.8436) | Test: RMSE=\u001b[32m0.0540\u001b[0m, MAE=\u001b[32m0.0421\u001b[0m\n",
      "  \u001b[33m↯ No improvement (9/50)\u001b[0m\n"
     ]
    },
    {
     "name": "stderr",
     "output_type": "stream",
     "text": [
      "Epoch 389/500 | Loss: \u001b[32m2.9724\u001b[0m Curr: 2.9220: |          | 151/? batches    \n"
     ]
    },
    {
     "name": "stdout",
     "output_type": "stream",
     "text": [
      "\u001b[36m[Ep 389] 472.7s | Loss: \u001b[32m2.9493\u001b[0m (L1: 0.0028, L2: 0.0028, NCE: 5.8818) | Test: RMSE=\u001b[32m0.0559\u001b[0m, MAE=\u001b[32m0.0435\u001b[0m\n",
      "  \u001b[33m↯ No improvement (10/50)\u001b[0m\n"
     ]
    },
    {
     "name": "stderr",
     "output_type": "stream",
     "text": [
      "Epoch 390/500 | Loss: \u001b[32m2.9622\u001b[0m Curr: 2.9195: |          | 151/? batches    \n"
     ]
    },
    {
     "name": "stdout",
     "output_type": "stream",
     "text": [
      "\u001b[36m[Ep 390] 474.0s | Loss: \u001b[32m2.9417\u001b[0m (L1: 0.0028, L2: 0.0028, NCE: 5.8665) | Test: RMSE=\u001b[32m0.0637\u001b[0m, MAE=\u001b[32m0.0496\u001b[0m\n",
      "  \u001b[33m↯ No improvement (11/50)\u001b[0m\n"
     ]
    },
    {
     "name": "stderr",
     "output_type": "stream",
     "text": [
      "Epoch 391/500 | Loss: \u001b[32m2.9512\u001b[0m Curr: 2.5747: |          | 151/? batches    \n"
     ]
    },
    {
     "name": "stdout",
     "output_type": "stream",
     "text": [
      "\u001b[36m[Ep 391] 475.2s | Loss: \u001b[32m2.9337\u001b[0m (L1: 0.0030, L2: 0.0030, NCE: 5.8487) | Test: RMSE=\u001b[32m0.0584\u001b[0m, MAE=\u001b[32m0.0473\u001b[0m\n",
      "  \u001b[33m↯ No improvement (12/50)\u001b[0m\n"
     ]
    },
    {
     "name": "stderr",
     "output_type": "stream",
     "text": [
      "Epoch 392/500 | Loss: \u001b[32m2.9651\u001b[0m Curr: 3.0229: |          | 151/? batches    \n"
     ]
    },
    {
     "name": "stdout",
     "output_type": "stream",
     "text": [
      "\u001b[36m[Ep 392] 476.4s | Loss: \u001b[32m2.9480\u001b[0m (L1: 0.0029, L2: 0.0029, NCE: 5.8785) | Test: RMSE=\u001b[32m0.0529\u001b[0m, MAE=\u001b[32m0.0419\u001b[0m\n",
      "  \u001b[33m↯ No improvement (13/50)\u001b[0m\n"
     ]
    },
    {
     "name": "stderr",
     "output_type": "stream",
     "text": [
      "Epoch 393/500 | Loss: \u001b[32m2.9680\u001b[0m Curr: 3.0720: |          | 151/? batches    \n"
     ]
    },
    {
     "name": "stdout",
     "output_type": "stream",
     "text": [
      "\u001b[36m[Ep 393] 477.6s | Loss: \u001b[32m2.9502\u001b[0m (L1: 0.0029, L2: 0.0029, NCE: 5.8831) | Test: RMSE=\u001b[32m0.0570\u001b[0m, MAE=\u001b[32m0.0446\u001b[0m\n",
      "  \u001b[33m↯ No improvement (14/50)\u001b[0m\n"
     ]
    },
    {
     "name": "stderr",
     "output_type": "stream",
     "text": [
      "Epoch 394/500 | Loss: \u001b[32m2.9873\u001b[0m Curr: 2.8225: |          | 151/? batches    \n"
     ]
    },
    {
     "name": "stdout",
     "output_type": "stream",
     "text": [
      "\u001b[36m[Ep 394] 478.7s | Loss: \u001b[32m2.9575\u001b[0m (L1: 0.0029, L2: 0.0029, NCE: 5.8973) | Test: RMSE=\u001b[32m0.0559\u001b[0m, MAE=\u001b[32m0.0443\u001b[0m\n",
      "  \u001b[33m↯ No improvement (15/50)\u001b[0m\n"
     ]
    },
    {
     "name": "stderr",
     "output_type": "stream",
     "text": [
      "Epoch 395/500 | Loss: \u001b[32m2.9794\u001b[0m Curr: 3.3329: |          | 151/? batches    \n"
     ]
    },
    {
     "name": "stdout",
     "output_type": "stream",
     "text": [
      "\u001b[36m[Ep 395] 479.9s | Loss: \u001b[32m2.9609\u001b[0m (L1: 0.0029, L2: 0.0029, NCE: 5.9046) | Test: RMSE=\u001b[32m0.0593\u001b[0m, MAE=\u001b[32m0.0470\u001b[0m\n",
      "  \u001b[33m↯ No improvement (16/50)\u001b[0m\n"
     ]
    },
    {
     "name": "stderr",
     "output_type": "stream",
     "text": [
      "Epoch 396/500 | Loss: \u001b[32m2.9814\u001b[0m Curr: 2.8854: |          | 151/? batches    \n"
     ]
    },
    {
     "name": "stdout",
     "output_type": "stream",
     "text": [
      "\u001b[36m[Ep 396] 481.1s | Loss: \u001b[32m2.9601\u001b[0m (L1: 0.0028, L2: 0.0027, NCE: 5.9036) | Test: RMSE=\u001b[32m0.0536\u001b[0m, MAE=\u001b[32m0.0415\u001b[0m\n",
      "  \u001b[33m↯ No improvement (17/50)\u001b[0m\n"
     ]
    },
    {
     "name": "stderr",
     "output_type": "stream",
     "text": [
      "Epoch 397/500 | Loss: \u001b[32m3.0174\u001b[0m Curr: 3.2590: |          | 151/? batches    \n"
     ]
    },
    {
     "name": "stdout",
     "output_type": "stream",
     "text": [
      "\u001b[36m[Ep 397] 482.2s | Loss: \u001b[32m2.9951\u001b[0m (L1: 0.0028, L2: 0.0028, NCE: 5.9735) | Test: RMSE=\u001b[32m0.0627\u001b[0m, MAE=\u001b[32m0.0505\u001b[0m\n",
      "  \u001b[33m↯ No improvement (18/50)\u001b[0m\n"
     ]
    },
    {
     "name": "stderr",
     "output_type": "stream",
     "text": [
      "Epoch 398/500 | Loss: \u001b[32m2.9414\u001b[0m Curr: 2.5765: |          | 151/? batches    \n"
     ]
    },
    {
     "name": "stdout",
     "output_type": "stream",
     "text": [
      "\u001b[36m[Ep 398] 483.3s | Loss: \u001b[32m2.9280\u001b[0m (L1: 0.0029, L2: 0.0029, NCE: 5.8388) | Test: RMSE=\u001b[32m0.0612\u001b[0m, MAE=\u001b[32m0.0493\u001b[0m\n",
      "  \u001b[33m↯ No improvement (19/50)\u001b[0m\n"
     ]
    },
    {
     "name": "stderr",
     "output_type": "stream",
     "text": [
      "Epoch 399/500 | Loss: \u001b[32m2.9572\u001b[0m Curr: 2.6128: |          | 151/? batches    \n"
     ]
    },
    {
     "name": "stdout",
     "output_type": "stream",
     "text": [
      "\u001b[36m[Ep 399] 484.5s | Loss: \u001b[32m2.9421\u001b[0m (L1: 0.0027, L2: 0.0027, NCE: 5.8678) | Test: RMSE=\u001b[32m0.0585\u001b[0m, MAE=\u001b[32m0.0459\u001b[0m\n",
      "  \u001b[33m↯ No improvement (20/50)\u001b[0m\n"
     ]
    },
    {
     "name": "stderr",
     "output_type": "stream",
     "text": [
      "Epoch 400/500 | Loss: \u001b[32m2.9648\u001b[0m Curr: 2.7998: |          | 151/? batches    \n"
     ]
    },
    {
     "name": "stdout",
     "output_type": "stream",
     "text": [
      "\u001b[36m[Ep 400] 485.6s | Loss: \u001b[32m2.9450\u001b[0m (L1: 0.0027, L2: 0.0027, NCE: 5.8739) | Test: RMSE=\u001b[32m0.0540\u001b[0m, MAE=\u001b[32m0.0420\u001b[0m\n",
      "  \u001b[33m↯ No improvement (21/50)\u001b[0m\n"
     ]
    },
    {
     "name": "stderr",
     "output_type": "stream",
     "text": [
      "Epoch 401/500 | Loss: \u001b[32m2.9498\u001b[0m Curr: 2.8923: |          | 151/? batches    \n"
     ]
    },
    {
     "name": "stdout",
     "output_type": "stream",
     "text": [
      "\u001b[36m[Ep 401] 486.8s | Loss: \u001b[32m2.9395\u001b[0m (L1: 0.0030, L2: 0.0030, NCE: 5.8608) | Test: RMSE=\u001b[32m0.0571\u001b[0m, MAE=\u001b[32m0.0454\u001b[0m\n",
      "  \u001b[33m↯ No improvement (22/50)\u001b[0m\n"
     ]
    },
    {
     "name": "stderr",
     "output_type": "stream",
     "text": [
      "Epoch 402/500 | Loss: \u001b[32m2.9607\u001b[0m Curr: 2.9715: |          | 151/? batches    \n"
     ]
    },
    {
     "name": "stdout",
     "output_type": "stream",
     "text": [
      "\u001b[36m[Ep 402] 487.9s | Loss: \u001b[32m2.9397\u001b[0m (L1: 0.0027, L2: 0.0028, NCE: 5.8627) | Test: RMSE=\u001b[32m0.0500\u001b[0m, MAE=\u001b[32m0.0396\u001b[0m\n",
      "  \u001b[33m↯ No improvement (23/50)\u001b[0m\n"
     ]
    },
    {
     "name": "stderr",
     "output_type": "stream",
     "text": [
      "Epoch 403/500 | Loss: \u001b[32m2.9614\u001b[0m Curr: 2.9764: |          | 151/? batches    \n"
     ]
    },
    {
     "name": "stdout",
     "output_type": "stream",
     "text": [
      "\u001b[36m[Ep 403] 489.0s | Loss: \u001b[32m2.9501\u001b[0m (L1: 0.0027, L2: 0.0027, NCE: 5.8839) | Test: RMSE=\u001b[32m0.0521\u001b[0m, MAE=\u001b[32m0.0411\u001b[0m\n",
      "  \u001b[33m↯ No improvement (24/50)\u001b[0m\n"
     ]
    },
    {
     "name": "stderr",
     "output_type": "stream",
     "text": [
      "Epoch 404/500 | Loss: \u001b[32m2.9787\u001b[0m Curr: 2.9197: |          | 151/? batches    \n"
     ]
    },
    {
     "name": "stdout",
     "output_type": "stream",
     "text": [
      "\u001b[36m[Ep 404] 489.9s | Loss: \u001b[32m2.9640\u001b[0m (L1: 0.0028, L2: 0.0028, NCE: 5.9110) | Test: RMSE=\u001b[32m0.0574\u001b[0m, MAE=\u001b[32m0.0448\u001b[0m\n",
      "  \u001b[33m↯ No improvement (25/50)\u001b[0m\n"
     ]
    },
    {
     "name": "stderr",
     "output_type": "stream",
     "text": [
      "Epoch 405/500 | Loss: \u001b[32m2.9575\u001b[0m Curr: 3.1723: |          | 151/? batches    \n"
     ]
    },
    {
     "name": "stdout",
     "output_type": "stream",
     "text": [
      "\u001b[36m[Ep 405] 491.1s | Loss: \u001b[32m2.9436\u001b[0m (L1: 0.0028, L2: 0.0028, NCE: 5.8704) | Test: RMSE=\u001b[32m0.0577\u001b[0m, MAE=\u001b[32m0.0444\u001b[0m\n",
      "  \u001b[33m↯ No improvement (26/50)\u001b[0m\n"
     ]
    },
    {
     "name": "stderr",
     "output_type": "stream",
     "text": [
      "Epoch 406/500 | Loss: \u001b[32m2.9320\u001b[0m Curr: 2.9870: |          | 151/? batches    \n"
     ]
    },
    {
     "name": "stdout",
     "output_type": "stream",
     "text": [
      "\u001b[36m[Ep 406] 492.3s | Loss: \u001b[32m2.9174\u001b[0m (L1: 0.0028, L2: 0.0028, NCE: 5.8180) | Test: RMSE=\u001b[32m0.0533\u001b[0m, MAE=\u001b[32m0.0425\u001b[0m\n",
      "  \u001b[33m↯ No improvement (27/50)\u001b[0m\n"
     ]
    },
    {
     "name": "stderr",
     "output_type": "stream",
     "text": [
      "Epoch 407/500 | Loss: \u001b[32m2.9959\u001b[0m Curr: 3.1803: |          | 151/? batches    \n"
     ]
    },
    {
     "name": "stdout",
     "output_type": "stream",
     "text": [
      "\u001b[36m[Ep 407] 493.5s | Loss: \u001b[32m2.9848\u001b[0m (L1: 0.0029, L2: 0.0029, NCE: 5.9521) | Test: RMSE=\u001b[32m0.0641\u001b[0m, MAE=\u001b[32m0.0512\u001b[0m\n",
      "  \u001b[33m↯ No improvement (28/50)\u001b[0m\n"
     ]
    },
    {
     "name": "stderr",
     "output_type": "stream",
     "text": [
      "Epoch 408/500 | Loss: \u001b[32m2.9312\u001b[0m Curr: 2.6932: |          | 151/? batches    \n"
     ]
    },
    {
     "name": "stdout",
     "output_type": "stream",
     "text": [
      "\u001b[36m[Ep 408] 494.6s | Loss: \u001b[32m2.9163\u001b[0m (L1: 0.0029, L2: 0.0029, NCE: 5.8153) | Test: RMSE=\u001b[32m0.0617\u001b[0m, MAE=\u001b[32m0.0495\u001b[0m\n",
      "  \u001b[33m↯ No improvement (29/50)\u001b[0m\n"
     ]
    },
    {
     "name": "stderr",
     "output_type": "stream",
     "text": [
      "Epoch 409/500 | Loss: \u001b[32m2.9722\u001b[0m Curr: 3.1401: |          | 151/? batches    \n"
     ]
    },
    {
     "name": "stdout",
     "output_type": "stream",
     "text": [
      "\u001b[36m[Ep 409] 495.8s | Loss: \u001b[32m2.9648\u001b[0m (L1: 0.0029, L2: 0.0028, NCE: 5.9124) | Test: RMSE=\u001b[32m0.0580\u001b[0m, MAE=\u001b[32m0.0456\u001b[0m\n",
      "  \u001b[33m↯ No improvement (30/50)\u001b[0m\n"
     ]
    },
    {
     "name": "stderr",
     "output_type": "stream",
     "text": [
      "Epoch 410/500 | Loss: \u001b[32m2.9703\u001b[0m Curr: 3.0453: |          | 151/? batches    \n"
     ]
    },
    {
     "name": "stdout",
     "output_type": "stream",
     "text": [
      "\u001b[36m[Ep 410] 496.9s | Loss: \u001b[32m2.9564\u001b[0m (L1: 0.0029, L2: 0.0030, NCE: 5.8951) | Test: RMSE=\u001b[32m0.0585\u001b[0m, MAE=\u001b[32m0.0465\u001b[0m\n",
      "  \u001b[33m↯ No improvement (31/50)\u001b[0m\n"
     ]
    },
    {
     "name": "stderr",
     "output_type": "stream",
     "text": [
      "Epoch 411/500 | Loss: \u001b[32m2.9728\u001b[0m Curr: 2.8666: |          | 151/? batches    \n"
     ]
    },
    {
     "name": "stdout",
     "output_type": "stream",
     "text": [
      "\u001b[36m[Ep 411] 497.9s | Loss: \u001b[32m2.9556\u001b[0m (L1: 0.0028, L2: 0.0028, NCE: 5.8941) | Test: RMSE=\u001b[32m0.0538\u001b[0m, MAE=\u001b[32m0.0420\u001b[0m\n",
      "  \u001b[33m↯ No improvement (32/50)\u001b[0m\n"
     ]
    },
    {
     "name": "stderr",
     "output_type": "stream",
     "text": [
      "Epoch 412/500 | Loss: \u001b[32m3.0042\u001b[0m Curr: 3.1532: |          | 151/? batches    \n"
     ]
    },
    {
     "name": "stdout",
     "output_type": "stream",
     "text": [
      "\u001b[36m[Ep 412] 499.0s | Loss: \u001b[32m2.9806\u001b[0m (L1: 0.0028, L2: 0.0028, NCE: 5.9439) | Test: RMSE=\u001b[32m0.0515\u001b[0m, MAE=\u001b[32m0.0406\u001b[0m\n",
      "  \u001b[33m↯ No improvement (33/50)\u001b[0m\n"
     ]
    },
    {
     "name": "stderr",
     "output_type": "stream",
     "text": [
      "Epoch 413/500 | Loss: \u001b[32m2.9671\u001b[0m Curr: 2.8398: |          | 151/? batches    \n"
     ]
    },
    {
     "name": "stdout",
     "output_type": "stream",
     "text": [
      "\u001b[36m[Ep 413] 500.1s | Loss: \u001b[32m2.9428\u001b[0m (L1: 0.0028, L2: 0.0028, NCE: 5.8689) | Test: RMSE=\u001b[32m0.0546\u001b[0m, MAE=\u001b[32m0.0429\u001b[0m\n",
      "  \u001b[33m↯ No improvement (34/50)\u001b[0m\n"
     ]
    },
    {
     "name": "stderr",
     "output_type": "stream",
     "text": [
      "Epoch 414/500 | Loss: \u001b[32m2.9966\u001b[0m Curr: 2.9814: |          | 151/? batches    \n"
     ]
    },
    {
     "name": "stdout",
     "output_type": "stream",
     "text": [
      "\u001b[36m[Ep 414] 501.1s | Loss: \u001b[32m2.9820\u001b[0m (L1: 0.0028, L2: 0.0028, NCE: 5.9469) | Test: RMSE=\u001b[32m0.0601\u001b[0m, MAE=\u001b[32m0.0474\u001b[0m\n",
      "  \u001b[33m↯ No improvement (35/50)\u001b[0m\n"
     ]
    },
    {
     "name": "stderr",
     "output_type": "stream",
     "text": [
      "Epoch 415/500 | Loss: \u001b[32m2.9748\u001b[0m Curr: 2.9779: |          | 151/? batches    \n"
     ]
    },
    {
     "name": "stdout",
     "output_type": "stream",
     "text": [
      "\u001b[36m[Ep 415] 502.2s | Loss: \u001b[32m2.9548\u001b[0m (L1: 0.0027, L2: 0.0027, NCE: 5.8931) | Test: RMSE=\u001b[32m0.0618\u001b[0m, MAE=\u001b[32m0.0503\u001b[0m\n",
      "  \u001b[33m↯ No improvement (36/50)\u001b[0m\n"
     ]
    },
    {
     "name": "stderr",
     "output_type": "stream",
     "text": [
      "Epoch 416/500 | Loss: \u001b[32m3.0123\u001b[0m Curr: 2.9672: |          | 151/? batches    \n"
     ]
    },
    {
     "name": "stdout",
     "output_type": "stream",
     "text": [
      "\u001b[36m[Ep 416] 503.3s | Loss: \u001b[32m2.9832\u001b[0m (L1: 0.0028, L2: 0.0028, NCE: 5.9494) | Test: RMSE=\u001b[32m0.0589\u001b[0m, MAE=\u001b[32m0.0456\u001b[0m\n",
      "  \u001b[33m↯ No improvement (37/50)\u001b[0m\n"
     ]
    },
    {
     "name": "stderr",
     "output_type": "stream",
     "text": [
      "Epoch 417/500 | Loss: \u001b[32m2.9776\u001b[0m Curr: 2.7468: |          | 151/? batches    \n"
     ]
    },
    {
     "name": "stdout",
     "output_type": "stream",
     "text": [
      "\u001b[36m[Ep 417] 504.4s | Loss: \u001b[32m2.9538\u001b[0m (L1: 0.0027, L2: 0.0027, NCE: 5.8914) | Test: RMSE=\u001b[32m0.0503\u001b[0m, MAE=\u001b[32m0.0397\u001b[0m\n",
      "  \u001b[33m↯ No improvement (38/50)\u001b[0m\n"
     ]
    },
    {
     "name": "stderr",
     "output_type": "stream",
     "text": [
      "Epoch 418/500 | Loss: \u001b[32m3.0056\u001b[0m Curr: 2.7338: |          | 151/? batches    \n"
     ]
    },
    {
     "name": "stdout",
     "output_type": "stream",
     "text": [
      "\u001b[36m[Ep 418] 505.5s | Loss: \u001b[32m2.9852\u001b[0m (L1: 0.0028, L2: 0.0028, NCE: 5.9538) | Test: RMSE=\u001b[32m0.0591\u001b[0m, MAE=\u001b[32m0.0456\u001b[0m\n",
      "  \u001b[33m↯ No improvement (39/50)\u001b[0m\n"
     ]
    },
    {
     "name": "stderr",
     "output_type": "stream",
     "text": [
      "Epoch 419/500 | Loss: \u001b[32m3.0256\u001b[0m Curr: 2.8607: |          | 151/? batches    \n"
     ]
    },
    {
     "name": "stdout",
     "output_type": "stream",
     "text": [
      "\u001b[36m[Ep 419] 506.6s | Loss: \u001b[32m2.9876\u001b[0m (L1: 0.0031, L2: 0.0031, NCE: 5.9559) | Test: RMSE=\u001b[32m0.0578\u001b[0m, MAE=\u001b[32m0.0453\u001b[0m\n",
      "  \u001b[33m↯ No improvement (40/50)\u001b[0m\n"
     ]
    },
    {
     "name": "stderr",
     "output_type": "stream",
     "text": [
      "Epoch 420/500 | Loss: \u001b[32m2.9903\u001b[0m Curr: 3.0502: |          | 151/? batches    \n"
     ]
    },
    {
     "name": "stdout",
     "output_type": "stream",
     "text": [
      "\u001b[36m[Ep 420] 507.7s | Loss: \u001b[32m2.9745\u001b[0m (L1: 0.0028, L2: 0.0028, NCE: 5.9318) | Test: RMSE=\u001b[32m0.0629\u001b[0m, MAE=\u001b[32m0.0493\u001b[0m\n",
      "  \u001b[33m↯ No improvement (41/50)\u001b[0m\n"
     ]
    },
    {
     "name": "stderr",
     "output_type": "stream",
     "text": [
      "Epoch 421/500 | Loss: \u001b[32m3.0085\u001b[0m Curr: 2.9524: |          | 151/? batches    \n"
     ]
    },
    {
     "name": "stdout",
     "output_type": "stream",
     "text": [
      "\u001b[36m[Ep 421] 508.9s | Loss: \u001b[32m2.9897\u001b[0m (L1: 0.0028, L2: 0.0028, NCE: 5.9626) | Test: RMSE=\u001b[32m0.0594\u001b[0m, MAE=\u001b[32m0.0485\u001b[0m\n",
      "  \u001b[33m↯ No improvement (42/50)\u001b[0m\n"
     ]
    },
    {
     "name": "stderr",
     "output_type": "stream",
     "text": [
      "Epoch 422/500 | Loss: \u001b[32m2.9868\u001b[0m Curr: 3.3510: |          | 151/? batches    \n"
     ]
    },
    {
     "name": "stdout",
     "output_type": "stream",
     "text": [
      "\u001b[36m[Ep 422] 510.1s | Loss: \u001b[32m2.9636\u001b[0m (L1: 0.0027, L2: 0.0027, NCE: 5.9108) | Test: RMSE=\u001b[32m0.0509\u001b[0m, MAE=\u001b[32m0.0397\u001b[0m\n",
      "  \u001b[33m↯ No improvement (43/50)\u001b[0m\n"
     ]
    },
    {
     "name": "stderr",
     "output_type": "stream",
     "text": [
      "Epoch 423/500 | Loss: \u001b[32m3.0153\u001b[0m Curr: 2.9182: |          | 151/? batches    \n"
     ]
    },
    {
     "name": "stdout",
     "output_type": "stream",
     "text": [
      "\u001b[36m[Ep 423] 511.3s | Loss: \u001b[32m2.9962\u001b[0m (L1: 0.0028, L2: 0.0028, NCE: 5.9756) | Test: RMSE=\u001b[32m0.0552\u001b[0m, MAE=\u001b[32m0.0425\u001b[0m\n",
      "  \u001b[33m↯ No improvement (44/50)\u001b[0m\n"
     ]
    },
    {
     "name": "stderr",
     "output_type": "stream",
     "text": [
      "Epoch 424/500 | Loss: \u001b[32m2.9509\u001b[0m Curr: 3.0373: |          | 151/? batches    \n"
     ]
    },
    {
     "name": "stdout",
     "output_type": "stream",
     "text": [
      "\u001b[36m[Ep 424] 512.6s | Loss: \u001b[32m2.9324\u001b[0m (L1: 0.0027, L2: 0.0027, NCE: 5.8483) | Test: RMSE=\u001b[32m0.0561\u001b[0m, MAE=\u001b[32m0.0438\u001b[0m\n",
      "  \u001b[33m↯ No improvement (45/50)\u001b[0m\n"
     ]
    },
    {
     "name": "stderr",
     "output_type": "stream",
     "text": [
      "Epoch 425/500 | Loss: \u001b[32m3.0454\u001b[0m Curr: 3.1732: |          | 151/? batches    \n"
     ]
    },
    {
     "name": "stdout",
     "output_type": "stream",
     "text": [
      "\u001b[36m[Ep 425] 513.8s | Loss: \u001b[32m3.0234\u001b[0m (L1: 0.0026, L2: 0.0026, NCE: 6.0315) | Test: RMSE=\u001b[32m0.0499\u001b[0m, MAE=\u001b[32m0.0388\u001b[0m\n",
      "  \u001b[33m↯ No improvement (46/50)\u001b[0m\n"
     ]
    },
    {
     "name": "stderr",
     "output_type": "stream",
     "text": [
      "Epoch 426/500 | Loss: \u001b[32m3.0243\u001b[0m Curr: 3.0675: |          | 151/? batches    \n"
     ]
    },
    {
     "name": "stdout",
     "output_type": "stream",
     "text": [
      "\u001b[36m[Ep 426] 515.1s | Loss: \u001b[32m2.9995\u001b[0m (L1: 0.0027, L2: 0.0027, NCE: 5.9830) | Test: RMSE=\u001b[32m0.0562\u001b[0m, MAE=\u001b[32m0.0449\u001b[0m\n",
      "  \u001b[33m↯ No improvement (47/50)\u001b[0m\n"
     ]
    },
    {
     "name": "stderr",
     "output_type": "stream",
     "text": [
      "Epoch 427/500 | Loss: \u001b[32m3.0463\u001b[0m Curr: 3.2039: |          | 151/? batches    \n"
     ]
    },
    {
     "name": "stdout",
     "output_type": "stream",
     "text": [
      "\u001b[36m[Ep 427] 516.3s | Loss: \u001b[32m3.0251\u001b[0m (L1: 0.0028, L2: 0.0028, NCE: 6.0336) | Test: RMSE=\u001b[32m0.0499\u001b[0m, MAE=\u001b[32m0.0389\u001b[0m\n",
      "  \u001b[33m↯ No improvement (48/50)\u001b[0m\n"
     ]
    },
    {
     "name": "stderr",
     "output_type": "stream",
     "text": [
      "Epoch 428/500 | Loss: \u001b[32m3.0204\u001b[0m Curr: 2.9945: |          | 151/? batches    \n"
     ]
    },
    {
     "name": "stdout",
     "output_type": "stream",
     "text": [
      "\u001b[36m[Ep 428] 517.5s | Loss: \u001b[32m3.0118\u001b[0m (L1: 0.0027, L2: 0.0027, NCE: 6.0075) | Test: RMSE=\u001b[32m0.0504\u001b[0m, MAE=\u001b[32m0.0398\u001b[0m\n",
      "  \u001b[33m↯ No improvement (49/50)\u001b[0m\n"
     ]
    },
    {
     "name": "stderr",
     "output_type": "stream",
     "text": [
      "Epoch 429/500 | Loss: \u001b[32m3.0112\u001b[0m Curr: 3.0040: |          | 151/? batches    "
     ]
    },
    {
     "name": "stdout",
     "output_type": "stream",
     "text": [
      "\u001b[36m[Ep 429] 518.8s | Loss: \u001b[32m2.9895\u001b[0m (L1: 0.0026, L2: 0.0026, NCE: 5.9631) | Test: RMSE=\u001b[32m0.0664\u001b[0m, MAE=\u001b[32m0.0509\u001b[0m\n",
      "  \u001b[33m↯ No improvement (50/50)\u001b[0m\n",
      "\u001b[36m\n",
      "Early stopping triggered at epoch 429!\n",
      "Best RMSE achieved: 0.0497\u001b[0m\n",
      "\n",
      "\n",
      "\u001b[36m===== Training Complete! =====\n",
      "Total training time: 518.8 seconds\n",
      "Best epoch: 379 with RMSE = 0.0497\n",
      "Final results: RMSE=0.0664, MAE=0.0509\n",
      "==============================\n",
      "\u001b[0m\n"
     ]
    },
    {
     "name": "stderr",
     "output_type": "stream",
     "text": [
      "\n"
     ]
    }
   ],
   "source": [
    "# Skip training Stage 2 and directly train Stage 3\n",
    "loss1_list, loss2_list, nce_loss_list, total_list = model.train_model(model_save_name, True, patience)"
   ]
  },
  {
   "cell_type": "code",
   "execution_count": 15,
   "id": "b2efb4ef-6bb2-4ddf-bef4-474f68f9072d",
   "metadata": {
    "tags": []
   },
   "outputs": [
    {
     "data": {
      "text/plain": [
       "(0.8080067244154101, 0.06551918271747084, 0.8163028002015478)"
      ]
     },
     "execution_count": 15,
     "metadata": {},
     "output_type": "execute_result"
    }
   ],
   "source": [
    "model_test = MBdeconv(num_MB, feat_map_w, feat_map_h, num_cell_type, epoches, Alpha, Beta, train_dataloader, test_dataloader)\n",
    "model_test.load_state_dict(torch.load('save_models/107/bone_marrow_mb.pt'))\n",
    "device = torch.device(\"cuda\" if torch.cuda.is_available() else \"cpu\")\n",
    "model_test.to(device)\n",
    "model_test.eval()\n",
    "CCC, RMSE, Corr, pred, gt = predict(test_dataloader, type_list, model_test, True)\n",
    "CCC, RMSE, Corr"
   ]
  },
  {
   "cell_type": "code",
   "execution_count": null,
   "id": "91844553-a59c-49c6-9bad-2bf5abd6d24a",
   "metadata": {},
   "outputs": [],
   "source": []
  }
 ],
 "metadata": {
  "kernelspec": {
   "display_name": "Python 3 (ipykernel)",
   "language": "python",
   "name": "python3"
  },
  "language_info": {
   "codemirror_mode": {
    "name": "ipython",
    "version": 3
   },
   "file_extension": ".py",
   "mimetype": "text/x-python",
   "name": "python",
   "nbconvert_exporter": "python",
   "pygments_lexer": "ipython3",
   "version": "3.8.10"
  }
 },
 "nbformat": 4,
 "nbformat_minor": 5
}
